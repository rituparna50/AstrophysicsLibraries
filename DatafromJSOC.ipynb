{
  "nbformat": 4,
  "nbformat_minor": 0,
  "metadata": {
    "colab": {
      "provenance": [],
      "authorship_tag": "ABX9TyPfBuAwfzvbM+bj+4tutUZN",
      "include_colab_link": true
    },
    "kernelspec": {
      "name": "python3",
      "display_name": "Python 3"
    },
    "language_info": {
      "name": "python"
    }
  },
  "cells": [
    {
      "cell_type": "markdown",
      "metadata": {
        "id": "view-in-github",
        "colab_type": "text"
      },
      "source": [
        "<a href=\"https://colab.research.google.com/github/rituparna50/AstrophysicsLibraries/blob/main/DatafromJSOC.ipynb\" target=\"_parent\"><img src=\"https://colab.research.google.com/assets/colab-badge.svg\" alt=\"Open In Colab\"/></a>"
      ]
    },
    {
      "cell_type": "markdown",
      "source": [
        "# **Finding and Downloading Data from JSOC**\n",
        "\n",
        "JSOC contains data products from the SDO. These data are available from the JSOC database, which can be accessed through the [GUI JSOC interface.](https://http://jsoc.stanford.edu/ajax/lookdata.html)\n",
        "\n",
        "Using sunpy's JSOC client to query for JSOC data and make export requests. It uses drms module as its backend.\n",
        "\n",
        "There are 2 ways of downloading JSOC data. One way is using sunpy's unified search interface, known as Fido. Fido supplies a single, easy and consisent wy to get most data related to solar physics.  \n",
        "\n",
        "An alternate way to obtain data from JSOC is by using the inderlying JSCO client. This option can be preferred when you need to separate the staging and downloading steps, which is not supported by Fido.\n",
        "\n",
        "The JSOC stages data before you can download it, so a JSOC query is a three stage process. First you query the JSOC for records and a table of these records is printed. Then you can request these records to be staged for download and then youo can download the,. Fido combines the last two stages into a signel call to **fetch**."
      ],
      "metadata": {
        "id": "DdoaDoH9_b4j"
      }
    },
    {
      "cell_type": "markdown",
      "source": [
        "## SetUp\n",
        "\n",
        "Sunpy's Fido module is in **sunpy.net**\n"
      ],
      "metadata": {
        "id": "EAuIsnqzILzY"
      }
    },
    {
      "cell_type": "code",
      "source": [
        "!pip install sunpy\n",
        "!pip install drms\n",
        "!pip install zeep"
      ],
      "metadata": {
        "colab": {
          "base_uri": "https://localhost:8080/"
        },
        "id": "S2VOoTuwIWE8",
        "outputId": "18c73f6c-aa22-4e3b-e555-18eb6a43dfde"
      },
      "execution_count": 5,
      "outputs": [
        {
          "output_type": "stream",
          "name": "stdout",
          "text": [
            "Requirement already satisfied: sunpy in /usr/local/lib/python3.10/dist-packages (5.0.0)\n",
            "Requirement already satisfied: astropy>=5.0.1 in /usr/local/lib/python3.10/dist-packages (from sunpy) (5.2.2)\n",
            "Requirement already satisfied: numpy>=1.21.0 in /usr/local/lib/python3.10/dist-packages (from sunpy) (1.22.4)\n",
            "Requirement already satisfied: packaging>=19.0 in /usr/local/lib/python3.10/dist-packages (from sunpy) (23.1)\n",
            "Requirement already satisfied: parfive[ftp]>=2.0.0 in /usr/local/lib/python3.10/dist-packages (from sunpy) (2.0.2)\n",
            "Requirement already satisfied: pyerfa>=2.0 in /usr/local/lib/python3.10/dist-packages (from astropy>=5.0.1->sunpy) (2.0.0.3)\n",
            "Requirement already satisfied: PyYAML>=3.13 in /usr/local/lib/python3.10/dist-packages (from astropy>=5.0.1->sunpy) (6.0)\n",
            "Requirement already satisfied: tqdm>=4.27.0 in /usr/local/lib/python3.10/dist-packages (from parfive[ftp]>=2.0.0->sunpy) (4.65.0)\n",
            "Requirement already satisfied: aiohttp in /usr/local/lib/python3.10/dist-packages (from parfive[ftp]>=2.0.0->sunpy) (3.8.4)\n",
            "Requirement already satisfied: aioftp>=0.17.1 in /usr/local/lib/python3.10/dist-packages (from parfive[ftp]>=2.0.0->sunpy) (0.21.4)\n",
            "Requirement already satisfied: attrs>=17.3.0 in /usr/local/lib/python3.10/dist-packages (from aiohttp->parfive[ftp]>=2.0.0->sunpy) (23.1.0)\n",
            "Requirement already satisfied: charset-normalizer<4.0,>=2.0 in /usr/local/lib/python3.10/dist-packages (from aiohttp->parfive[ftp]>=2.0.0->sunpy) (2.0.12)\n",
            "Requirement already satisfied: multidict<7.0,>=4.5 in /usr/local/lib/python3.10/dist-packages (from aiohttp->parfive[ftp]>=2.0.0->sunpy) (6.0.4)\n",
            "Requirement already satisfied: async-timeout<5.0,>=4.0.0a3 in /usr/local/lib/python3.10/dist-packages (from aiohttp->parfive[ftp]>=2.0.0->sunpy) (4.0.2)\n",
            "Requirement already satisfied: yarl<2.0,>=1.0 in /usr/local/lib/python3.10/dist-packages (from aiohttp->parfive[ftp]>=2.0.0->sunpy) (1.9.2)\n",
            "Requirement already satisfied: frozenlist>=1.1.1 in /usr/local/lib/python3.10/dist-packages (from aiohttp->parfive[ftp]>=2.0.0->sunpy) (1.3.3)\n",
            "Requirement already satisfied: aiosignal>=1.1.2 in /usr/local/lib/python3.10/dist-packages (from aiohttp->parfive[ftp]>=2.0.0->sunpy) (1.3.1)\n",
            "Requirement already satisfied: idna>=2.0 in /usr/local/lib/python3.10/dist-packages (from yarl<2.0,>=1.0->aiohttp->parfive[ftp]>=2.0.0->sunpy) (3.4)\n",
            "Collecting drms\n",
            "  Downloading drms-0.6.4-py3-none-any.whl (36 kB)\n",
            "Requirement already satisfied: numpy in /usr/local/lib/python3.10/dist-packages (from drms) (1.22.4)\n",
            "Requirement already satisfied: pandas in /usr/local/lib/python3.10/dist-packages (from drms) (1.5.3)\n",
            "Requirement already satisfied: python-dateutil>=2.8.1 in /usr/local/lib/python3.10/dist-packages (from pandas->drms) (2.8.2)\n",
            "Requirement already satisfied: pytz>=2020.1 in /usr/local/lib/python3.10/dist-packages (from pandas->drms) (2022.7.1)\n",
            "Requirement already satisfied: six>=1.5 in /usr/local/lib/python3.10/dist-packages (from python-dateutil>=2.8.1->pandas->drms) (1.16.0)\n",
            "Installing collected packages: drms\n",
            "Successfully installed drms-0.6.4\n",
            "Requirement already satisfied: zeep in /usr/local/lib/python3.10/dist-packages (4.2.1)\n",
            "Requirement already satisfied: attrs>=17.2.0 in /usr/local/lib/python3.10/dist-packages (from zeep) (23.1.0)\n",
            "Requirement already satisfied: isodate>=0.5.4 in /usr/local/lib/python3.10/dist-packages (from zeep) (0.6.1)\n",
            "Requirement already satisfied: lxml>=4.6.0 in /usr/local/lib/python3.10/dist-packages (from zeep) (4.9.3)\n",
            "Requirement already satisfied: platformdirs>=1.4.0 in /usr/local/lib/python3.10/dist-packages (from zeep) (3.8.1)\n",
            "Requirement already satisfied: requests>=2.7.0 in /usr/local/lib/python3.10/dist-packages (from zeep) (2.27.1)\n",
            "Requirement already satisfied: requests-toolbelt>=0.7.1 in /usr/local/lib/python3.10/dist-packages (from zeep) (1.0.0)\n",
            "Requirement already satisfied: requests-file>=1.5.1 in /usr/local/lib/python3.10/dist-packages (from zeep) (1.5.1)\n",
            "Requirement already satisfied: pytz in /usr/local/lib/python3.10/dist-packages (from zeep) (2022.7.1)\n",
            "Requirement already satisfied: six in /usr/local/lib/python3.10/dist-packages (from isodate>=0.5.4->zeep) (1.16.0)\n",
            "Requirement already satisfied: urllib3<1.27,>=1.21.1 in /usr/local/lib/python3.10/dist-packages (from requests>=2.7.0->zeep) (1.26.16)\n",
            "Requirement already satisfied: certifi>=2017.4.17 in /usr/local/lib/python3.10/dist-packages (from requests>=2.7.0->zeep) (2023.5.7)\n",
            "Requirement already satisfied: charset-normalizer~=2.0.0 in /usr/local/lib/python3.10/dist-packages (from requests>=2.7.0->zeep) (2.0.12)\n",
            "Requirement already satisfied: idna<4,>=2.5 in /usr/local/lib/python3.10/dist-packages (from requests>=2.7.0->zeep) (3.4)\n"
          ]
        }
      ]
    },
    {
      "cell_type": "code",
      "source": [
        "from sunpy.net import Fido, attrs as a"
      ],
      "metadata": {
        "id": "48L0aYXNImMJ"
      },
      "execution_count": 6,
      "outputs": []
    },
    {
      "cell_type": "markdown",
      "source": [
        "The JSOC clent handles the particulars of how the data from the data provider is downloaded to the individual's computer."
      ],
      "metadata": {
        "id": "TYItHTp7IaNt"
      }
    },
    {
      "cell_type": "markdown",
      "source": [
        "# **Querying the JSOC**\n",
        "\n",
        "In order to search for data in JSOC, your query needs at minimum, a \"Series\" name and a \"PrimeKey\""
      ],
      "metadata": {
        "id": "9UKIs-K_I87H"
      }
    },
    {
      "cell_type": "code",
      "source": [
        "print(a.jsoc.Series)"
      ],
      "metadata": {
        "colab": {
          "base_uri": "https://localhost:8080/"
        },
        "id": "4mPLS6cCJG1g",
        "outputId": "e42b2cb7-3bcb-4cde-c579-fa9fdae3c2b6"
      },
      "execution_count": 7,
      "outputs": [
        {
          "output_type": "stream",
          "name": "stdout",
          "text": [
            "sunpy.net.jsoc.attrs.Series\n",
            "\n",
            "The JSOC Series to Download.\n",
            "\n",
            "          Attribute Name           ...\n",
            "---------------------------------- ...\n",
            "aia_flatfield                      ...\n",
            "aia_lev1                           ...\n",
            "aia_lev1_euv_12s                   ...\n",
            "aia_lev1_uv_24s                    ...\n",
            "aia_lev1_vis_1h                    ...\n",
            "aia_master_pointing3h              ...\n",
            "aia_response                       ...\n",
            "aia_temperature_summary_300s       ...\n",
            "hmi_b_135s                         ...\n",
            "hmi_b_5760s                        ...\n",
            "hmi_b_720s                         ...\n",
            "hmi_b_720s_dcon                    ...\n",
            "hmi_b_720s_dcons                   ...\n",
            "hmi_b_720s_e15w1332_cea            ...\n",
            "hmi_b_720s_e15w1332_cutout         ...\n",
            "hmi_b_90s                          ...\n",
            "hmi_b_synoptic                     ...\n",
            "hmi_b_synoptic_small               ...\n",
            "hmi_bharp_720s                     ...\n",
            "hmi_bharp_720s_nrt                 ...\n",
            "hmi_bmap_lowres_latlon_720s        ...\n",
            "hmi_c_avg120                       ...\n",
            "hmi_coefficients                   ...\n",
            "hmi_eigenfunctions                 ...\n",
            "hmi_flatfield                      ...\n",
            "hmi_fsi_phase_lon_lat              ...\n",
            "hmi_fsi_phase_lon_lat_5d           ...\n",
            "hmi_fsvbinned_nrt                  ...\n",
            "hmi_gcvbinned_nrt                  ...\n",
            "hmi_hskernels                      ...\n",
            "hmi_ic_45s                         ...\n",
            "hmi_ic_45s_dcon                    ...\n",
            "hmi_ic_720s                        ...\n",
            "hmi_ic_720s_dcon                   ...\n",
            "hmi_ic_720s_dcons                  ...\n",
            "hmi_ic_nolimbdark_720s             ...\n",
            "hmi_ic_nolimbdark_720s_nrt         ...\n",
            "hmi_ld_45s                         ...\n",
            "hmi_ld_45s_dcon                    ...\n",
            "hmi_ld_720s                        ...\n",
            "hmi_ld_720s_dcon                   ...\n",
            "hmi_ld_720s_dcons                  ...\n",
            "hmi_leakage                        ...\n",
            "hmi_lev1_cal                       ...\n",
            "hmi_lev1_dcon                      ...\n",
            "hmi_location_45s                   ...\n",
            "hmi_location_720s                  ...\n",
            "hmi_lookup_chebycoef_bnoise        ...\n",
            "hmi_lookup_corrected_expanded      ...\n",
            "hmi_lookup_expanded                ...\n",
            "hmi_lw_45s                         ...\n",
            "hmi_lw_45s_dcon                    ...\n",
            "hmi_lw_720s                        ...\n",
            "hmi_lw_720s_dcon                   ...\n",
            "hmi_lw_720s_dcons                  ...\n",
            "hmi_m_45s                          ...\n",
            "hmi_m_45s_dcon                     ...\n",
            "hmi_m_720s                         ...\n",
            "hmi_m_720s_dcon                    ...\n",
            "hmi_m_720s_dcons                   ...\n",
            "hmi_m_720s_mod                     ...\n",
            "hmi_m_720s_nrt                     ...\n",
            "hmi_marmask_720s                   ...\n",
            "hmi_marmask_720s_nrt               ...\n",
            "hmi_me_135s                        ...\n",
            "hmi_me_5760s                       ...\n",
            "hmi_me_720s_e15w1332               ...\n",
            "hmi_me_720s_e15w1332_harp          ...\n",
            "hmi_me_720s_fd10                   ...\n",
            "hmi_me_720s_fd10_dcon              ...\n",
            "hmi_me_720s_fd10_harp              ...\n",
            "hmi_me_720s_fd10_harp_nrt          ...\n",
            "hmi_me_720s_fd10_nrt               ...\n",
            "hmi_me_90s                         ...\n",
            "hmi_meanpf_720s                    ...\n",
            "hmi_meharp_720s                    ...\n",
            "hmi_meharp_720s_nrt                ...\n",
            "hmi_mharp_720s                     ...\n",
            "hmi_mharp_720s_nrt                 ...\n",
            "hmi_mhdcorona                      ...\n",
            "hmi_mhdcorona_daily                ...\n",
            "hmi_mhdcorona_daily_nrt            ...\n",
            "hmi_mldailysynframe_720s           ...\n",
            "hmi_mldailysynframe_720s_nrt       ...\n",
            "hmi_mldailysynframe_small_720s     ...\n",
            "hmi_mldailysynframe_small_720s_nrt ...\n",
            "hmi_mlsynop_small_720s             ...\n",
            "hmi_mrdailysynframe_720s           ...\n",
            "hmi_mrdailysynframe_720s_nrt       ...\n",
            "hmi_mrdailysynframe_polfil_720s    ...\n",
            "hmi_mrdailysynframe_small_720s     ...\n",
            "hmi_mrdailysynframe_small_720s_nrt ...\n",
            "hmi_mrmap_latlon_720s              ...\n",
            "hmi_mrmap_latlon_720s_nrt          ...\n",
            "hmi_mrmap_lowres_latlon_720s       ...\n",
            "hmi_mrsynop_small_720s             ...\n",
            "hmi_offpoint_flatfield             ...\n",
            "hmi_pfss_synframe                  ...\n",
            "hmi_pfss_synop                     ...\n",
            "hmi_phasemaps_extended             ...\n",
            "hmi_polar_db                       ...\n",
            "hmi_q_synframe                     ...\n",
            "hmi_q_synop                        ...\n",
            "hmi_rdmai_fd05                     ...\n",
            "hmi_rdmai_fd15                     ...\n",
            "hmi_rdmai_fd30                     ...\n",
            "hmi_rdvavgpspec_fd15               ...\n",
            "hmi_rdvavgpspec_fd30               ...\n",
            "hmi_rdvfitsc_avg15                 ...\n",
            "hmi_rdvfitsc_avg30                 ...\n",
            "hmi_rdvfitsc_fd05                  ...\n",
            "hmi_rdvfitsc_fd15                  ...\n",
            "hmi_rdvfitsc_fd30                  ...\n",
            "hmi_rdvfitsf_fd05                  ...\n",
            "hmi_rdvfitsf_fd15                  ...\n",
            "hmi_rdvfitsf_fd30                  ...\n",
            "hmi_rdvflows_fd15_frame            ...\n",
            "hmi_rdvflows_fd30_frame            ...\n",
            "hmi_rdvpspec_fd05                  ...\n",
            "hmi_rdvpspec_fd15                  ...\n",
            "hmi_rdvpspec_fd30                  ...\n",
            "hmi_rdvtrack_fd05                  ...\n",
            "hmi_rdvtrack_fd15                  ...\n",
            "hmi_rdvtrack_fd30                  ...\n",
            "hmi_s_135s                         ...\n",
            "hmi_s_5760s                        ...\n",
            "hmi_s_720s                         ...\n",
            "hmi_s_720s_dcon                    ...\n",
            "hmi_s_720s_dcons                   ...\n",
            "hmi_s_90s                          ...\n",
            "hmi_sharp_720s                     ...\n",
            "hmi_sharp_720s_nrt                 ...\n",
            "hmi_sharp_cea_720s                 ...\n",
            "hmi_sharp_cea_720s_nrt             ...\n",
            "hmi_synoptic_ml_720s               ...\n",
            "hmi_synoptic_ml_720s_nrt           ...\n",
            "hmi_synoptic_ml_small_720s_nrt     ...\n",
            "hmi_synoptic_mr_720s               ...\n",
            "hmi_synoptic_mr_720s_nrt           ...\n",
            "hmi_synoptic_mr_polfil_720s        ...\n",
            "hmi_synoptic_mr_small_720s_nrt     ...\n",
            "hmi_td_fsi_12h                     ...\n",
            "hmi_tdkernels                      ...\n",
            "hmi_tdpixlist                      ...\n",
            "hmi_tdvinvrt_synophc               ...\n",
            "hmi_tdvtimes_synophc               ...\n",
            "hmi_tdvtrack_synophc               ...\n",
            "hmi_temperature_summary_300s       ...\n",
            "hmi_v_45s                          ...\n",
            "hmi_v_45s_dcon                     ...\n",
            "hmi_v_720s                         ...\n",
            "hmi_v_720s_dcon                    ...\n",
            "hmi_v_720s_dcons                   ...\n",
            "hmi_v_avg120                       ...\n",
            "hmi_v_sht_2drls                    ...\n",
            "hmi_v_sht_2drls_asym               ...\n",
            "hmi_v_sht_72d                      ...\n",
            "hmi_v_sht_gaps_72d                 ...\n",
            "hmi_v_sht_gf_72d                   ...\n",
            "hmi_v_sht_gf_gaps_72d              ...\n",
            "hmi_v_sht_gf_gaps_retile           ...\n",
            "hmi_v_sht_gf_retile                ...\n",
            "hmi_v_sht_modes                    ...\n",
            "hmi_v_sht_modes_archive            ...\n",
            "hmi_v_sht_modes_asym               ...\n",
            "hmi_v_sht_modes_asym_archive       ...\n",
            "hmi_v_sht_pow                      ...\n",
            "hmi_v_sht_secs_72d                 ...\n",
            "hmi_vw_v_45s                       ...\n",
            "hmi_vw_v_sht_2drls                 ...\n",
            "hmi_vw_v_sht_72d                   ...\n",
            "hmi_vw_v_sht_gaps_72d              ...\n",
            "hmi_vw_v_sht_gf_72d                ...\n",
            "hmi_vw_v_sht_gf_gaps_72d           ...\n",
            "hmi_vw_v_sht_modes                 ...\n",
            "hmi_vw_v_sht_modes_archive         ...\n",
            "hmi_vw_v_sht_pow                   ...\n",
            "mdi_caltables_doppler              ...\n",
            "mdi_caltables_doppler_orig         ...\n",
            "mdi_caltables_intensity            ...\n",
            "mdi_detune                         ...\n",
            "mdi_eigenfunctions                 ...\n",
            "mdi_fd_i0                          ...\n",
            "mdi_fd_i0_extract                  ...\n",
            "mdi_fd_ic                          ...\n",
            "mdi_fd_ic_06h                      ...\n",
            "mdi_fd_ic_interp                   ...\n",
            "mdi_fd_ld                          ...\n",
            "mdi_fd_m_96m_lev182                ...\n",
            "mdi_fd_m_extract                   ...\n",
            "mdi_fd_m_lev182                    ...\n",
            "mdi_fd_marmask                     ...\n",
            "mdi_fd_spotmask                    ...\n",
            "mdi_fd_v                           ...\n",
            "mdi_fd_v_bin2x2                    ...\n",
            "mdi_fd_v_extract                   ...\n",
            "mdi_fd_v_sht                       ...\n",
            "mdi_fd_v_sht_2drls                 ...\n",
            "mdi_fd_v_sht_2drls_asym            ...\n",
            "mdi_fd_v_sht_gaps                  ...\n",
            "mdi_fd_v_sht_gf                    ...\n",
            "mdi_fd_v_sht_gf_gaps               ...\n",
            "mdi_fd_v_sht_modes                 ...\n",
            "mdi_fd_v_sht_modes_archive         ...\n",
            "mdi_fd_v_sht_modes_asym            ...\n",
            "mdi_fd_v_sht_modes_asym_archive    ...\n",
            "mdi_fd_v_sht_pow                   ...\n",
            "mdi_fd_v_sht_secs                  ...\n",
            "mdi_fdv_avg120                     ...\n",
            "mdi_focus                          ...\n",
            "mdi_hr_i0                          ...\n",
            "mdi_hr_ic                          ...\n",
            "mdi_hr_ld                          ...\n",
            "mdi_hr_ld_bin2x2                   ...\n",
            "mdi_hr_m                           ...\n",
            "mdi_hr_m_bin2x2                    ...\n",
            "mdi_hr_v                           ...\n",
            "mdi_hr_v_12s                       ...\n",
            "mdi_hr_v_bin2x2                    ...\n",
            "mdi_ice                            ...\n",
            "mdi_leakage                        ...\n",
            "mdi_limb_figure                    ...\n",
            "mdi_lostarp_96m                    ...\n",
            "mdi_meanpf_96m                     ...\n",
            "mdi_mtarp                          ...\n",
            "mdi_pfss_synop                     ...\n",
            "mdi_polar_db                       ...\n",
            "mdi_q_synop                        ...\n",
            "mdi_rdvfitsc_dp                    ...\n",
            "mdi_rdvfitsf_dp                    ...\n",
            "mdi_rdvflows_dp                    ...\n",
            "mdi_rdvpspec_dp                    ...\n",
            "mdi_rdvtrack_dp                    ...\n",
            "mdi_roll_table                     ...\n",
            "mdi_rwbin_ic                       ...\n",
            "mdi_rwbin_ld                       ...\n",
            "mdi_scale_corrections              ...\n",
            "mdi_sinrho_table                   ...\n",
            "mdi_smarp_96m                      ...\n",
            "mdi_smarp_cea_96m                  ...\n",
            "mdi_synoptic_ml_96m                ...\n",
            "mdi_synoptic_ml_small_96m          ...\n",
            "mdi_synoptic_mr_96m                ...\n",
            "mdi_synoptic_mr_polfil_96m         ...\n",
            "mdi_synoptic_mr_small_96m          ...\n",
            "mdi_vw_v                           ...\n",
            "mdi_vw_v_sht_2drls                 ...\n",
            "mdi_vw_v_sht_2drls_asym            ...\n",
            "mdi_vw_v_sht_72d                   ...\n",
            "mdi_vw_v_sht_gaps_72d              ...\n",
            "mdi_vw_v_sht_gf_72d                ...\n",
            "mdi_vw_v_sht_gf_gaps_72d           ...\n",
            "mdi_vw_v_sht_gf_gaps_retile        ...\n",
            "mdi_vw_v_sht_gf_retile             ...\n",
            "mdi_vw_v_sht_modes                 ...\n",
            "mdi_vw_v_sht_modes_archive         ...\n",
            "mdi_vw_v_sht_modes_asym            ...\n",
            "mdi_vw_v_sht_modes_asym_archive    ...\n",
            "mdi_vw_v_sht_pow                   ...\n",
            "mdi_vw_v_sht_secs_72d              ...\n"
          ]
        }
      ]
    },
    {
      "cell_type": "markdown",
      "source": [
        "Differnet PrimeKeys are supported by different Series, and can find the PrimeKeys in any series."
      ],
      "metadata": {
        "id": "7nhf349IKU0h"
      }
    },
    {
      "cell_type": "code",
      "source": [
        "import drms\n",
        "\n",
        "client = drms.Client()\n",
        "print(client.pkeys('hmi.m_720s'))"
      ],
      "metadata": {
        "colab": {
          "base_uri": "https://localhost:8080/"
        },
        "id": "6oLiP0iDJPrw",
        "outputId": "07de2162-da45-4ce1-cec0-1baa472edb17"
      },
      "execution_count": 13,
      "outputs": [
        {
          "output_type": "stream",
          "name": "stdout",
          "text": [
            "['T_REC', 'CAMERA']\n"
          ]
        }
      ]
    },
    {
      "cell_type": "code",
      "source": [
        "print(client.pkeys('hmi.td_fsi_12h'))"
      ],
      "metadata": {
        "colab": {
          "base_uri": "https://localhost:8080/"
        },
        "id": "wkQPnHY5K7uK",
        "outputId": "b97bfc37-dbe3-49a8-ca9a-ef1449dc101a"
      },
      "execution_count": 16,
      "outputs": [
        {
          "output_type": "stream",
          "name": "stdout",
          "text": [
            "['T_REC']\n"
          ]
        }
      ]
    },
    {
      "cell_type": "markdown",
      "source": [
        "In the context of querying data from the JSOC using the SunPy library, a \"client\" and a \"PrimeKey\" have specific meanings.\n",
        "\n",
        "1. Client - In the world of web services, a client is a program or tool that sends requests to a server to perform certain actions. In this case, the \"client\" is an instance of the drms.Client() class, which is a tool provied by the drms (Distributed Retrieval and Management System) Python package. The client knows how to communicate with the JSOC server to send queries and receive data.\n",
        "To give a real world analogy, the client can be imagines to be as a librarian. You (the user) give the librariab (the client) a request for a specific book (the data). The librarian knows how to find this book int he library (the JSOC server) and brings it back to you.\n",
        "\n",
        "2. PrimeKey - A PrimeKey is a specific type of search parameter that you can use when querying data from JSOC. It a key piee of information that the datbase uses to organise and retrieve data. In the case of JSOC, every data series has atleast one PrimeKey, and often more. The most common PrimeKey is Time (denoted as T_REC or T_OBS), but other PrimeKeys can include things like Wavelength or CAMERA, depending on the data series.\n",
        "To think of the library analogy, think of a PrimeKey as a piece of information you use to find a book in the library. For example, the book's title or the author's name could be consideredd \"PrimeKeys\". If you know the title of the book(the PrimeKey), the librarian (the client) can find the book (the data) for you in the library (the JSOC server).\n",
        "\n",
        "In the code snippet you provided, client.pkeys('hmi.m_720s') is asking the client to retrieve the PrimeKeys for the 'hmi.m_720s' series from the JSOC server. The result, ['T_REC', 'CAMERA'], tells you that the 'hmi.m_720s' series uses Time (T_REC) and CAMERA as its PrimeKeys.\n"
      ],
      "metadata": {
        "id": "xf5m61ZlMPDH"
      }
    },
    {
      "cell_type": "code",
      "source": [
        "import drms\n",
        "client = drms.Client()\n",
        "print(client.pkeys('hmi.m_720s'))"
      ],
      "metadata": {
        "colab": {
          "base_uri": "https://localhost:8080/"
        },
        "id": "838sl6fKOUwV",
        "outputId": "d92ef6ef-2bc6-4f84-b274-123bbf4ee20f"
      },
      "execution_count": 19,
      "outputs": [
        {
          "output_type": "stream",
          "name": "stdout",
          "text": [
            "['T_REC', 'CAMERA']\n"
          ]
        }
      ]
    },
    {
      "cell_type": "code",
      "source": [
        "import drms\n",
        "client = drms.Client()\n",
        "print(client.pkeys('hmi.td_fsi_12h'))\n",
        "\n",
        "## td - Time distance\n",
        "## FSI - Full disk intensity"
      ],
      "metadata": {
        "colab": {
          "base_uri": "https://localhost:8080/"
        },
        "id": "uXMiy5gZOnb3",
        "outputId": "bd3ef71a-c9ca-4438-f468-72080795d78c"
      },
      "execution_count": 20,
      "outputs": [
        {
          "output_type": "stream",
          "name": "stdout",
          "text": [
            "['T_REC']\n"
          ]
        }
      ]
    },
    {
      "cell_type": "markdown",
      "source": [
        "\"td\" is Time-distnace (a type of Helioseismic analysis). \"fsi\" stands for full-disk intensity (a type of solar observation). and \"12h\" could indicate a 12 hour cadence or some other aspect of the data collection process."
      ],
      "metadata": {
        "id": "oewLwVJoO9-U"
      }
    },
    {
      "cell_type": "markdown",
      "source": [
        "The most common PrimeKey , that is supported by every Series is Time. that is denoted by T_REC or T_OBS. Hence time can alwasy be passed as an attribute while building a query. Wavelength is another pre-defined attribute."
      ],
      "metadata": {
        "id": "r1-LQ0f6PhKf"
      }
    }
  ]
}