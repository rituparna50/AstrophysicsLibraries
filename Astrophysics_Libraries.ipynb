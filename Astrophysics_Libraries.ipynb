{
  "nbformat": 4,
  "nbformat_minor": 0,
  "metadata": {
    "colab": {
      "provenance": [],
      "authorship_tag": "ABX9TyOiFM9fpYFA1E8zOfvQwMba",
      "include_colab_link": true
    },
    "kernelspec": {
      "name": "python3",
      "display_name": "Python 3"
    },
    "language_info": {
      "name": "python"
    },
    "widgets": {
      "application/vnd.jupyter.widget-state+json": {
        "28ea0482f1cf42778234df69fc436c8f": {
          "model_module": "@jupyter-widgets/controls",
          "model_name": "HBoxModel",
          "model_module_version": "1.5.0",
          "state": {
            "_dom_classes": [],
            "_model_module": "@jupyter-widgets/controls",
            "_model_module_version": "1.5.0",
            "_model_name": "HBoxModel",
            "_view_count": null,
            "_view_module": "@jupyter-widgets/controls",
            "_view_module_version": "1.5.0",
            "_view_name": "HBoxView",
            "box_style": "",
            "children": [
              "IPY_MODEL_38e46dc54c7344198c40e9acbb684dd5",
              "IPY_MODEL_060f25c823de494cb2a40f2867de4a8e",
              "IPY_MODEL_5bc33ec708dd4ecc998e75acd1fc7284"
            ],
            "layout": "IPY_MODEL_119694ef07c64f0fb828e87ba7e32242"
          }
        },
        "38e46dc54c7344198c40e9acbb684dd5": {
          "model_module": "@jupyter-widgets/controls",
          "model_name": "HTMLModel",
          "model_module_version": "1.5.0",
          "state": {
            "_dom_classes": [],
            "_model_module": "@jupyter-widgets/controls",
            "_model_module_version": "1.5.0",
            "_model_name": "HTMLModel",
            "_view_count": null,
            "_view_module": "@jupyter-widgets/controls",
            "_view_module_version": "1.5.0",
            "_view_name": "HTMLView",
            "description": "",
            "description_tooltip": null,
            "layout": "IPY_MODEL_b272a13c0a85491fb7a758de7fe554c3",
            "placeholder": "​",
            "style": "IPY_MODEL_949d400910ed47f4a15ff837e54295c1",
            "value": "Files Downloaded: 100%"
          }
        },
        "060f25c823de494cb2a40f2867de4a8e": {
          "model_module": "@jupyter-widgets/controls",
          "model_name": "FloatProgressModel",
          "model_module_version": "1.5.0",
          "state": {
            "_dom_classes": [],
            "_model_module": "@jupyter-widgets/controls",
            "_model_module_version": "1.5.0",
            "_model_name": "FloatProgressModel",
            "_view_count": null,
            "_view_module": "@jupyter-widgets/controls",
            "_view_module_version": "1.5.0",
            "_view_name": "ProgressView",
            "bar_style": "success",
            "description": "",
            "description_tooltip": null,
            "layout": "IPY_MODEL_452e1dd328d9424285ace7222d25966c",
            "max": 1,
            "min": 0,
            "orientation": "horizontal",
            "style": "IPY_MODEL_aac89eb1979e4df8975c7e0cab2111c7",
            "value": 1
          }
        },
        "5bc33ec708dd4ecc998e75acd1fc7284": {
          "model_module": "@jupyter-widgets/controls",
          "model_name": "HTMLModel",
          "model_module_version": "1.5.0",
          "state": {
            "_dom_classes": [],
            "_model_module": "@jupyter-widgets/controls",
            "_model_module_version": "1.5.0",
            "_model_name": "HTMLModel",
            "_view_count": null,
            "_view_module": "@jupyter-widgets/controls",
            "_view_module_version": "1.5.0",
            "_view_name": "HTMLView",
            "description": "",
            "description_tooltip": null,
            "layout": "IPY_MODEL_bae53423eb3b434baae14493a1f4d413",
            "placeholder": "​",
            "style": "IPY_MODEL_7873336089584ccdaf44f8023172000b",
            "value": " 1/1 [00:00&lt;00:00,  1.14file/s]"
          }
        },
        "119694ef07c64f0fb828e87ba7e32242": {
          "model_module": "@jupyter-widgets/base",
          "model_name": "LayoutModel",
          "model_module_version": "1.2.0",
          "state": {
            "_model_module": "@jupyter-widgets/base",
            "_model_module_version": "1.2.0",
            "_model_name": "LayoutModel",
            "_view_count": null,
            "_view_module": "@jupyter-widgets/base",
            "_view_module_version": "1.2.0",
            "_view_name": "LayoutView",
            "align_content": null,
            "align_items": null,
            "align_self": null,
            "border": null,
            "bottom": null,
            "display": null,
            "flex": null,
            "flex_flow": null,
            "grid_area": null,
            "grid_auto_columns": null,
            "grid_auto_flow": null,
            "grid_auto_rows": null,
            "grid_column": null,
            "grid_gap": null,
            "grid_row": null,
            "grid_template_areas": null,
            "grid_template_columns": null,
            "grid_template_rows": null,
            "height": null,
            "justify_content": null,
            "justify_items": null,
            "left": null,
            "margin": null,
            "max_height": null,
            "max_width": null,
            "min_height": null,
            "min_width": null,
            "object_fit": null,
            "object_position": null,
            "order": null,
            "overflow": null,
            "overflow_x": null,
            "overflow_y": null,
            "padding": null,
            "right": null,
            "top": null,
            "visibility": null,
            "width": null
          }
        },
        "b272a13c0a85491fb7a758de7fe554c3": {
          "model_module": "@jupyter-widgets/base",
          "model_name": "LayoutModel",
          "model_module_version": "1.2.0",
          "state": {
            "_model_module": "@jupyter-widgets/base",
            "_model_module_version": "1.2.0",
            "_model_name": "LayoutModel",
            "_view_count": null,
            "_view_module": "@jupyter-widgets/base",
            "_view_module_version": "1.2.0",
            "_view_name": "LayoutView",
            "align_content": null,
            "align_items": null,
            "align_self": null,
            "border": null,
            "bottom": null,
            "display": null,
            "flex": null,
            "flex_flow": null,
            "grid_area": null,
            "grid_auto_columns": null,
            "grid_auto_flow": null,
            "grid_auto_rows": null,
            "grid_column": null,
            "grid_gap": null,
            "grid_row": null,
            "grid_template_areas": null,
            "grid_template_columns": null,
            "grid_template_rows": null,
            "height": null,
            "justify_content": null,
            "justify_items": null,
            "left": null,
            "margin": null,
            "max_height": null,
            "max_width": null,
            "min_height": null,
            "min_width": null,
            "object_fit": null,
            "object_position": null,
            "order": null,
            "overflow": null,
            "overflow_x": null,
            "overflow_y": null,
            "padding": null,
            "right": null,
            "top": null,
            "visibility": null,
            "width": null
          }
        },
        "949d400910ed47f4a15ff837e54295c1": {
          "model_module": "@jupyter-widgets/controls",
          "model_name": "DescriptionStyleModel",
          "model_module_version": "1.5.0",
          "state": {
            "_model_module": "@jupyter-widgets/controls",
            "_model_module_version": "1.5.0",
            "_model_name": "DescriptionStyleModel",
            "_view_count": null,
            "_view_module": "@jupyter-widgets/base",
            "_view_module_version": "1.2.0",
            "_view_name": "StyleView",
            "description_width": ""
          }
        },
        "452e1dd328d9424285ace7222d25966c": {
          "model_module": "@jupyter-widgets/base",
          "model_name": "LayoutModel",
          "model_module_version": "1.2.0",
          "state": {
            "_model_module": "@jupyter-widgets/base",
            "_model_module_version": "1.2.0",
            "_model_name": "LayoutModel",
            "_view_count": null,
            "_view_module": "@jupyter-widgets/base",
            "_view_module_version": "1.2.0",
            "_view_name": "LayoutView",
            "align_content": null,
            "align_items": null,
            "align_self": null,
            "border": null,
            "bottom": null,
            "display": null,
            "flex": null,
            "flex_flow": null,
            "grid_area": null,
            "grid_auto_columns": null,
            "grid_auto_flow": null,
            "grid_auto_rows": null,
            "grid_column": null,
            "grid_gap": null,
            "grid_row": null,
            "grid_template_areas": null,
            "grid_template_columns": null,
            "grid_template_rows": null,
            "height": null,
            "justify_content": null,
            "justify_items": null,
            "left": null,
            "margin": null,
            "max_height": null,
            "max_width": null,
            "min_height": null,
            "min_width": null,
            "object_fit": null,
            "object_position": null,
            "order": null,
            "overflow": null,
            "overflow_x": null,
            "overflow_y": null,
            "padding": null,
            "right": null,
            "top": null,
            "visibility": null,
            "width": null
          }
        },
        "aac89eb1979e4df8975c7e0cab2111c7": {
          "model_module": "@jupyter-widgets/controls",
          "model_name": "ProgressStyleModel",
          "model_module_version": "1.5.0",
          "state": {
            "_model_module": "@jupyter-widgets/controls",
            "_model_module_version": "1.5.0",
            "_model_name": "ProgressStyleModel",
            "_view_count": null,
            "_view_module": "@jupyter-widgets/base",
            "_view_module_version": "1.2.0",
            "_view_name": "StyleView",
            "bar_color": null,
            "description_width": ""
          }
        },
        "bae53423eb3b434baae14493a1f4d413": {
          "model_module": "@jupyter-widgets/base",
          "model_name": "LayoutModel",
          "model_module_version": "1.2.0",
          "state": {
            "_model_module": "@jupyter-widgets/base",
            "_model_module_version": "1.2.0",
            "_model_name": "LayoutModel",
            "_view_count": null,
            "_view_module": "@jupyter-widgets/base",
            "_view_module_version": "1.2.0",
            "_view_name": "LayoutView",
            "align_content": null,
            "align_items": null,
            "align_self": null,
            "border": null,
            "bottom": null,
            "display": null,
            "flex": null,
            "flex_flow": null,
            "grid_area": null,
            "grid_auto_columns": null,
            "grid_auto_flow": null,
            "grid_auto_rows": null,
            "grid_column": null,
            "grid_gap": null,
            "grid_row": null,
            "grid_template_areas": null,
            "grid_template_columns": null,
            "grid_template_rows": null,
            "height": null,
            "justify_content": null,
            "justify_items": null,
            "left": null,
            "margin": null,
            "max_height": null,
            "max_width": null,
            "min_height": null,
            "min_width": null,
            "object_fit": null,
            "object_position": null,
            "order": null,
            "overflow": null,
            "overflow_x": null,
            "overflow_y": null,
            "padding": null,
            "right": null,
            "top": null,
            "visibility": null,
            "width": null
          }
        },
        "7873336089584ccdaf44f8023172000b": {
          "model_module": "@jupyter-widgets/controls",
          "model_name": "DescriptionStyleModel",
          "model_module_version": "1.5.0",
          "state": {
            "_model_module": "@jupyter-widgets/controls",
            "_model_module_version": "1.5.0",
            "_model_name": "DescriptionStyleModel",
            "_view_count": null,
            "_view_module": "@jupyter-widgets/base",
            "_view_module_version": "1.2.0",
            "_view_name": "StyleView",
            "description_width": ""
          }
        },
        "2b6d71446adf458e900eeea10fd17ff2": {
          "model_module": "@jupyter-widgets/controls",
          "model_name": "HBoxModel",
          "model_module_version": "1.5.0",
          "state": {
            "_dom_classes": [],
            "_model_module": "@jupyter-widgets/controls",
            "_model_module_version": "1.5.0",
            "_model_name": "HBoxModel",
            "_view_count": null,
            "_view_module": "@jupyter-widgets/controls",
            "_view_module_version": "1.5.0",
            "_view_name": "HBoxView",
            "box_style": "",
            "children": [
              "IPY_MODEL_515c9be2156448028e19414e7bcbd24f",
              "IPY_MODEL_01f1dd788f654785a93e29c4882610b1",
              "IPY_MODEL_2f3e9a1b11d14783baf3c059b657006e"
            ],
            "layout": "IPY_MODEL_6764c64c166541c8a01c39b0ce9ed1d1"
          }
        },
        "515c9be2156448028e19414e7bcbd24f": {
          "model_module": "@jupyter-widgets/controls",
          "model_name": "HTMLModel",
          "model_module_version": "1.5.0",
          "state": {
            "_dom_classes": [],
            "_model_module": "@jupyter-widgets/controls",
            "_model_module_version": "1.5.0",
            "_model_name": "HTMLModel",
            "_view_count": null,
            "_view_module": "@jupyter-widgets/controls",
            "_view_module_version": "1.5.0",
            "_view_name": "HTMLView",
            "description": "",
            "description_tooltip": null,
            "layout": "IPY_MODEL_87dd24ffe0e0467e9a06ff1806a46890",
            "placeholder": "​",
            "style": "IPY_MODEL_abfca9129e6d43a1904dacf77c4000c1",
            "value": "AIA20110607_063302_0171_lowres.fits:  20%"
          }
        },
        "01f1dd788f654785a93e29c4882610b1": {
          "model_module": "@jupyter-widgets/controls",
          "model_name": "FloatProgressModel",
          "model_module_version": "1.5.0",
          "state": {
            "_dom_classes": [],
            "_model_module": "@jupyter-widgets/controls",
            "_model_module_version": "1.5.0",
            "_model_name": "FloatProgressModel",
            "_view_count": null,
            "_view_module": "@jupyter-widgets/controls",
            "_view_module_version": "1.5.0",
            "_view_name": "ProgressView",
            "bar_style": "",
            "description": "",
            "description_tooltip": null,
            "layout": "IPY_MODEL_53c02181605142968c90fb00c7122f63",
            "max": 973440,
            "min": 0,
            "orientation": "horizontal",
            "style": "IPY_MODEL_7535e5077d474d5e80a39bec67f0035e",
            "value": 973440
          }
        },
        "2f3e9a1b11d14783baf3c059b657006e": {
          "model_module": "@jupyter-widgets/controls",
          "model_name": "HTMLModel",
          "model_module_version": "1.5.0",
          "state": {
            "_dom_classes": [],
            "_model_module": "@jupyter-widgets/controls",
            "_model_module_version": "1.5.0",
            "_model_name": "HTMLModel",
            "_view_count": null,
            "_view_module": "@jupyter-widgets/controls",
            "_view_module_version": "1.5.0",
            "_view_name": "HTMLView",
            "description": "",
            "description_tooltip": null,
            "layout": "IPY_MODEL_d9de03dc8a3149928e0ba8cfc324814e",
            "placeholder": "​",
            "style": "IPY_MODEL_22da99e1d93d4b8490a54c28254ffecd",
            "value": " 196k/973k [00:00&lt;00:00, 792kB/s]"
          }
        },
        "6764c64c166541c8a01c39b0ce9ed1d1": {
          "model_module": "@jupyter-widgets/base",
          "model_name": "LayoutModel",
          "model_module_version": "1.2.0",
          "state": {
            "_model_module": "@jupyter-widgets/base",
            "_model_module_version": "1.2.0",
            "_model_name": "LayoutModel",
            "_view_count": null,
            "_view_module": "@jupyter-widgets/base",
            "_view_module_version": "1.2.0",
            "_view_name": "LayoutView",
            "align_content": null,
            "align_items": null,
            "align_self": null,
            "border": null,
            "bottom": null,
            "display": null,
            "flex": null,
            "flex_flow": null,
            "grid_area": null,
            "grid_auto_columns": null,
            "grid_auto_flow": null,
            "grid_auto_rows": null,
            "grid_column": null,
            "grid_gap": null,
            "grid_row": null,
            "grid_template_areas": null,
            "grid_template_columns": null,
            "grid_template_rows": null,
            "height": null,
            "justify_content": null,
            "justify_items": null,
            "left": null,
            "margin": null,
            "max_height": null,
            "max_width": null,
            "min_height": null,
            "min_width": null,
            "object_fit": null,
            "object_position": null,
            "order": null,
            "overflow": null,
            "overflow_x": null,
            "overflow_y": null,
            "padding": null,
            "right": null,
            "top": null,
            "visibility": "hidden",
            "width": null
          }
        },
        "87dd24ffe0e0467e9a06ff1806a46890": {
          "model_module": "@jupyter-widgets/base",
          "model_name": "LayoutModel",
          "model_module_version": "1.2.0",
          "state": {
            "_model_module": "@jupyter-widgets/base",
            "_model_module_version": "1.2.0",
            "_model_name": "LayoutModel",
            "_view_count": null,
            "_view_module": "@jupyter-widgets/base",
            "_view_module_version": "1.2.0",
            "_view_name": "LayoutView",
            "align_content": null,
            "align_items": null,
            "align_self": null,
            "border": null,
            "bottom": null,
            "display": null,
            "flex": null,
            "flex_flow": null,
            "grid_area": null,
            "grid_auto_columns": null,
            "grid_auto_flow": null,
            "grid_auto_rows": null,
            "grid_column": null,
            "grid_gap": null,
            "grid_row": null,
            "grid_template_areas": null,
            "grid_template_columns": null,
            "grid_template_rows": null,
            "height": null,
            "justify_content": null,
            "justify_items": null,
            "left": null,
            "margin": null,
            "max_height": null,
            "max_width": null,
            "min_height": null,
            "min_width": null,
            "object_fit": null,
            "object_position": null,
            "order": null,
            "overflow": null,
            "overflow_x": null,
            "overflow_y": null,
            "padding": null,
            "right": null,
            "top": null,
            "visibility": null,
            "width": null
          }
        },
        "abfca9129e6d43a1904dacf77c4000c1": {
          "model_module": "@jupyter-widgets/controls",
          "model_name": "DescriptionStyleModel",
          "model_module_version": "1.5.0",
          "state": {
            "_model_module": "@jupyter-widgets/controls",
            "_model_module_version": "1.5.0",
            "_model_name": "DescriptionStyleModel",
            "_view_count": null,
            "_view_module": "@jupyter-widgets/base",
            "_view_module_version": "1.2.0",
            "_view_name": "StyleView",
            "description_width": ""
          }
        },
        "53c02181605142968c90fb00c7122f63": {
          "model_module": "@jupyter-widgets/base",
          "model_name": "LayoutModel",
          "model_module_version": "1.2.0",
          "state": {
            "_model_module": "@jupyter-widgets/base",
            "_model_module_version": "1.2.0",
            "_model_name": "LayoutModel",
            "_view_count": null,
            "_view_module": "@jupyter-widgets/base",
            "_view_module_version": "1.2.0",
            "_view_name": "LayoutView",
            "align_content": null,
            "align_items": null,
            "align_self": null,
            "border": null,
            "bottom": null,
            "display": null,
            "flex": null,
            "flex_flow": null,
            "grid_area": null,
            "grid_auto_columns": null,
            "grid_auto_flow": null,
            "grid_auto_rows": null,
            "grid_column": null,
            "grid_gap": null,
            "grid_row": null,
            "grid_template_areas": null,
            "grid_template_columns": null,
            "grid_template_rows": null,
            "height": null,
            "justify_content": null,
            "justify_items": null,
            "left": null,
            "margin": null,
            "max_height": null,
            "max_width": null,
            "min_height": null,
            "min_width": null,
            "object_fit": null,
            "object_position": null,
            "order": null,
            "overflow": null,
            "overflow_x": null,
            "overflow_y": null,
            "padding": null,
            "right": null,
            "top": null,
            "visibility": null,
            "width": null
          }
        },
        "7535e5077d474d5e80a39bec67f0035e": {
          "model_module": "@jupyter-widgets/controls",
          "model_name": "ProgressStyleModel",
          "model_module_version": "1.5.0",
          "state": {
            "_model_module": "@jupyter-widgets/controls",
            "_model_module_version": "1.5.0",
            "_model_name": "ProgressStyleModel",
            "_view_count": null,
            "_view_module": "@jupyter-widgets/base",
            "_view_module_version": "1.2.0",
            "_view_name": "StyleView",
            "bar_color": null,
            "description_width": ""
          }
        },
        "d9de03dc8a3149928e0ba8cfc324814e": {
          "model_module": "@jupyter-widgets/base",
          "model_name": "LayoutModel",
          "model_module_version": "1.2.0",
          "state": {
            "_model_module": "@jupyter-widgets/base",
            "_model_module_version": "1.2.0",
            "_model_name": "LayoutModel",
            "_view_count": null,
            "_view_module": "@jupyter-widgets/base",
            "_view_module_version": "1.2.0",
            "_view_name": "LayoutView",
            "align_content": null,
            "align_items": null,
            "align_self": null,
            "border": null,
            "bottom": null,
            "display": null,
            "flex": null,
            "flex_flow": null,
            "grid_area": null,
            "grid_auto_columns": null,
            "grid_auto_flow": null,
            "grid_auto_rows": null,
            "grid_column": null,
            "grid_gap": null,
            "grid_row": null,
            "grid_template_areas": null,
            "grid_template_columns": null,
            "grid_template_rows": null,
            "height": null,
            "justify_content": null,
            "justify_items": null,
            "left": null,
            "margin": null,
            "max_height": null,
            "max_width": null,
            "min_height": null,
            "min_width": null,
            "object_fit": null,
            "object_position": null,
            "order": null,
            "overflow": null,
            "overflow_x": null,
            "overflow_y": null,
            "padding": null,
            "right": null,
            "top": null,
            "visibility": null,
            "width": null
          }
        },
        "22da99e1d93d4b8490a54c28254ffecd": {
          "model_module": "@jupyter-widgets/controls",
          "model_name": "DescriptionStyleModel",
          "model_module_version": "1.5.0",
          "state": {
            "_model_module": "@jupyter-widgets/controls",
            "_model_module_version": "1.5.0",
            "_model_name": "DescriptionStyleModel",
            "_view_count": null,
            "_view_module": "@jupyter-widgets/base",
            "_view_module_version": "1.2.0",
            "_view_name": "StyleView",
            "description_width": ""
          }
        },
        "2a61570fbedc4b00a09074d794554ed3": {
          "model_module": "@jupyter-widgets/controls",
          "model_name": "HBoxModel",
          "model_module_version": "1.5.0",
          "state": {
            "_dom_classes": [],
            "_model_module": "@jupyter-widgets/controls",
            "_model_module_version": "1.5.0",
            "_model_name": "HBoxModel",
            "_view_count": null,
            "_view_module": "@jupyter-widgets/controls",
            "_view_module_version": "1.5.0",
            "_view_name": "HBoxView",
            "box_style": "",
            "children": [
              "IPY_MODEL_3c03eaac58ea403ea79956a7ec4fecdc",
              "IPY_MODEL_33bf3f73484d4852bb4b83c953d035d8",
              "IPY_MODEL_6b06c36a2e0649f3944476487d9df2e3"
            ],
            "layout": "IPY_MODEL_9643c1a241cb48528fc06263c900f1e7"
          }
        },
        "3c03eaac58ea403ea79956a7ec4fecdc": {
          "model_module": "@jupyter-widgets/controls",
          "model_name": "HTMLModel",
          "model_module_version": "1.5.0",
          "state": {
            "_dom_classes": [],
            "_model_module": "@jupyter-widgets/controls",
            "_model_module_version": "1.5.0",
            "_model_name": "HTMLModel",
            "_view_count": null,
            "_view_module": "@jupyter-widgets/controls",
            "_view_module_version": "1.5.0",
            "_view_name": "HTMLView",
            "description": "",
            "description_tooltip": null,
            "layout": "IPY_MODEL_bc0fa2ba869d457387cf754c5b09146a",
            "placeholder": "​",
            "style": "IPY_MODEL_dd6accab6a424553b5d71f32b9d9eed4",
            "value": "Files Downloaded: "
          }
        },
        "33bf3f73484d4852bb4b83c953d035d8": {
          "model_module": "@jupyter-widgets/controls",
          "model_name": "FloatProgressModel",
          "model_module_version": "1.5.0",
          "state": {
            "_dom_classes": [],
            "_model_module": "@jupyter-widgets/controls",
            "_model_module_version": "1.5.0",
            "_model_name": "FloatProgressModel",
            "_view_count": null,
            "_view_module": "@jupyter-widgets/controls",
            "_view_module_version": "1.5.0",
            "_view_name": "ProgressView",
            "bar_style": "success",
            "description": "",
            "description_tooltip": null,
            "layout": "IPY_MODEL_b27029aa5aa74582825a30d907678262",
            "max": 1,
            "min": 0,
            "orientation": "horizontal",
            "style": "IPY_MODEL_124ef8b73e424474960ddf3034ac7003",
            "value": 0
          }
        },
        "6b06c36a2e0649f3944476487d9df2e3": {
          "model_module": "@jupyter-widgets/controls",
          "model_name": "HTMLModel",
          "model_module_version": "1.5.0",
          "state": {
            "_dom_classes": [],
            "_model_module": "@jupyter-widgets/controls",
            "_model_module_version": "1.5.0",
            "_model_name": "HTMLModel",
            "_view_count": null,
            "_view_module": "@jupyter-widgets/controls",
            "_view_module_version": "1.5.0",
            "_view_name": "HTMLView",
            "description": "",
            "description_tooltip": null,
            "layout": "IPY_MODEL_bb4eaab21a30460eaac64139937a67cc",
            "placeholder": "​",
            "style": "IPY_MODEL_926743150d3e4bd6959da3b529cb102e",
            "value": " 0/0 [00:00&lt;?, ?file/s]"
          }
        },
        "9643c1a241cb48528fc06263c900f1e7": {
          "model_module": "@jupyter-widgets/base",
          "model_name": "LayoutModel",
          "model_module_version": "1.2.0",
          "state": {
            "_model_module": "@jupyter-widgets/base",
            "_model_module_version": "1.2.0",
            "_model_name": "LayoutModel",
            "_view_count": null,
            "_view_module": "@jupyter-widgets/base",
            "_view_module_version": "1.2.0",
            "_view_name": "LayoutView",
            "align_content": null,
            "align_items": null,
            "align_self": null,
            "border": null,
            "bottom": null,
            "display": null,
            "flex": null,
            "flex_flow": null,
            "grid_area": null,
            "grid_auto_columns": null,
            "grid_auto_flow": null,
            "grid_auto_rows": null,
            "grid_column": null,
            "grid_gap": null,
            "grid_row": null,
            "grid_template_areas": null,
            "grid_template_columns": null,
            "grid_template_rows": null,
            "height": null,
            "justify_content": null,
            "justify_items": null,
            "left": null,
            "margin": null,
            "max_height": null,
            "max_width": null,
            "min_height": null,
            "min_width": null,
            "object_fit": null,
            "object_position": null,
            "order": null,
            "overflow": null,
            "overflow_x": null,
            "overflow_y": null,
            "padding": null,
            "right": null,
            "top": null,
            "visibility": null,
            "width": null
          }
        },
        "bc0fa2ba869d457387cf754c5b09146a": {
          "model_module": "@jupyter-widgets/base",
          "model_name": "LayoutModel",
          "model_module_version": "1.2.0",
          "state": {
            "_model_module": "@jupyter-widgets/base",
            "_model_module_version": "1.2.0",
            "_model_name": "LayoutModel",
            "_view_count": null,
            "_view_module": "@jupyter-widgets/base",
            "_view_module_version": "1.2.0",
            "_view_name": "LayoutView",
            "align_content": null,
            "align_items": null,
            "align_self": null,
            "border": null,
            "bottom": null,
            "display": null,
            "flex": null,
            "flex_flow": null,
            "grid_area": null,
            "grid_auto_columns": null,
            "grid_auto_flow": null,
            "grid_auto_rows": null,
            "grid_column": null,
            "grid_gap": null,
            "grid_row": null,
            "grid_template_areas": null,
            "grid_template_columns": null,
            "grid_template_rows": null,
            "height": null,
            "justify_content": null,
            "justify_items": null,
            "left": null,
            "margin": null,
            "max_height": null,
            "max_width": null,
            "min_height": null,
            "min_width": null,
            "object_fit": null,
            "object_position": null,
            "order": null,
            "overflow": null,
            "overflow_x": null,
            "overflow_y": null,
            "padding": null,
            "right": null,
            "top": null,
            "visibility": null,
            "width": null
          }
        },
        "dd6accab6a424553b5d71f32b9d9eed4": {
          "model_module": "@jupyter-widgets/controls",
          "model_name": "DescriptionStyleModel",
          "model_module_version": "1.5.0",
          "state": {
            "_model_module": "@jupyter-widgets/controls",
            "_model_module_version": "1.5.0",
            "_model_name": "DescriptionStyleModel",
            "_view_count": null,
            "_view_module": "@jupyter-widgets/base",
            "_view_module_version": "1.2.0",
            "_view_name": "StyleView",
            "description_width": ""
          }
        },
        "b27029aa5aa74582825a30d907678262": {
          "model_module": "@jupyter-widgets/base",
          "model_name": "LayoutModel",
          "model_module_version": "1.2.0",
          "state": {
            "_model_module": "@jupyter-widgets/base",
            "_model_module_version": "1.2.0",
            "_model_name": "LayoutModel",
            "_view_count": null,
            "_view_module": "@jupyter-widgets/base",
            "_view_module_version": "1.2.0",
            "_view_name": "LayoutView",
            "align_content": null,
            "align_items": null,
            "align_self": null,
            "border": null,
            "bottom": null,
            "display": null,
            "flex": null,
            "flex_flow": null,
            "grid_area": null,
            "grid_auto_columns": null,
            "grid_auto_flow": null,
            "grid_auto_rows": null,
            "grid_column": null,
            "grid_gap": null,
            "grid_row": null,
            "grid_template_areas": null,
            "grid_template_columns": null,
            "grid_template_rows": null,
            "height": null,
            "justify_content": null,
            "justify_items": null,
            "left": null,
            "margin": null,
            "max_height": null,
            "max_width": null,
            "min_height": null,
            "min_width": null,
            "object_fit": null,
            "object_position": null,
            "order": null,
            "overflow": null,
            "overflow_x": null,
            "overflow_y": null,
            "padding": null,
            "right": null,
            "top": null,
            "visibility": null,
            "width": "20px"
          }
        },
        "124ef8b73e424474960ddf3034ac7003": {
          "model_module": "@jupyter-widgets/controls",
          "model_name": "ProgressStyleModel",
          "model_module_version": "1.5.0",
          "state": {
            "_model_module": "@jupyter-widgets/controls",
            "_model_module_version": "1.5.0",
            "_model_name": "ProgressStyleModel",
            "_view_count": null,
            "_view_module": "@jupyter-widgets/base",
            "_view_module_version": "1.2.0",
            "_view_name": "StyleView",
            "bar_color": null,
            "description_width": ""
          }
        },
        "bb4eaab21a30460eaac64139937a67cc": {
          "model_module": "@jupyter-widgets/base",
          "model_name": "LayoutModel",
          "model_module_version": "1.2.0",
          "state": {
            "_model_module": "@jupyter-widgets/base",
            "_model_module_version": "1.2.0",
            "_model_name": "LayoutModel",
            "_view_count": null,
            "_view_module": "@jupyter-widgets/base",
            "_view_module_version": "1.2.0",
            "_view_name": "LayoutView",
            "align_content": null,
            "align_items": null,
            "align_self": null,
            "border": null,
            "bottom": null,
            "display": null,
            "flex": null,
            "flex_flow": null,
            "grid_area": null,
            "grid_auto_columns": null,
            "grid_auto_flow": null,
            "grid_auto_rows": null,
            "grid_column": null,
            "grid_gap": null,
            "grid_row": null,
            "grid_template_areas": null,
            "grid_template_columns": null,
            "grid_template_rows": null,
            "height": null,
            "justify_content": null,
            "justify_items": null,
            "left": null,
            "margin": null,
            "max_height": null,
            "max_width": null,
            "min_height": null,
            "min_width": null,
            "object_fit": null,
            "object_position": null,
            "order": null,
            "overflow": null,
            "overflow_x": null,
            "overflow_y": null,
            "padding": null,
            "right": null,
            "top": null,
            "visibility": null,
            "width": null
          }
        },
        "926743150d3e4bd6959da3b529cb102e": {
          "model_module": "@jupyter-widgets/controls",
          "model_name": "DescriptionStyleModel",
          "model_module_version": "1.5.0",
          "state": {
            "_model_module": "@jupyter-widgets/controls",
            "_model_module_version": "1.5.0",
            "_model_name": "DescriptionStyleModel",
            "_view_count": null,
            "_view_module": "@jupyter-widgets/base",
            "_view_module_version": "1.2.0",
            "_view_name": "StyleView",
            "description_width": ""
          }
        }
      }
    }
  },
  "cells": [
    {
      "cell_type": "markdown",
      "metadata": {
        "id": "view-in-github",
        "colab_type": "text"
      },
      "source": [
        "<a href=\"https://colab.research.google.com/github/rituparna50/AstrophysicsLibraries/blob/main/Astrophysics_Libraries.ipynb\" target=\"_parent\"><img src=\"https://colab.research.google.com/assets/colab-badge.svg\" alt=\"Open In Colab\"/></a>"
      ]
    },
    {
      "cell_type": "markdown",
      "source": [
        "# **ASTROPHYSICS LIBRARIES AND FUNCTIONS FOR DATA ANALYSIS**"
      ],
      "metadata": {
        "id": "8cU_1PAy5mFH"
      }
    },
    {
      "cell_type": "markdown",
      "source": [
        "Astrophysics uses a common set of libraries between them. Astropy is a wodely used library by scientists, astronomores, aerospace engineers etc. Wherease, sunpy is a subset library within astropy, which primarily caters to Heliophysics - study of the Sun."
      ],
      "metadata": {
        "id": "1u4wBhqf5V3k"
      }
    },
    {
      "cell_type": "markdown",
      "source": [
        "Installing astropy and sunpy libraries"
      ],
      "metadata": {
        "id": "0Xl9sIFQzHsO"
      }
    },
    {
      "cell_type": "code",
      "source": [
        "!pip install astropy\n",
        "!pip install sunpy"
      ],
      "metadata": {
        "colab": {
          "base_uri": "https://localhost:8080/"
        },
        "id": "pDlvwrRAzBUF",
        "outputId": "294cbf53-4e8c-4dbe-83fc-c887b67021d9"
      },
      "execution_count": null,
      "outputs": [
        {
          "output_type": "stream",
          "name": "stdout",
          "text": [
            "Requirement already satisfied: astropy in /usr/local/lib/python3.10/dist-packages (5.2.2)\n",
            "Requirement already satisfied: numpy>=1.20 in /usr/local/lib/python3.10/dist-packages (from astropy) (1.22.4)\n",
            "Requirement already satisfied: pyerfa>=2.0 in /usr/local/lib/python3.10/dist-packages (from astropy) (2.0.0.3)\n",
            "Requirement already satisfied: PyYAML>=3.13 in /usr/local/lib/python3.10/dist-packages (from astropy) (6.0)\n",
            "Requirement already satisfied: packaging>=19.0 in /usr/local/lib/python3.10/dist-packages (from astropy) (23.1)\n",
            "Collecting sunpy\n",
            "  Downloading sunpy-5.0.0-cp39-abi3-manylinux_2_17_x86_64.manylinux2014_x86_64.whl (3.3 MB)\n",
            "\u001b[2K     \u001b[90m━━━━━━━━━━━━━━━━━━━━━━━━━━━━━━━━━━━━━━━━\u001b[0m \u001b[32m3.3/3.3 MB\u001b[0m \u001b[31m40.9 MB/s\u001b[0m eta \u001b[36m0:00:00\u001b[0m\n",
            "\u001b[?25hRequirement already satisfied: astropy>=5.0.1 in /usr/local/lib/python3.10/dist-packages (from sunpy) (5.2.2)\n",
            "Requirement already satisfied: numpy>=1.21.0 in /usr/local/lib/python3.10/dist-packages (from sunpy) (1.22.4)\n",
            "Requirement already satisfied: packaging>=19.0 in /usr/local/lib/python3.10/dist-packages (from sunpy) (23.1)\n",
            "Collecting parfive[ftp]>=2.0.0 (from sunpy)\n",
            "  Downloading parfive-2.0.2-py3-none-any.whl (26 kB)\n",
            "Requirement already satisfied: pyerfa>=2.0 in /usr/local/lib/python3.10/dist-packages (from astropy>=5.0.1->sunpy) (2.0.0.3)\n",
            "Requirement already satisfied: PyYAML>=3.13 in /usr/local/lib/python3.10/dist-packages (from astropy>=5.0.1->sunpy) (6.0)\n",
            "Requirement already satisfied: tqdm>=4.27.0 in /usr/local/lib/python3.10/dist-packages (from parfive[ftp]>=2.0.0->sunpy) (4.65.0)\n",
            "Requirement already satisfied: aiohttp in /usr/local/lib/python3.10/dist-packages (from parfive[ftp]>=2.0.0->sunpy) (3.8.4)\n",
            "Collecting aioftp>=0.17.1 (from parfive[ftp]>=2.0.0->sunpy)\n",
            "  Downloading aioftp-0.21.4-py3-none-any.whl (37 kB)\n",
            "Requirement already satisfied: attrs>=17.3.0 in /usr/local/lib/python3.10/dist-packages (from aiohttp->parfive[ftp]>=2.0.0->sunpy) (23.1.0)\n",
            "Requirement already satisfied: charset-normalizer<4.0,>=2.0 in /usr/local/lib/python3.10/dist-packages (from aiohttp->parfive[ftp]>=2.0.0->sunpy) (2.0.12)\n",
            "Requirement already satisfied: multidict<7.0,>=4.5 in /usr/local/lib/python3.10/dist-packages (from aiohttp->parfive[ftp]>=2.0.0->sunpy) (6.0.4)\n",
            "Requirement already satisfied: async-timeout<5.0,>=4.0.0a3 in /usr/local/lib/python3.10/dist-packages (from aiohttp->parfive[ftp]>=2.0.0->sunpy) (4.0.2)\n",
            "Requirement already satisfied: yarl<2.0,>=1.0 in /usr/local/lib/python3.10/dist-packages (from aiohttp->parfive[ftp]>=2.0.0->sunpy) (1.9.2)\n",
            "Requirement already satisfied: frozenlist>=1.1.1 in /usr/local/lib/python3.10/dist-packages (from aiohttp->parfive[ftp]>=2.0.0->sunpy) (1.3.3)\n",
            "Requirement already satisfied: aiosignal>=1.1.2 in /usr/local/lib/python3.10/dist-packages (from aiohttp->parfive[ftp]>=2.0.0->sunpy) (1.3.1)\n",
            "Requirement already satisfied: idna>=2.0 in /usr/local/lib/python3.10/dist-packages (from yarl<2.0,>=1.0->aiohttp->parfive[ftp]>=2.0.0->sunpy) (3.4)\n",
            "Installing collected packages: aioftp, parfive, sunpy\n",
            "Successfully installed aioftp-0.21.4 parfive-2.0.2 sunpy-5.0.0\n"
          ]
        }
      ]
    },
    {
      "cell_type": "markdown",
      "source": [
        "**Times in Astropy/SunPy**\n",
        "Sunpy uses \"astropy.time\" module. This section explains how to parse times from different formats as well as construct and inspect time ranges.\n",
        "\n",
        "**Parsing Times**\n",
        "In the context of \"sunpy.time.parse_time()', it means the process of converting a date or time string into a standardized format that can easily be understood and processed by a computer. While working with different dates and times, there are different formats such as DD-MM-YYYY or MM-DD-YYYY etc. This inconsistency in dating system poses a challenge to the computer interpreto. So, the parse_time() function simplifies this process by automatically recognizing and converting various data and time string formats into a common format."
      ],
      "metadata": {
        "id": "JocoPaM8z3_Q"
      }
    },
    {
      "cell_type": "code",
      "source": [
        "from sunpy.time import parse_time   # Library is sunpy, shelf/room is time. Function/book is parse_time\n",
        "parse_time('2007-05-04T21:08:12')\n"
      ],
      "metadata": {
        "colab": {
          "base_uri": "https://localhost:8080/"
        },
        "id": "_DiO9tLMzm6X",
        "outputId": "89a966d0-c7a1-422e-e337-8ef48e7d4f9b"
      },
      "execution_count": null,
      "outputs": [
        {
          "output_type": "execute_result",
          "data": {
            "text/plain": [
              "<Time object: scale='utc' format='isot' value=2007-05-04T21:08:12.000>"
            ]
          },
          "metadata": {},
          "execution_count": 6
        }
      ]
    },
    {
      "cell_type": "code",
      "source": [
        "parse_time(894316092.00000, format='utime')   # Time input in seconds from epoch time"
      ],
      "metadata": {
        "colab": {
          "base_uri": "https://localhost:8080/"
        },
        "id": "1n81csUk3hRI",
        "outputId": "5681b7f1-2854-4b17-b2b9-83144dad6ad9"
      },
      "execution_count": null,
      "outputs": [
        {
          "output_type": "execute_result",
          "data": {
            "text/plain": [
              "<Time object: scale='utc' format='utime' value=894316092.0>"
            ]
          },
          "metadata": {},
          "execution_count": 7
        }
      ]
    },
    {
      "cell_type": "markdown",
      "source": [
        "# **Time Ranges**\n",
        "\n",
        "Very common in astrophysics is working with pairs of times or time ranges. For dealing with such time ranges, sunpy library provides sunpy.time.TimeRange object. This object can be created by giving a starttime and an end time."
      ],
      "metadata": {
        "id": "koLPaafD3vD8"
      }
    },
    {
      "cell_type": "code",
      "source": [
        "from sunpy.time import TimeRange  #Sunoy library, shelf time, Book - TimeRange\n",
        "time_range = TimeRange('2010/03/04 00:10', 400*u.second)\n",
        "print (time_range)"
      ],
      "metadata": {
        "colab": {
          "base_uri": "https://localhost:8080/"
        },
        "id": "R--oqtNY4GM7",
        "outputId": "b4381af1-1664-484a-b25b-91763a79fc1f"
      },
      "execution_count": null,
      "outputs": [
        {
          "output_type": "stream",
          "name": "stdout",
          "text": [
            "   <sunpy.time.timerange.TimeRange object at 0x7f5938a2fe20>\n",
            "    Start: 2010-03-04 00:10:00\n",
            "    End:   2010-03-04 00:16:40\n",
            "    Center:2010-03-04 00:13:20\n",
            "    Duration:0.00462962962962965 days or\n",
            "           0.1111111111111116 hours or\n",
            "           6.666666666666696 minutes or\n",
            "           400.00000000000176 seconds\n",
            "\n"
          ]
        }
      ]
    },
    {
      "cell_type": "code",
      "source": [
        "time_range.seconds  ## Time range function can be used to find total duration of the time range\n"
      ],
      "metadata": {
        "colab": {
          "base_uri": "https://localhost:8080/",
          "height": 37
        },
        "id": "ofGkl9E94-Qh",
        "outputId": "9492e3ca-9a71-4477-9299-5651a82b6fe8"
      },
      "execution_count": null,
      "outputs": [
        {
          "output_type": "execute_result",
          "data": {
            "text/plain": [
              "<Quantity 400. s>"
            ],
            "text/latex": "$400 \\; \\mathrm{s}$"
          },
          "metadata": {},
          "execution_count": 9
        }
      ]
    },
    {
      "cell_type": "code",
      "source": [
        "#time_range.center"
      ],
      "metadata": {
        "id": "W1gfCVvB5Fzb"
      },
      "execution_count": null,
      "outputs": []
    },
    {
      "cell_type": "code",
      "source": [
        "time_range.split(2)  #Splits time block into 2 pieces"
      ],
      "metadata": {
        "colab": {
          "base_uri": "https://localhost:8080/"
        },
        "id": "sADsQ6S85-Th",
        "outputId": "1e08b096-a1a1-47e6-d60c-4b65a1f20977"
      },
      "execution_count": null,
      "outputs": [
        {
          "output_type": "execute_result",
          "data": {
            "text/plain": [
              "[   <sunpy.time.timerange.TimeRange object at 0x7f58f8d25ff0>\n",
              "     Start: 2010-03-04 00:10:00\n",
              "     End:   2010-03-04 00:13:20\n",
              "     Center:2010-03-04 00:11:40\n",
              "     Duration:0.002314814814814825 days or\n",
              "            0.0555555555555558 hours or\n",
              "            3.333333333333348 minutes or\n",
              "            200.00000000000088 seconds,\n",
              "    <sunpy.time.timerange.TimeRange object at 0x7f58f8d25f60>\n",
              "     Start: 2010-03-04 00:13:20\n",
              "     End:   2010-03-04 00:16:40\n",
              "     Center:2010-03-04 00:15:00\n",
              "     Duration:0.002314814814814825 days or\n",
              "            0.0555555555555558 hours or\n",
              "            3.333333333333348 minutes or\n",
              "            200.00000000000088 seconds]"
            ]
          },
          "metadata": {},
          "execution_count": 11
        }
      ]
    },
    {
      "cell_type": "code",
      "source": [
        "time_range.split(3)   #Splits time block into 3 pieces"
      ],
      "metadata": {
        "colab": {
          "base_uri": "https://localhost:8080/"
        },
        "id": "n30Y7A7l7DLp",
        "outputId": "1788043c-4f19-421f-ce7e-e40c1c8a33a5"
      },
      "execution_count": null,
      "outputs": [
        {
          "output_type": "execute_result",
          "data": {
            "text/plain": [
              "[   <sunpy.time.timerange.TimeRange object at 0x7f58f8d263e0>\n",
              "     Start: 2010-03-04 00:10:00\n",
              "     End:   2010-03-04 00:12:13\n",
              "     Center:2010-03-04 00:11:06\n",
              "     Duration:0.0015432098765432167 days or\n",
              "            0.0370370370370372 hours or\n",
              "            2.222222222222232 minutes or\n",
              "            133.33333333333394 seconds,\n",
              "    <sunpy.time.timerange.TimeRange object at 0x7f58f8d26440>\n",
              "     Start: 2010-03-04 00:12:13\n",
              "     End:   2010-03-04 00:14:26\n",
              "     Center:2010-03-04 00:13:20\n",
              "     Duration:0.0015432098765432167 days or\n",
              "            0.0370370370370372 hours or\n",
              "            2.222222222222232 minutes or\n",
              "            133.33333333333394 seconds,\n",
              "    <sunpy.time.timerange.TimeRange object at 0x7f58f8d26320>\n",
              "     Start: 2010-03-04 00:14:26\n",
              "     End:   2010-03-04 00:16:40\n",
              "     Center:2010-03-04 00:15:33\n",
              "     Duration:0.0015432098765432167 days or\n",
              "            0.0370370370370372 hours or\n",
              "            2.222222222222232 minutes or\n",
              "            133.33333333333394 seconds]"
            ]
          },
          "metadata": {},
          "execution_count": 12
        }
      ]
    },
    {
      "cell_type": "markdown",
      "source": [
        "# **Coordinates**\n",
        "\n",
        "To find coordinates of any object in 3D space, the library astropy is used. So, particularly for this task - astropy.coordinates is used where coordinates is the module. Astropy.coordinates is used to represent points in physical space. This is applicable for booth points in 3D space and projected coordinates in images.\n",
        "\n",
        "Within the astropy coordinates modules, there exists the SkyCoord class, which is vital here.\n",
        "\n"
      ],
      "metadata": {
        "id": "bcx2DQ-U7Zb0"
      }
    },
    {
      "cell_type": "code",
      "source": [
        "from astropy.coordinates import SkyCoord\n",
        "import astropy.units as u"
      ],
      "metadata": {
        "id": "gTl_cUzV9lul"
      },
      "execution_count": null,
      "outputs": []
    },
    {
      "cell_type": "code",
      "source": [
        "from sunpy.coordinates import frames  ## Importing a specific module called \"frames\" from the sunpy.coordinates package.\n",
        "## It is used to enable the use of solar physics-specific coordinate frames int he code.\n",
        "## By importing tis module, one can access and use the coordiante frames defined in the sunpy package"
      ],
      "metadata": {
        "id": "iTvFBtbv-Qsu"
      },
      "execution_count": null,
      "outputs": []
    },
    {
      "cell_type": "code",
      "source": [
        "##Creating a SkyCoord object to represent a point on the Sun\n",
        "coord = SkyCoord(70*u.deg, -30*u.deg, obstime = \"2017-08-01\", frame=frames.HeliographicStonyhurst)\n",
        "coord"
      ],
      "metadata": {
        "colab": {
          "base_uri": "https://localhost:8080/"
        },
        "id": "rfVMWpqF-8ku",
        "outputId": "108cbfa9-5d36-4802-f5db-76ec943fe16b"
      },
      "execution_count": null,
      "outputs": [
        {
          "output_type": "execute_result",
          "data": {
            "text/plain": [
              "<SkyCoord (HeliographicStonyhurst: obstime=2017-08-01T00:00:00.000, rsun=695700.0 km): (lon, lat) in deg\n",
              "    (70., -30.)>"
            ]
          },
          "metadata": {},
          "execution_count": 15
        }
      ]
    },
    {
      "cell_type": "markdown",
      "source": [
        "Here is a link of various coordinate systems that can be accessed. [link text](https://docs.sunpy.org/en/stable/reference/coordinates/index.html#sunpy-coordinate-systems)"
      ],
      "metadata": {
        "id": "L6jebsvEGUZl"
      }
    },
    {
      "cell_type": "code",
      "source": [
        "coord.transform_to(frames.Helioprojective(observer=\"earth\"))"
      ],
      "metadata": {
        "colab": {
          "base_uri": "https://localhost:8080/"
        },
        "id": "L8rRczHrGlpI",
        "outputId": "c7ddea49-f471-4dcc-a56e-10f923346493"
      },
      "execution_count": null,
      "outputs": [
        {
          "output_type": "execute_result",
          "data": {
            "text/plain": [
              "<SkyCoord (Helioprojective: obstime=2017-08-01T00:00:00.000, rsun=695700.0 km, observer=<HeliographicStonyhurst Coordinate for 'earth'>): (Tx, Ty, distance) in (arcsec, arcsec, km)\n",
              "    (769.96270814, -498.89715922, 1.51668773e+08)>"
            ]
          },
          "metadata": {},
          "execution_count": 16
        }
      ]
    },
    {
      "cell_type": "code",
      "source": [
        "coord.transform_to('icrs')"
      ],
      "metadata": {
        "colab": {
          "base_uri": "https://localhost:8080/"
        },
        "id": "iiW7Qfx3KTqK",
        "outputId": "61101e00-8fe4-45ac-80f2-8bd0ab3aa5d9"
      },
      "execution_count": null,
      "outputs": [
        {
          "output_type": "execute_result",
          "data": {
            "text/plain": [
              "<SkyCoord (ICRS): (ra, dec, distance) in (deg, deg, km)\n",
              "    (49.84856512, 0.05394699, 1417743.94689472)>"
            ]
          },
          "metadata": {},
          "execution_count": 28
        }
      ]
    },
    {
      "cell_type": "markdown",
      "source": [
        "SkyCoord and other coordinate frames support array coordinates. These work the same as singel value coordinates but they store multipe coordinates ina single opbject. So, when we do any operation to many differnt coordinates, this is a better choice than a list of SkyCoord objects, because this way is much faster than applying the operation to each Skycoord in a for loop."
      ],
      "metadata": {
        "id": "tRH1bI9rLwb6"
      }
    },
    {
      "cell_type": "code",
      "source": [
        "coord = SkyCoord([-500,400]*u.arcsec, [100,200]*u.arcsec, frame=frames.Helioprojective)\n",
        "coord"
      ],
      "metadata": {
        "colab": {
          "base_uri": "https://localhost:8080/"
        },
        "id": "B1waq7bFMEPT",
        "outputId": "d147a127-ac98-45b8-961a-590d70d2b74a"
      },
      "execution_count": null,
      "outputs": [
        {
          "output_type": "execute_result",
          "data": {
            "text/plain": [
              "<SkyCoord (Helioprojective: obstime=None, rsun=695700.0 km, observer=None): (Tx, Ty) in arcsec\n",
              "    [(-500., 100.), ( 400., 200.)]>"
            ]
          },
          "metadata": {},
          "execution_count": 17
        }
      ]
    },
    {
      "cell_type": "code",
      "source": [
        "coord[0]"
      ],
      "metadata": {
        "colab": {
          "base_uri": "https://localhost:8080/"
        },
        "id": "3sKubmAtMYOj",
        "outputId": "e8038a35-bd1d-4735-c113-31390f75181b"
      },
      "execution_count": null,
      "outputs": [
        {
          "output_type": "execute_result",
          "data": {
            "text/plain": [
              "<SkyCoord (Helioprojective: obstime=None, rsun=695700.0 km, observer=None): (Tx, Ty) in arcsec\n",
              "    (-500., 100.)>"
            ]
          },
          "metadata": {},
          "execution_count": 18
        }
      ]
    },
    {
      "cell_type": "code",
      "source": [
        "coord[1]"
      ],
      "metadata": {
        "colab": {
          "base_uri": "https://localhost:8080/"
        },
        "id": "MForyw24MaDR",
        "outputId": "72dc361d-8630-49ef-9a8e-578faeddcfb3"
      },
      "execution_count": null,
      "outputs": [
        {
          "output_type": "execute_result",
          "data": {
            "text/plain": [
              "<SkyCoord (Helioprojective: obstime=None, rsun=695700.0 km, observer=None): (Tx, Ty) in arcsec\n",
              "    (400., 200.)>"
            ]
          },
          "metadata": {},
          "execution_count": 19
        }
      ]
    },
    {
      "cell_type": "markdown",
      "source": [
        "# **Observer Location**\n",
        "\n",
        "Both Helioprojective and Heliocentric frames are defined in terms of the position of the observer. So, to transform either of these frames to a different frame, the location of the observer must be known. The observer can be specified for a coordinate object using the \"observer\" argument to SkyCoord. For Sunpy to calculate the location of Earth or another solar system bod, it must know the time associated with the coordinate- this is specified with the obstime argument.\n",
        "\n",
        "By using the observer location, it is possible to convert a coordnate as seen by obe observer to a coordinate seen by anitiher.\n",
        "\n",
        "The \"Helioprojective\" frame is a perspective view from a specific observer location. So, this is about changing our perspective of where a solar object is in the sky, from one location to anotehr."
      ],
      "metadata": {
        "id": "LLz5HfejMdwa"
      }
    },
    {
      "cell_type": "code",
      "source": [
        "hpc = SkyCoord(0*u.arcsec, 0*u.arcsec, observer=\"earth\", obstime=\"2017-07-26\", frame=frames.Helioprojective)\n",
        "\n",
        "hpc.transform_to(frames.Helioprojective(observer=\"venus\", obstime=\"2017-07-26\"))"
      ],
      "metadata": {
        "colab": {
          "base_uri": "https://localhost:8080/"
        },
        "id": "dQacNSklVW1t",
        "outputId": "0a7af0ac-1f4c-4962-908f-5c744008879f"
      },
      "execution_count": null,
      "outputs": [
        {
          "output_type": "execute_result",
          "data": {
            "text/plain": [
              "<SkyCoord (Helioprojective: obstime=2017-07-26T00:00:00.000, rsun=695700.0 km, observer=<HeliographicStonyhurst Coordinate for 'venus'>): (Tx, Ty, distance) in (arcsec, arcsec, AU)\n",
              "    (-1285.47497992, 106.20918654, 0.72405937)>"
            ]
          },
          "metadata": {},
          "execution_count": 22
        }
      ]
    },
    {
      "cell_type": "markdown",
      "source": [
        "**Using Coordinates with Maps**\n",
        "Sunpy Maps use coordinates to specify locations on the image, and to  plot the overlays on these map plots. After a map is created, a coordinate frame is constructed from the header information, which can be accessed using .coordinate_frame"
      ],
      "metadata": {
        "id": "dbdh2vyweUxM"
      }
    },
    {
      "cell_type": "code",
      "source": [
        "from astropy.coordinates import SkyCoord\n",
        "import astropy.units as u"
      ],
      "metadata": {
        "id": "xOJHiD4UefC1"
      },
      "execution_count": null,
      "outputs": []
    },
    {
      "cell_type": "code",
      "source": [
        "import sunpy.map\n",
        "from sunpy.data.sample import AIA_171_IMAGE"
      ],
      "metadata": {
        "colab": {
          "base_uri": "https://localhost:8080/",
          "height": 49,
          "referenced_widgets": [
            "28ea0482f1cf42778234df69fc436c8f",
            "38e46dc54c7344198c40e9acbb684dd5",
            "060f25c823de494cb2a40f2867de4a8e",
            "5bc33ec708dd4ecc998e75acd1fc7284",
            "119694ef07c64f0fb828e87ba7e32242",
            "b272a13c0a85491fb7a758de7fe554c3",
            "949d400910ed47f4a15ff837e54295c1",
            "452e1dd328d9424285ace7222d25966c",
            "aac89eb1979e4df8975c7e0cab2111c7",
            "bae53423eb3b434baae14493a1f4d413",
            "7873336089584ccdaf44f8023172000b",
            "2b6d71446adf458e900eeea10fd17ff2",
            "515c9be2156448028e19414e7bcbd24f",
            "01f1dd788f654785a93e29c4882610b1",
            "2f3e9a1b11d14783baf3c059b657006e",
            "6764c64c166541c8a01c39b0ce9ed1d1",
            "87dd24ffe0e0467e9a06ff1806a46890",
            "abfca9129e6d43a1904dacf77c4000c1",
            "53c02181605142968c90fb00c7122f63",
            "7535e5077d474d5e80a39bec67f0035e",
            "d9de03dc8a3149928e0ba8cfc324814e",
            "22da99e1d93d4b8490a54c28254ffecd"
          ]
        },
        "id": "E_A73pv8e2T7",
        "outputId": "b949ad4a-529a-44a4-cf3f-20d490dc6857"
      },
      "execution_count": null,
      "outputs": [
        {
          "output_type": "display_data",
          "data": {
            "text/plain": [
              "Files Downloaded:   0%|          | 0/1 [00:00<?, ?file/s]"
            ],
            "application/vnd.jupyter.widget-view+json": {
              "version_major": 2,
              "version_minor": 0,
              "model_id": "28ea0482f1cf42778234df69fc436c8f"
            }
          },
          "metadata": {}
        },
        {
          "output_type": "display_data",
          "data": {
            "text/plain": [
              "AIA20110607_063302_0171_lowres.fits:   0%|          | 0.00/973k [00:00<?, ?B/s]"
            ],
            "application/vnd.jupyter.widget-view+json": {
              "version_major": 2,
              "version_minor": 0,
              "model_id": "2b6d71446adf458e900eeea10fd17ff2"
            }
          },
          "metadata": {}
        }
      ]
    },
    {
      "cell_type": "code",
      "source": [
        "amap = sunpy.map.Map(AIA_171_IMAGE)\n",
        "amap.coordinate_frame"
      ],
      "metadata": {
        "colab": {
          "base_uri": "https://localhost:8080/"
        },
        "id": "nsJTpVpHfB6j",
        "outputId": "736bf19f-cb16-47ca-f373-2be0f3d55043"
      },
      "execution_count": null,
      "outputs": [
        {
          "output_type": "execute_result",
          "data": {
            "text/plain": [
              "<Helioprojective Frame (obstime=2011-06-07T06:33:02.770, rsun=696000.0 km, observer=<HeliographicStonyhurst Coordinate (obstime=2011-06-07T06:33:02.770, rsun=696000.0 km): (lon, lat, radius) in (deg, deg, m)\n",
              "    (-0.00406308, 0.04787238, 1.51846026e+11)>)>"
            ]
          },
          "metadata": {},
          "execution_count": 25
        }
      ]
    },
    {
      "cell_type": "code",
      "source": [
        "coord = SkyCoord(100*u.arcsec, 10*u.arcsec, frame=amap.coordinate_frame)\n",
        "coord\n",
        "## Used when creating a SkyCoord object to set the coordinate system to that image"
      ],
      "metadata": {
        "colab": {
          "base_uri": "https://localhost:8080/"
        },
        "id": "3Gpk0DMJfs20",
        "outputId": "2fcd11bf-19c7-4712-bb51-ab50a670daa4"
      },
      "execution_count": null,
      "outputs": [
        {
          "output_type": "execute_result",
          "data": {
            "text/plain": [
              "<SkyCoord (Helioprojective: obstime=2011-06-07T06:33:02.770, rsun=696000.0 km, observer=<HeliographicStonyhurst Coordinate (obstime=2011-06-07T06:33:02.770, rsun=696000.0 km): (lon, lat, radius) in (deg, deg, m)\n",
              "    (-0.00406308, 0.04787238, 1.51846026e+11)>): (Tx, Ty) in arcsec\n",
              "    (100., 10.)>"
            ]
          },
          "metadata": {},
          "execution_count": 26
        }
      ]
    },
    {
      "cell_type": "code",
      "source": [
        "## Skycord object can be converted to a pair of pixels using GenericMap.wcs.world_to_pixel\n",
        "pixels = amap.wcs.world_to_pixel(coord)\n",
        "pixels"
      ],
      "metadata": {
        "colab": {
          "base_uri": "https://localhost:8080/"
        },
        "id": "SkQCZAMXgASi",
        "outputId": "9c4edabc-f227-4401-fa07-3891d7873524"
      },
      "execution_count": null,
      "outputs": [
        {
          "output_type": "execute_result",
          "data": {
            "text/plain": [
              "(array(551.7680511), array(515.18266871))"
            ]
          },
          "metadata": {},
          "execution_count": 27
        }
      ]
    },
    {
      "cell_type": "code",
      "source": [
        "## SkyCoord object can be used to plot a point on top of the map\n",
        "import matplotlib.pyplot as plt\n",
        "\n",
        "fig = plt.figure()\n",
        "ax = plt.subplot(projection=amap)\n",
        "amap.plot()\n",
        "ax.plot_coord(coord,'o')"
      ],
      "metadata": {
        "colab": {
          "base_uri": "https://localhost:8080/",
          "height": 495
        },
        "id": "8Dy2cfzhgSvo",
        "outputId": "618cd7e5-5e1f-44a5-9612-47ef7fa6f47a"
      },
      "execution_count": null,
      "outputs": [
        {
          "output_type": "execute_result",
          "data": {
            "text/plain": [
              "[<matplotlib.lines.Line2D at 0x7f58ecb5e2f0>]"
            ]
          },
          "metadata": {},
          "execution_count": 28
        },
        {
          "output_type": "display_data",
          "data": {
            "text/plain": [
              "<Figure size 640x480 with 1 Axes>"
            ],
            "image/png": "[encoded data removed]"
          },
          "metadata": {}
        }
      ]
    },
    {
      "cell_type": "markdown",
      "source": [
        "# **ACQUIRING DATA**\n",
        "\n",
        "Most Heliocentric data are stored on JSOC database.\n",
        "\n",
        "Fido - Unified data search and retrieval tool. Provies simultaneous access to a variety of online data sources, some cover mltiple instruments and data products.\n",
        "\n",
        "The Fido object is in sunpy.net."
      ],
      "metadata": {
        "id": "mm88v9P-oJUQ"
      }
    },
    {
      "cell_type": "markdown",
      "source": [
        "Now, drms library is installed. drms is a Python library for accessing HMI, AIA and MDI fata with the JSOC interface. Sunoy often will interface with this drms library.\n",
        "\n",
        "Sometimes libraries have dependencies that need to be installed separately. When installing a library, its always recommended to to check its documentation for a list of dependencies, or to use a package manager that automatically installs dependencies."
      ],
      "metadata": {
        "id": "k9QJBV1yYY8E"
      }
    },
    {
      "cell_type": "code",
      "source": [
        "!pip install zeep\n",
        "!pip install sunpy\n",
        "!pip install drms"
      ],
      "metadata": {
        "colab": {
          "base_uri": "https://localhost:8080/"
        },
        "id": "zjRB7zdZV0p5",
        "outputId": "38ed80ca-d0c1-47fa-eacc-c4cd138011d1"
      },
      "execution_count": 3,
      "outputs": [
        {
          "output_type": "stream",
          "name": "stdout",
          "text": [
            "Collecting zeep\n",
            "  Downloading zeep-4.2.1-py3-none-any.whl (101 kB)\n",
            "\u001b[?25l     \u001b[90m━━━━━━━━━━━━━━━━━━━━━━━━━━━━━━━━━━━━━━━━\u001b[0m \u001b[32m0.0/101.2 kB\u001b[0m \u001b[31m?\u001b[0m eta \u001b[36m-:--:--\u001b[0m\r\u001b[2K     \u001b[90m━━━━━━━━━━━━━━━━━━━━━━━━━━━━━━━━━━━━━━━\u001b[0m \u001b[32m101.2/101.2 kB\u001b[0m \u001b[31m8.8 MB/s\u001b[0m eta \u001b[36m0:00:00\u001b[0m\n",
            "\u001b[?25hRequirement already satisfied: attrs>=17.2.0 in /usr/local/lib/python3.10/dist-packages (from zeep) (23.1.0)\n",
            "Collecting isodate>=0.5.4 (from zeep)\n",
            "  Downloading isodate-0.6.1-py2.py3-none-any.whl (41 kB)\n",
            "\u001b[2K     \u001b[90m━━━━━━━━━━━━━━━━━━━━━━━━━━━━━━━━━━━━━━━━\u001b[0m \u001b[32m41.7/41.7 kB\u001b[0m \u001b[31m3.1 MB/s\u001b[0m eta \u001b[36m0:00:00\u001b[0m\n",
            "\u001b[?25hRequirement already satisfied: lxml>=4.6.0 in /usr/local/lib/python3.10/dist-packages (from zeep) (4.9.3)\n",
            "Requirement already satisfied: platformdirs>=1.4.0 in /usr/local/lib/python3.10/dist-packages (from zeep) (3.8.1)\n",
            "Requirement already satisfied: requests>=2.7.0 in /usr/local/lib/python3.10/dist-packages (from zeep) (2.27.1)\n",
            "Collecting requests-toolbelt>=0.7.1 (from zeep)\n",
            "  Downloading requests_toolbelt-1.0.0-py2.py3-none-any.whl (54 kB)\n",
            "\u001b[2K     \u001b[90m━━━━━━━━━━━━━━━━━━━━━━━━━━━━━━━━━━━━━━━━\u001b[0m \u001b[32m54.5/54.5 kB\u001b[0m \u001b[31m5.6 MB/s\u001b[0m eta \u001b[36m0:00:00\u001b[0m\n",
            "\u001b[?25hCollecting requests-file>=1.5.1 (from zeep)\n",
            "  Downloading requests_file-1.5.1-py2.py3-none-any.whl (3.7 kB)\n",
            "Requirement already satisfied: pytz in /usr/local/lib/python3.10/dist-packages (from zeep) (2022.7.1)\n",
            "Requirement already satisfied: six in /usr/local/lib/python3.10/dist-packages (from isodate>=0.5.4->zeep) (1.16.0)\n",
            "Requirement already satisfied: urllib3<1.27,>=1.21.1 in /usr/local/lib/python3.10/dist-packages (from requests>=2.7.0->zeep) (1.26.16)\n",
            "Requirement already satisfied: certifi>=2017.4.17 in /usr/local/lib/python3.10/dist-packages (from requests>=2.7.0->zeep) (2023.5.7)\n",
            "Requirement already satisfied: charset-normalizer~=2.0.0 in /usr/local/lib/python3.10/dist-packages (from requests>=2.7.0->zeep) (2.0.12)\n",
            "Requirement already satisfied: idna<4,>=2.5 in /usr/local/lib/python3.10/dist-packages (from requests>=2.7.0->zeep) (3.4)\n",
            "Installing collected packages: isodate, requests-toolbelt, requests-file, zeep\n",
            "Successfully installed isodate-0.6.1 requests-file-1.5.1 requests-toolbelt-1.0.0 zeep-4.2.1\n",
            "Collecting sunpy\n",
            "  Downloading sunpy-5.0.0-cp39-abi3-manylinux_2_17_x86_64.manylinux2014_x86_64.whl (3.3 MB)\n",
            "\u001b[2K     \u001b[90m━━━━━━━━━━━━━━━━━━━━━━━━━━━━━━━━━━━━━━━━\u001b[0m \u001b[32m3.3/3.3 MB\u001b[0m \u001b[31m59.4 MB/s\u001b[0m eta \u001b[36m0:00:00\u001b[0m\n",
            "\u001b[?25hRequirement already satisfied: astropy>=5.0.1 in /usr/local/lib/python3.10/dist-packages (from sunpy) (5.2.2)\n",
            "Requirement already satisfied: numpy>=1.21.0 in /usr/local/lib/python3.10/dist-packages (from sunpy) (1.22.4)\n",
            "Requirement already satisfied: packaging>=19.0 in /usr/local/lib/python3.10/dist-packages (from sunpy) (23.1)\n",
            "Collecting parfive[ftp]>=2.0.0 (from sunpy)\n",
            "  Downloading parfive-2.0.2-py3-none-any.whl (26 kB)\n",
            "Requirement already satisfied: pyerfa>=2.0 in /usr/local/lib/python3.10/dist-packages (from astropy>=5.0.1->sunpy) (2.0.0.3)\n",
            "Requirement already satisfied: PyYAML>=3.13 in /usr/local/lib/python3.10/dist-packages (from astropy>=5.0.1->sunpy) (6.0)\n",
            "Requirement already satisfied: tqdm>=4.27.0 in /usr/local/lib/python3.10/dist-packages (from parfive[ftp]>=2.0.0->sunpy) (4.65.0)\n",
            "Requirement already satisfied: aiohttp in /usr/local/lib/python3.10/dist-packages (from parfive[ftp]>=2.0.0->sunpy) (3.8.4)\n",
            "Collecting aioftp>=0.17.1 (from parfive[ftp]>=2.0.0->sunpy)\n",
            "  Downloading aioftp-0.21.4-py3-none-any.whl (37 kB)\n",
            "Requirement already satisfied: attrs>=17.3.0 in /usr/local/lib/python3.10/dist-packages (from aiohttp->parfive[ftp]>=2.0.0->sunpy) (23.1.0)\n",
            "Requirement already satisfied: charset-normalizer<4.0,>=2.0 in /usr/local/lib/python3.10/dist-packages (from aiohttp->parfive[ftp]>=2.0.0->sunpy) (2.0.12)\n",
            "Requirement already satisfied: multidict<7.0,>=4.5 in /usr/local/lib/python3.10/dist-packages (from aiohttp->parfive[ftp]>=2.0.0->sunpy) (6.0.4)\n",
            "Requirement already satisfied: async-timeout<5.0,>=4.0.0a3 in /usr/local/lib/python3.10/dist-packages (from aiohttp->parfive[ftp]>=2.0.0->sunpy) (4.0.2)\n",
            "Requirement already satisfied: yarl<2.0,>=1.0 in /usr/local/lib/python3.10/dist-packages (from aiohttp->parfive[ftp]>=2.0.0->sunpy) (1.9.2)\n",
            "Requirement already satisfied: frozenlist>=1.1.1 in /usr/local/lib/python3.10/dist-packages (from aiohttp->parfive[ftp]>=2.0.0->sunpy) (1.3.3)\n",
            "Requirement already satisfied: aiosignal>=1.1.2 in /usr/local/lib/python3.10/dist-packages (from aiohttp->parfive[ftp]>=2.0.0->sunpy) (1.3.1)\n",
            "Requirement already satisfied: idna>=2.0 in /usr/local/lib/python3.10/dist-packages (from yarl<2.0,>=1.0->aiohttp->parfive[ftp]>=2.0.0->sunpy) (3.4)\n",
            "Installing collected packages: aioftp, parfive, sunpy\n",
            "Successfully installed aioftp-0.21.4 parfive-2.0.2 sunpy-5.0.0\n",
            "Collecting drms\n",
            "  Downloading drms-0.6.4-py3-none-any.whl (36 kB)\n",
            "Requirement already satisfied: numpy in /usr/local/lib/python3.10/dist-packages (from drms) (1.22.4)\n",
            "Requirement already satisfied: pandas in /usr/local/lib/python3.10/dist-packages (from drms) (1.5.3)\n",
            "Requirement already satisfied: python-dateutil>=2.8.1 in /usr/local/lib/python3.10/dist-packages (from pandas->drms) (2.8.2)\n",
            "Requirement already satisfied: pytz>=2020.1 in /usr/local/lib/python3.10/dist-packages (from pandas->drms) (2022.7.1)\n",
            "Requirement already satisfied: six>=1.5 in /usr/local/lib/python3.10/dist-packages (from python-dateutil>=2.8.1->pandas->drms) (1.16.0)\n",
            "Installing collected packages: drms\n",
            "Successfully installed drms-0.6.4\n"
          ]
        }
      ]
    },
    {
      "cell_type": "markdown",
      "source": [
        "In this context, Fido is a unified interface provided by SunPy for searching and fetching solar physics data. Fido stands for Federate Internet Data Obtainer. It allows users to get solar physics data from a variety of sources using a single, consistent interface. This means that you can use the same commands and syntax to search for and download data from different providers, which can greatly simplify the process of obtaining solar physics data.\n",
        "\n",
        "The data sources accesible through Fido include a variety of solar physics databases and data centers such as JSOC, Heliophysics Event Knowledgebase (HEK) etc."
      ],
      "metadata": {
        "id": "pKz4MoacY_-P"
      }
    },
    {
      "cell_type": "code",
      "source": [
        "from sunpy.net import Fido, attrs as a\n",
        "\n",
        "## the Fido interface is imported from the SunPy library, along with a module attrs (renamed as a for convenience)\n",
        "## that provides attributes used to specify search criteria."
      ],
      "metadata": {
        "id": "agpfxe9WXwba"
      },
      "execution_count": 4,
      "outputs": []
    },
    {
      "cell_type": "code",
      "source": [
        "print(Fido)"
      ],
      "metadata": {
        "colab": {
          "base_uri": "https://localhost:8080/"
        },
        "id": "94FbPQYMZCSf",
        "outputId": "10d33ebd-207c-46ba-bca9-fe640f93b442"
      },
      "execution_count": null,
      "outputs": [
        {
          "output_type": "stream",
          "name": "stdout",
          "text": [
            "sunpy.net.Fido\n",
            "\n",
            "Fido is a unified data search and retrieval tool.\n",
            "\n",
            "It provides simultaneous access to a variety of online data sources, some\n",
            "cover multiple instruments and data products like the Virtual Solar\n",
            "Observatory and some are specific to a single source.\n",
            "\n",
            "For details of using `~sunpy.net.Fido` see :ref:`sunpy-tutorial-acquiring-data-index`.\n",
            "\n",
            "\n",
            "      Client      ...\n",
            "----------------- ...\n",
            "CDAWEBClient      ...\n",
            "EVEClient         ...\n",
            "GBMClient         ...\n",
            "XRSClient         ...\n",
            "SUVIClient        ...\n",
            "GONGClient        ...\n",
            "LYRAClient        ...\n",
            "NOAAIndicesClient ...\n",
            "NOAAPredictClient ...\n",
            "SRSClient         ...\n",
            "NoRHClient        ...\n",
            "RHESSIClient      ...\n",
            "HEKClient         ...\n",
            "HECClient         ...\n",
            "JSOCClient        ...\n",
            "VSOClient         ...\n"
          ]
        }
      ]
    },
    {
      "cell_type": "markdown",
      "source": [
        "# **Searching for Data**\n",
        "\n",
        "To search for data with Fido, there is a need to specify attributes to search with. Some examples of generic search attributes that work across many differnt data sources are -\n",
        "\n",
        "\n",
        "*   a.Time\n",
        "*   a.Instrument\n",
        "*   a.Wavelength\n",
        "\n",
        "\n",
        "\n",
        "\n",
        "\n"
      ],
      "metadata": {
        "id": "DBixEaXRZsdV"
      }
    },
    {
      "cell_type": "code",
      "source": [
        "a.Time('2012/3/4', '2012/3/6')"
      ],
      "metadata": {
        "id": "HQxHOYfIa91I",
        "outputId": "72e625e6-2022-47f5-df51-5f686c7e5cc3",
        "colab": {
          "base_uri": "https://localhost:8080/"
        }
      },
      "execution_count": 5,
      "outputs": [
        {
          "output_type": "execute_result",
          "data": {
            "text/plain": [
              "<sunpy.net.attrs.Time(2012-03-04 00:00:00.000, 2012-03-06 00:00:00.000)>"
            ]
          },
          "metadata": {},
          "execution_count": 5
        }
      ]
    },
    {
      "cell_type": "code",
      "source": [
        "a.Instrument"
      ],
      "metadata": {
        "colab": {
          "base_uri": "https://localhost:8080/",
          "height": 1000
        },
        "id": "v2xvRkrgakYM",
        "outputId": "6c4820a7-304e-4e6f-d8fc-d28cde2d6b46"
      },
      "execution_count": 6,
      "outputs": [
        {
          "output_type": "execute_result",
          "data": {
            "text/plain": [
              "<class 'sunpy.net.attrs.Instrument'>\n",
              "sunpy.net.attrs.Instrument\n",
              "\n",
              "Specifies the Instrument name for the search.\n",
              "\n",
              "       Attribute Name       ...\n",
              "--------------------------- ...\n",
              "aia                         ...\n",
              "bcs                         ...\n",
              "be_continuum                ...\n",
              "be_halpha                   ...\n",
              "bigbear                     ...\n",
              "caii                        ...\n",
              "cds                         ...\n",
              "celias                      ...\n",
              "cerrotololo                 ...\n",
              "chp                         ...\n",
              "cook                        ...\n",
              "costep                      ...\n",
              "cp                          ...\n",
              "dpm                         ...\n",
              "eis                         ...\n",
              "eit                         ...\n",
              "elteide                     ...\n",
              "erne                        ...\n",
              "eui                         ...\n",
              "eve                         ...\n",
              "eve                         ...\n",
              "film                        ...\n",
              "five_12_channelmagnetograph ...\n",
              "foxsi                       ...\n",
              "gbm                         ...\n",
              "goes                        ...\n",
              "golf                        ...\n",
              "gong                        ...\n",
              "ha2                         ...\n",
              "hi_c                        ...\n",
              "hi_c21                      ...\n",
              "hmi                         ...\n",
              "hxeclipse                   ...\n",
              "hxt                         ...\n",
              "imax                        ...\n",
              "impact                      ...\n",
              "iris                        ...\n",
              "isoon                       ...\n",
              "iss                         ...\n",
              "ivm                         ...\n",
              "k_cor                       ...\n",
              "kpdc                        ...\n",
              "lasco                       ...\n",
              "learmonth                   ...\n",
              "longwave_lobe_06            ...\n",
              "longwave_lobe_07            ...\n",
              "longwave_slit_06            ...\n",
              "longwave_slit_07            ...\n",
              "lyra                        ...\n",
              "lyra                        ...\n",
              "maunaloa                    ...\n",
              "mdi                         ...\n",
              "mees                        ...\n",
              "mergedgong                  ...\n",
              "meudonspectroheliograph     ...\n",
              "mk4                         ...\n",
              "noaa_indices                ...\n",
              "noaa_predict                ...\n",
              "norh                        ...\n",
              "phoenix                     ...\n",
              "phoka                       ...\n",
              "plastic                     ...\n",
              "ptmc                        ...\n",
              "rhessi                      ...\n",
              "rhessi                      ...\n",
              "secchi                      ...\n",
              "shortwave_lobe_06           ...\n",
              "shortwave_lobe_07           ...\n",
              "shortwave_slit_06           ...\n",
              "shortwave_slit_07           ...\n",
              "six_0_ftshg                 ...\n",
              "sj                          ...\n",
              "solarftsspectrometer        ...\n",
              "solohi                      ...\n",
              "soon                        ...\n",
              "sot                         ...\n",
              "sp1                         ...\n",
              "sp2                         ...\n",
              "spectroheliograph           ...\n",
              "spectromagnetograph         ...\n",
              "spice                       ...\n",
              "srs_table                   ...\n",
              "sufi                        ...\n",
              "sumer                       ...\n",
              "sutri                       ...\n",
              "suvi                        ...\n",
              "suvi                        ...\n",
              "swan                        ...\n",
              "swap                        ...\n",
              "swaves                      ...\n",
              "sxt                         ...\n",
              "t1_halpha                   ...\n",
              "tm_1001                     ...\n",
              "tm_1010                     ...\n",
              "trace                       ...\n",
              "udaipur                     ...\n",
              "uvcs                        ...\n",
              "vault_1999                  ...\n",
              "vault_2002                  ...\n",
              "vault_2014                  ...\n",
              "virgo                       ...\n",
              "vsm                         ...\n",
              "wbs                         ...\n",
              "wispr                       ...\n",
              "x123                        ...\n",
              "xrs                         ..."
            ],
            "text/html": [
              "<p>sunpy.net.attrs.Instrument</p>\n",
              "<p>\n",
              "Specifies the Instrument name for the search.\n",
              "</p>\n",
              "<table id=\"table138543915237184\">\n",
              "<thead><tr><th>Attribute Name</th><th>Client</th><th>Full Name</th><th>Description</th></tr></thead>\n",
              "<tr><td>aia</td><td>VSO</td><td>AIA</td><td>Atmospheric Imaging Assembly</td></tr>\n",
              "<tr><td>bcs</td><td>VSO</td><td>BCS</td><td>Bragg Crystal Spectrometer</td></tr>\n",
              "<tr><td>be_continuum</td><td>VSO</td><td>BE-Continuum</td><td>INAF-OACT Barra Equatoriale Continuum Instrument</td></tr>\n",
              "<tr><td>be_halpha</td><td>VSO</td><td>BE-Halpha</td><td>INAF-OACT Barra Equatoriale Hα Instrument</td></tr>\n",
              "<tr><td>bigbear</td><td>VSO</td><td>Big Bear</td><td>Big Bear Solar Observatory, California TON and GONG+ sites</td></tr>\n",
              "<tr><td>caii</td><td>VSO</td><td>CAII</td><td>Kanzelhöhe Ca II k Instrument</td></tr>\n",
              "<tr><td>cds</td><td>VSO</td><td>CDS</td><td>Coronal Diagnostic Spectrometer</td></tr>\n",
              "<tr><td>celias</td><td>VSO</td><td>CELIAS</td><td>Charge, Element, and Isotope Analysis System</td></tr>\n",
              "<tr><td>cerrotololo</td><td>VSO</td><td>Cerro Tololo</td><td>Cerro Tololo, Chile GONG+ site</td></tr>\n",
              "<tr><td>chp</td><td>VSO</td><td>chp</td><td>Chromospheric Helium-I Imaging Photometer</td></tr>\n",
              "<tr><td>cook</td><td>VSO</td><td>Cook</td><td>None</td></tr>\n",
              "<tr><td>costep</td><td>VSO</td><td>COSTEP</td><td>Comprehensive Suprathermal and Energetic Particle Analyzer</td></tr>\n",
              "<tr><td>cp</td><td>VSO</td><td>cp</td><td>Coronagraph/Polarimeter</td></tr>\n",
              "<tr><td>dpm</td><td>VSO</td><td>dpm</td><td>Digital Prominence Monitor</td></tr>\n",
              "<tr><td>eis</td><td>VSO</td><td>EIS</td><td>EUV Imaging Spectrometer</td></tr>\n",
              "<tr><td>eit</td><td>VSO</td><td>EIT</td><td>Extreme ultraviolet Imaging Telescope</td></tr>\n",
              "<tr><td>elteide</td><td>VSO</td><td>El Teide</td><td>Canary Islands GONG+ site</td></tr>\n",
              "<tr><td>erne</td><td>VSO</td><td>ERNE</td><td>Energetic and Relativistic Nuclei and Electron experiment</td></tr>\n",
              "<tr><td>eui</td><td>VSO</td><td>EUI</td><td>Extreme Ultravoilet Imager</td></tr>\n",
              "<tr><td>eve</td><td>EVE</td><td>EVE</td><td>Extreme ultraviolet Variability Experiment, which is part of the NASA Solar D...</td></tr>\n",
              "<tr><td>eve</td><td>VSO</td><td>EVE</td><td>Extreme Ultraviolet Variability Experiment</td></tr>\n",
              "<tr><td>film</td><td>VSO</td><td>FILM</td><td>Kanzelhöhe Hα Film Camera</td></tr>\n",
              "<tr><td>five_12_channelmagnetograph</td><td>VSO</td><td>512-channel magnetograph</td><td>512-channel Magnetograph</td></tr>\n",
              "<tr><td>foxsi</td><td>VSO</td><td>FOXSI</td><td>Focusing Optics X-ray Solar Imager</td></tr>\n",
              "<tr><td>gbm</td><td>GBM</td><td>GBM</td><td>Gamma-Ray Burst Monitor on board the Fermi satellite.</td></tr>\n",
              "<tr><td>goes</td><td>XRS</td><td>GOES</td><td>The Geostationary Operational Environmental Satellite Program.</td></tr>\n",
              "<tr><td>golf</td><td>VSO</td><td>GOLF</td><td>Global Oscillations at Low Frequencies</td></tr>\n",
              "<tr><td>gong</td><td>GONG</td><td>GONG</td><td>Global Oscillation Network Group.</td></tr>\n",
              "<tr><td>ha2</td><td>VSO</td><td>HA2</td><td>Kanzelhöhe Hα Patrol Instrument</td></tr>\n",
              "<tr><td>hi_c</td><td>VSO</td><td>Hi-C</td><td>High Resolution Coronal Imager (193 A)</td></tr>\n",
              "<tr><td>hi_c21</td><td>VSO</td><td>Hi-C21</td><td>High Resolution Coronal Imager 2.1 (172 A)</td></tr>\n",
              "<tr><td>hmi</td><td>VSO</td><td>HMI</td><td>Helioseismic and Magnetic Imager</td></tr>\n",
              "<tr><td>hxeclipse</td><td>VSO</td><td>HXECLIPSE</td><td>UCAR HAO Historical Eclipse Archive</td></tr>\n",
              "<tr><td>hxt</td><td>VSO</td><td>HXT</td><td>Hard X-Ray Telescope</td></tr>\n",
              "<tr><td>imax</td><td>VSO</td><td>IMaX</td><td>Imaging Magnetograph eXperiment</td></tr>\n",
              "<tr><td>impact</td><td>VSO</td><td>IMPACT</td><td>In-situ Measurements of Particles and CME Transients</td></tr>\n",
              "<tr><td>iris</td><td>VSO</td><td>IRIS</td><td>Interface Region Imaging Spectrograph</td></tr>\n",
              "<tr><td>isoon</td><td>VSO</td><td>ISOON</td><td>Improved Solar Observing Optical Network</td></tr>\n",
              "<tr><td>iss</td><td>VSO</td><td>ISS</td><td>None</td></tr>\n",
              "<tr><td>ivm</td><td>VSO</td><td>IVM</td><td>None</td></tr>\n",
              "<tr><td>k_cor</td><td>VSO</td><td>K-Cor</td><td>None</td></tr>\n",
              "<tr><td>kpdc</td><td>VSO</td><td>KPDC</td><td>Kanzelhöhe Photosphere Digital Camera</td></tr>\n",
              "<tr><td>lasco</td><td>VSO</td><td>LASCO</td><td>Large Angle and Spectrometric Coronagraph</td></tr>\n",
              "<tr><td>learmonth</td><td>VSO</td><td>Learmonth</td><td>Australian GONG+ site</td></tr>\n",
              "<tr><td>longwave_lobe_06</td><td>VSO</td><td>LONGWAVE-LOBE-06</td><td>Full longwave EUV observation of Sun with EUNIS (2006 flight)</td></tr>\n",
              "<tr><td>longwave_lobe_07</td><td>VSO</td><td>LONGWAVE-LOBE-07</td><td>Full longwave EUV observation of Sun with EUNIS (2007 flight)</td></tr>\n",
              "<tr><td>longwave_slit_06</td><td>VSO</td><td>LONGWAVE-SLIT-06</td><td>Full longwave EUV observation of Sun with EUNIS (trimmed/2006 flight)</td></tr>\n",
              "<tr><td>longwave_slit_07</td><td>VSO</td><td>LONGWAVE-SLIT-07</td><td>Full longwave EUV observation of Sun with EUNIS (trimmed/2007 flight)</td></tr>\n",
              "<tr><td>lyra</td><td>LYRA</td><td>LYRA</td><td>Lyman Alpha Radiometer is the solar UV radiometer on board Proba-2.</td></tr>\n",
              "<tr><td>lyra</td><td>VSO</td><td>LYRA</td><td>LYman alpha RAdiometer</td></tr>\n",
              "<tr><td>maunaloa</td><td>VSO</td><td>Mauna Loa</td><td>Hawai&apos;ian GONG+ site</td></tr>\n",
              "<tr><td>mdi</td><td>VSO</td><td>MDI</td><td>Michelson Doppler Imager</td></tr>\n",
              "<tr><td>mees</td><td>VSO</td><td>MEES</td><td>Mees Solar Observatory Imaging Spectrograph on Haleakala, Maui</td></tr>\n",
              "<tr><td>mergedgong</td><td>VSO</td><td>MERGED GONG</td><td>None</td></tr>\n",
              "<tr><td>meudonspectroheliograph</td><td>VSO</td><td>Meudon Spectroheliograph</td><td>None</td></tr>\n",
              "<tr><td>mk4</td><td>VSO</td><td>mk4</td><td>Mk. IV coronagraph</td></tr>\n",
              "<tr><td>noaa_indices</td><td>NOAAIndices</td><td>NOAA-Indices</td><td>Recent Solar Indices of Observed Monthly Mean Values</td></tr>\n",
              "<tr><td>noaa_predict</td><td>NOAAPredict</td><td>NOAA-Predict</td><td>Predicted Sunspot Number And Radio Flux Values With Expected Ranges.</td></tr>\n",
              "<tr><td>norh</td><td>NoRH</td><td>NORH</td><td>Nobeyama Radio Heliograph is an imaging radio telescope at 17 or 34GHz locate...</td></tr>\n",
              "<tr><td>phoenix</td><td>VSO</td><td>PHOENIX</td><td>PHOENIX detector on flight #3 of FOXSI</td></tr>\n",
              "<tr><td>phoka</td><td>VSO</td><td>PHOKA</td><td>Kanzelhöhe Photoheliograph</td></tr>\n",
              "<tr><td>plastic</td><td>VSO</td><td>PLASTIC</td><td>PLasma And SupraThermal Ion Composition</td></tr>\n",
              "<tr><td>ptmc</td><td>VSO</td><td>PTMC</td><td>None</td></tr>\n",
              "<tr><td>rhessi</td><td>RHESSI</td><td>RHESSI</td><td>Reuven Ramaty High Energy Solar Spectroscopic Imager.</td></tr>\n",
              "<tr><td>rhessi</td><td>VSO</td><td>RHESSI</td><td>Reuven Ramaty High Energy Solar Spectroscopic Imager</td></tr>\n",
              "<tr><td>secchi</td><td>VSO</td><td>SECCHI</td><td>Sun Earth Connection Coronal and Heliospheric Investigation</td></tr>\n",
              "<tr><td>shortwave_lobe_06</td><td>VSO</td><td>SHORTWAVE-LOBE-06</td><td>Shortwave EUV observation of Sun with EUNIS (2006 flight)</td></tr>\n",
              "<tr><td>shortwave_lobe_07</td><td>VSO</td><td>SHORTWAVE-LOBE-07</td><td>Shortwave EUV observation of Sun with EUNIS (2007 flight)</td></tr>\n",
              "<tr><td>shortwave_slit_06</td><td>VSO</td><td>SHORTWAVE-SLIT-06</td><td>Shortwave EUV observation of Sun with EUNIS (trimmed/2006 flight)</td></tr>\n",
              "<tr><td>shortwave_slit_07</td><td>VSO</td><td>SHORTWAVE-SLIT-07</td><td>Shortwave EUV observation of Sun with EUNIS (trimmed/2007 flight)</td></tr>\n",
              "<tr><td>six_0_ftshg</td><td>VSO</td><td>60-ft SHG</td><td>60-foot Tower Spectroheliograph</td></tr>\n",
              "<tr><td>sj</td><td>VSO</td><td>SJ</td><td>Slit-Jaw</td></tr>\n",
              "<tr><td>solarftsspectrometer</td><td>VSO</td><td>solar fts spectrometer</td><td>Solar FTS Spectrometer</td></tr>\n",
              "<tr><td>solohi</td><td>VSO</td><td>SoloHI</td><td>Solar Orbiter Heliospheric Imager</td></tr>\n",
              "<tr><td>soon</td><td>SRS</td><td>SOON</td><td>Solar Region Summary.</td></tr>\n",
              "<tr><td>sot</td><td>VSO</td><td>SOT</td><td>Solar Optical Telescope</td></tr>\n",
              "<tr><td>sp1</td><td>VSO</td><td>SP1</td><td>Spectropolarimeter1</td></tr>\n",
              "<tr><td>sp2</td><td>VSO</td><td>SP2</td><td>Spectropolarimeter2</td></tr>\n",
              "<tr><td>spectroheliograph</td><td>VSO</td><td>spectroheliograph</td><td>SpectroHeliograph</td></tr>\n",
              "<tr><td>spectromagnetograph</td><td>VSO</td><td>spectromagnetograph</td><td>SpectroMagnetograph</td></tr>\n",
              "<tr><td>spice</td><td>VSO</td><td>SPICE</td><td>Spectral Imaging of the Coronal Environment</td></tr>\n",
              "<tr><td>srs_table</td><td>SRS</td><td>SRS-Table</td><td>Solar Region Summary.</td></tr>\n",
              "<tr><td>sufi</td><td>VSO</td><td>SuFI</td><td>Sunrise Filter Imager</td></tr>\n",
              "<tr><td>sumer</td><td>VSO</td><td>SUMER</td><td>Solar Ultraviolet Measurements of Emitted Radiation</td></tr>\n",
              "<tr><td>sutri</td><td>VSO</td><td>SUTRI</td><td>The Solar Upper Transition Region Imager</td></tr>\n",
              "<tr><td>suvi</td><td>SUVI</td><td>SUVI</td><td>GOES Solar Ultraviolet Imager.</td></tr>\n",
              "<tr><td>suvi</td><td>VSO</td><td>SUVI</td><td>GOES-R Series Solar Ultraviolet Imager</td></tr>\n",
              "<tr><td>swan</td><td>VSO</td><td>SWAN</td><td>Solar Wind Anisotropies</td></tr>\n",
              "<tr><td>swap</td><td>VSO</td><td>SWAP</td><td>Sun Watcher using Active pixel system detector and image Processing</td></tr>\n",
              "<tr><td>swaves</td><td>VSO</td><td>SWAVES</td><td>STEREO/WAVES</td></tr>\n",
              "<tr><td>sxt</td><td>VSO</td><td>SXT</td><td>Soft X-Ray Telescope</td></tr>\n",
              "<tr><td>t1_halpha</td><td>VSO</td><td>T1-HALPHA</td><td>T1 Hα Fulldisk</td></tr>\n",
              "<tr><td>tm_1001</td><td>VSO</td><td>TM-1001</td><td>Kanzelhöhe Hα Pulnix TM-1001 Camera</td></tr>\n",
              "<tr><td>tm_1010</td><td>VSO</td><td>TM-1010</td><td>Kanzelhöhe Hα Pulnix TM-1010 Camera</td></tr>\n",
              "<tr><td>trace</td><td>VSO</td><td>TRACE</td><td>Transition Region And Coronal Explorer</td></tr>\n",
              "<tr><td>udaipur</td><td>VSO</td><td>Udaipur</td><td>Indian GONG+ site</td></tr>\n",
              "<tr><td>uvcs</td><td>VSO</td><td>UVCS</td><td>Ultraviolet Coronagraph Spectrometer</td></tr>\n",
              "<tr><td>vault_1999</td><td>VSO</td><td>VAULT-1999</td><td>Very High Angular Resolution Ultraviolet Telescope (1999 flight)</td></tr>\n",
              "<tr><td>vault_2002</td><td>VSO</td><td>VAULT-2002</td><td>Very High Angular Resolution Ultraviolet Telescope (2002 flight)</td></tr>\n",
              "<tr><td>vault_2014</td><td>VSO</td><td>VAULT-2014</td><td>Very High Angular Resolution Ultraviolet Telescope (2014 flight)</td></tr>\n",
              "<tr><td>virgo</td><td>VSO</td><td>VIRGO</td><td>Variability of Solar Irradiance and Gravity Oscillations</td></tr>\n",
              "<tr><td>vsm</td><td>VSO</td><td>vsm</td><td>Vector SpecroMagnetograph</td></tr>\n",
              "<tr><td>wbs</td><td>VSO</td><td>WBS</td><td>Wide Band Spectrometer</td></tr>\n",
              "<tr><td>wispr</td><td>VSO</td><td>WISPR</td><td>Wide-Field Imager for Solar Probe Plus</td></tr>\n",
              "<tr><td>x123</td><td>VSO</td><td>X123</td><td>X123 SXR Spectometer</td></tr>\n",
              "<tr><td>xrs</td><td>XRS</td><td>XRS</td><td>GOES X-ray Sensor</td></tr>\n",
              "</table>"
            ]
          },
          "metadata": {},
          "execution_count": 6
        }
      ]
    },
    {
      "cell_type": "markdown",
      "source": [
        "This is a full list of known values, a description and which clients support those values (if you want to search using a specific data source). Printing attributes like this is supported for most attributes, including client secific ones."
      ],
      "metadata": {
        "id": "JE0M8nDrbKkh"
      }
    },
    {
      "cell_type": "code",
      "source": [
        "result = Fido.search(a.Time('2012/3/4', '2012/3/6'),a.Instrument.hmi)\n",
        "print(result)"
      ],
      "metadata": {
        "colab": {
          "base_uri": "https://localhost:8080/"
        },
        "id": "3lfyuct0bdJX",
        "outputId": "562acea5-fa82-4f83-f610-2bce290dce23"
      },
      "execution_count": 9,
      "outputs": [
        {
          "output_type": "stream",
          "name": "stdout",
          "text": [
            "Results from 1 Provider:\n",
            "\n",
            "306 Results from the VSOClient:\n",
            "Source: http://vso.stanford.edu/cgi-bin/search\n",
            "Total estimated size: 27.194 Mbyte\n",
            "\n",
            "       Start Time               End Time        Source ...   Size   Wavetype\n",
            "                                                       ...  Mibyte          \n",
            "----------------------- ----------------------- ------ ... -------- --------\n",
            "2012-03-04 00:00:00.000                      --    SDO ...  2.13379     LINE\n",
            "2012-03-04 00:00:00.000                      --    SDO ...  2.13672     LINE\n",
            "2012-03-04 00:00:00.000                      --    SDO ...  0.91504     LINE\n",
            "2012-03-04 00:00:29.000 2012-03-04 00:28:15.000    SDO ... -0.00098   NARROW\n",
            "2012-03-04 00:00:29.000 2012-03-04 00:28:15.000    SDO ... -0.00098   NARROW\n",
            "2012-03-04 00:00:29.000 2012-03-04 00:28:15.000    SDO ... -0.00098   NARROW\n",
            "2012-03-04 00:28:59.000 2012-03-04 00:58:15.000    SDO ... -0.00098   NARROW\n",
            "2012-03-04 00:28:59.000 2012-03-04 00:58:15.000    SDO ... -0.00098   NARROW\n",
            "2012-03-04 00:28:59.000 2012-03-04 00:58:15.000    SDO ... -0.00098   NARROW\n",
            "2012-03-04 00:58:59.000 2012-03-04 01:28:15.000    SDO ... -0.00098   NARROW\n",
            "                    ...                     ...    ... ...      ...      ...\n",
            "2012-03-05 22:58:59.000 2012-03-05 23:28:15.000    SDO ... -0.00098   NARROW\n",
            "2012-03-05 23:28:59.000 2012-03-05 23:58:15.000    SDO ... -0.00098   NARROW\n",
            "2012-03-05 23:28:59.000 2012-03-05 23:58:15.000    SDO ... -0.00098   NARROW\n",
            "2012-03-05 23:28:59.000 2012-03-05 23:58:15.000    SDO ... -0.00098   NARROW\n",
            "2012-03-05 23:58:59.000 2012-03-05 23:59:45.000    SDO ... -0.00098   NARROW\n",
            "2012-03-05 23:58:59.000 2012-03-05 23:59:45.000    SDO ... -0.00098   NARROW\n",
            "2012-03-05 23:58:59.000 2012-03-05 23:59:45.000    SDO ... -0.00098   NARROW\n",
            "2012-03-06 00:00:00.000                      --    SDO ...  2.13477     LINE\n",
            "2012-03-06 00:00:00.000                      --    SDO ...   2.1377     LINE\n",
            "2012-03-06 00:00:00.000                      --    SDO ...  0.91504     LINE\n",
            "Length = 306 rows\n",
            "\n",
            "\n"
          ]
        },
        {
          "output_type": "stream",
          "name": "stderr",
          "text": [
            "/usr/local/lib/python3.10/dist-packages/erfa/core.py:154: ErfaWarning: ERFA function \"d2dtf\" yielded 1 of \"dubious year (Note 5)\"\n",
            "  warnings.warn('ERFA function \"{}\" yielded {}'.format(func_name, wmsg),\n"
          ]
        }
      ]
    },
    {
      "cell_type": "markdown",
      "source": [
        "This returns an *UnifiedResponse* object containing all search results that match the search attributes. This does not download the files, which is done in \"Downlaoding data\" section."
      ],
      "metadata": {
        "id": "Jsnvbx2rcNAr"
      }
    },
    {
      "cell_type": "markdown",
      "source": [
        "Queries are made more flexible or very specific by adding more attrs objects to the Fido search. Such as specific passbands can be searched for by supplying a **Quantity** to the **a.Wavelength** attribute."
      ],
      "metadata": {
        "id": "PmbUp9kKcagL"
      }
    },
    {
      "cell_type": "code",
      "source": [
        "import astropy.units as u\n",
        "Fido.search(a.Time('2012/3/4','2012/3/4'), a.Instrument.aia, a.Wavelength(171*u.angstrom))"
      ],
      "metadata": {
        "colab": {
          "base_uri": "https://localhost:8080/",
          "height": 246
        },
        "id": "YYPEpTjMcYYA",
        "outputId": "6c398c63-f682-482b-85c5-69529de405ac"
      },
      "execution_count": 12,
      "outputs": [
        {
          "output_type": "execute_result",
          "data": {
            "text/plain": [
              "<sunpy.net.fido_factory.UnifiedResponse object at 0x7e01026f9360>\n",
              "Results from 1 Provider:\n",
              "\n",
              "1 Results from the VSOClient:\n",
              "Source: http://vso.stanford.edu/cgi-bin/search\n",
              "Total estimated size: 67.789 Mbyte\n",
              "\n",
              "       Start Time               End Time        Source ... Extent Type   Size  \n",
              "                                                       ...              Mibyte \n",
              "----------------------- ----------------------- ------ ... ----------- --------\n",
              "2012-03-04 00:00:00.000 2012-03-04 00:00:01.000    SDO ...    FULLDISK 64.64844\n"
            ],
            "text/html": [
              "Results from 1 Provider:</br></br>1 Results from the VSOClient:</br><div><i>VSOQueryResponseTable length=1</i>\n",
              "<table id=\"table138542800936464\" class=\"table-striped table-bordered table-condensed\">\n",
              "<thead><tr><th>Start Time</th><th>End Time</th><th>Source</th><th>Instrument</th><th>Wavelength</th><th>Provider</th><th>Physobs</th><th>Wavetype</th><th>Extent Width</th><th>Extent Length</th><th>Extent Type</th><th>Size</th></tr></thead>\n",
              "<thead><tr><th></th><th></th><th></th><th></th><th>Angstrom</th><th></th><th></th><th></th><th></th><th></th><th></th><th>Mibyte</th></tr></thead>\n",
              "<thead><tr><th>Time</th><th>Time</th><th>str3</th><th>str3</th><th>float64[2]</th><th>str4</th><th>str9</th><th>str6</th><th>str4</th><th>str4</th><th>str8</th><th>float64</th></tr></thead>\n",
              "<tr><td>2012-03-04 00:00:00.000</td><td>2012-03-04 00:00:01.000</td><td>SDO</td><td>AIA</td><td>171.0 .. 171.0</td><td>JSOC</td><td>intensity</td><td>NARROW</td><td>4096</td><td>4096</td><td>FULLDISK</td><td>64.64844</td></tr>\n",
              "</table></div></br>"
            ]
          },
          "metadata": {},
          "execution_count": 12
        }
      ]
    },
    {
      "cell_type": "markdown",
      "source": [
        "Data of a particular cadence can also be specified using the a.Sample attribute"
      ],
      "metadata": {
        "id": "2UKIvj8LdLR_"
      }
    },
    {
      "cell_type": "code",
      "source": [
        "Fido.search(a.Time('2012/3/4', '2012/3/6'), a.Instrument.aia, a.Wavelength(171*u.angstrom), a.Sample(120*u.minute))"
      ],
      "metadata": {
        "colab": {
          "base_uri": "https://localhost:8080/",
          "height": 964
        },
        "id": "ftU-h_W8dRJM",
        "outputId": "baa198e1-d156-46c3-a5d8-20251b8f698f"
      },
      "execution_count": 13,
      "outputs": [
        {
          "output_type": "execute_result",
          "data": {
            "text/plain": [
              "<sunpy.net.fido_factory.UnifiedResponse object at 0x7e0102686b60>\n",
              "Results from 1 Provider:\n",
              "\n",
              "25 Results from the VSOClient:\n",
              "Source: http://vso.stanford.edu/cgi-bin/search\n",
              "Total estimated size: 1.695 Gbyte\n",
              "\n",
              "       Start Time               End Time        Source ... Extent Type   Size  \n",
              "                                                       ...              Mibyte \n",
              "----------------------- ----------------------- ------ ... ----------- --------\n",
              "2012-03-04 00:00:00.000 2012-03-04 00:00:01.000    SDO ...    FULLDISK 64.64844\n",
              "2012-03-04 02:00:00.000 2012-03-04 02:00:01.000    SDO ...    FULLDISK 64.64844\n",
              "2012-03-04 04:00:00.000 2012-03-04 04:00:01.000    SDO ...    FULLDISK 64.64844\n",
              "2012-03-04 06:00:00.000 2012-03-04 06:00:01.000    SDO ...    FULLDISK 64.64844\n",
              "2012-03-04 08:00:00.000 2012-03-04 08:00:01.000    SDO ...    FULLDISK 64.64844\n",
              "2012-03-04 10:00:00.000 2012-03-04 10:00:01.000    SDO ...    FULLDISK 64.64844\n",
              "2012-03-04 12:00:00.000 2012-03-04 12:00:01.000    SDO ...    FULLDISK 64.64844\n",
              "2012-03-04 14:00:00.000 2012-03-04 14:00:01.000    SDO ...    FULLDISK 64.64844\n",
              "2012-03-04 16:00:00.000 2012-03-04 16:00:01.000    SDO ...    FULLDISK 64.64844\n",
              "2012-03-04 18:00:00.000 2012-03-04 18:00:01.000    SDO ...    FULLDISK 64.64844\n",
              "                    ...                     ...    ... ...         ...      ...\n",
              "2012-03-05 06:00:00.000 2012-03-05 06:00:01.000    SDO ...    FULLDISK 64.64844\n",
              "2012-03-05 08:00:00.000 2012-03-05 08:00:01.000    SDO ...    FULLDISK 64.64844\n",
              "2012-03-05 10:00:00.000 2012-03-05 10:00:01.000    SDO ...    FULLDISK 64.64844\n",
              "2012-03-05 12:00:00.000 2012-03-05 12:00:01.000    SDO ...    FULLDISK 64.64844\n",
              "2012-03-05 14:00:00.000 2012-03-05 14:00:01.000    SDO ...    FULLDISK 64.64844\n",
              "2012-03-05 16:00:00.000 2012-03-05 16:00:01.000    SDO ...    FULLDISK 64.64844\n",
              "2012-03-05 18:00:00.000 2012-03-05 18:00:01.000    SDO ...    FULLDISK 64.64844\n",
              "2012-03-05 20:00:00.000 2012-03-05 20:00:01.000    SDO ...    FULLDISK 64.64844\n",
              "2012-03-05 22:00:00.000 2012-03-05 22:00:01.000    SDO ...    FULLDISK 64.64844\n",
              "2012-03-06 00:00:00.000 2012-03-06 00:00:01.000    SDO ...    FULLDISK 64.64844\n",
              "Length = 25 rows\n"
            ],
            "text/html": [
              "Results from 1 Provider:</br></br>25 Results from the VSOClient:</br><div><i>VSOQueryResponseTable length=25</i>\n",
              "<table id=\"table138542801508416\" class=\"table-striped table-bordered table-condensed\">\n",
              "<thead><tr><th>Start Time</th><th>End Time</th><th>Source</th><th>Instrument</th><th>Wavelength</th><th>Provider</th><th>Physobs</th><th>Wavetype</th><th>Extent Width</th><th>Extent Length</th><th>Extent Type</th><th>Size</th></tr></thead>\n",
              "<thead><tr><th></th><th></th><th></th><th></th><th>Angstrom</th><th></th><th></th><th></th><th></th><th></th><th></th><th>Mibyte</th></tr></thead>\n",
              "<thead><tr><th>Time</th><th>Time</th><th>str3</th><th>str3</th><th>float64[2]</th><th>str4</th><th>str9</th><th>str6</th><th>str4</th><th>str4</th><th>str8</th><th>float64</th></tr></thead>\n",
              "<tr><td>2012-03-04 00:00:00.000</td><td>2012-03-04 00:00:01.000</td><td>SDO</td><td>AIA</td><td>171.0 .. 171.0</td><td>JSOC</td><td>intensity</td><td>NARROW</td><td>4096</td><td>4096</td><td>FULLDISK</td><td>64.64844</td></tr>\n",
              "<tr><td>2012-03-04 02:00:00.000</td><td>2012-03-04 02:00:01.000</td><td>SDO</td><td>AIA</td><td>171.0 .. 171.0</td><td>JSOC</td><td>intensity</td><td>NARROW</td><td>4096</td><td>4096</td><td>FULLDISK</td><td>64.64844</td></tr>\n",
              "<tr><td>2012-03-04 04:00:00.000</td><td>2012-03-04 04:00:01.000</td><td>SDO</td><td>AIA</td><td>171.0 .. 171.0</td><td>JSOC</td><td>intensity</td><td>NARROW</td><td>4096</td><td>4096</td><td>FULLDISK</td><td>64.64844</td></tr>\n",
              "<tr><td>2012-03-04 06:00:00.000</td><td>2012-03-04 06:00:01.000</td><td>SDO</td><td>AIA</td><td>171.0 .. 171.0</td><td>JSOC</td><td>intensity</td><td>NARROW</td><td>4096</td><td>4096</td><td>FULLDISK</td><td>64.64844</td></tr>\n",
              "<tr><td>2012-03-04 08:00:00.000</td><td>2012-03-04 08:00:01.000</td><td>SDO</td><td>AIA</td><td>171.0 .. 171.0</td><td>JSOC</td><td>intensity</td><td>NARROW</td><td>4096</td><td>4096</td><td>FULLDISK</td><td>64.64844</td></tr>\n",
              "<tr><td>2012-03-04 10:00:00.000</td><td>2012-03-04 10:00:01.000</td><td>SDO</td><td>AIA</td><td>171.0 .. 171.0</td><td>JSOC</td><td>intensity</td><td>NARROW</td><td>4096</td><td>4096</td><td>FULLDISK</td><td>64.64844</td></tr>\n",
              "<tr><td>2012-03-04 12:00:00.000</td><td>2012-03-04 12:00:01.000</td><td>SDO</td><td>AIA</td><td>171.0 .. 171.0</td><td>JSOC</td><td>intensity</td><td>NARROW</td><td>4096</td><td>4096</td><td>FULLDISK</td><td>64.64844</td></tr>\n",
              "<tr><td>2012-03-04 14:00:00.000</td><td>2012-03-04 14:00:01.000</td><td>SDO</td><td>AIA</td><td>171.0 .. 171.0</td><td>JSOC</td><td>intensity</td><td>NARROW</td><td>4096</td><td>4096</td><td>FULLDISK</td><td>64.64844</td></tr>\n",
              "<tr><td>2012-03-04 16:00:00.000</td><td>2012-03-04 16:00:01.000</td><td>SDO</td><td>AIA</td><td>171.0 .. 171.0</td><td>JSOC</td><td>intensity</td><td>NARROW</td><td>4096</td><td>4096</td><td>FULLDISK</td><td>64.64844</td></tr>\n",
              "<tr><td>...</td><td>...</td><td>...</td><td>...</td><td>...</td><td>...</td><td>...</td><td>...</td><td>...</td><td>...</td><td>...</td><td>...</td></tr>\n",
              "<tr><td>2012-03-05 06:00:00.000</td><td>2012-03-05 06:00:01.000</td><td>SDO</td><td>AIA</td><td>171.0 .. 171.0</td><td>JSOC</td><td>intensity</td><td>NARROW</td><td>4096</td><td>4096</td><td>FULLDISK</td><td>64.64844</td></tr>\n",
              "<tr><td>2012-03-05 08:00:00.000</td><td>2012-03-05 08:00:01.000</td><td>SDO</td><td>AIA</td><td>171.0 .. 171.0</td><td>JSOC</td><td>intensity</td><td>NARROW</td><td>4096</td><td>4096</td><td>FULLDISK</td><td>64.64844</td></tr>\n",
              "<tr><td>2012-03-05 10:00:00.000</td><td>2012-03-05 10:00:01.000</td><td>SDO</td><td>AIA</td><td>171.0 .. 171.0</td><td>JSOC</td><td>intensity</td><td>NARROW</td><td>4096</td><td>4096</td><td>FULLDISK</td><td>64.64844</td></tr>\n",
              "<tr><td>2012-03-05 12:00:00.000</td><td>2012-03-05 12:00:01.000</td><td>SDO</td><td>AIA</td><td>171.0 .. 171.0</td><td>JSOC</td><td>intensity</td><td>NARROW</td><td>4096</td><td>4096</td><td>FULLDISK</td><td>64.64844</td></tr>\n",
              "<tr><td>2012-03-05 14:00:00.000</td><td>2012-03-05 14:00:01.000</td><td>SDO</td><td>AIA</td><td>171.0 .. 171.0</td><td>JSOC</td><td>intensity</td><td>NARROW</td><td>4096</td><td>4096</td><td>FULLDISK</td><td>64.64844</td></tr>\n",
              "<tr><td>2012-03-05 16:00:00.000</td><td>2012-03-05 16:00:01.000</td><td>SDO</td><td>AIA</td><td>171.0 .. 171.0</td><td>JSOC</td><td>intensity</td><td>NARROW</td><td>4096</td><td>4096</td><td>FULLDISK</td><td>64.64844</td></tr>\n",
              "<tr><td>2012-03-05 18:00:00.000</td><td>2012-03-05 18:00:01.000</td><td>SDO</td><td>AIA</td><td>171.0 .. 171.0</td><td>JSOC</td><td>intensity</td><td>NARROW</td><td>4096</td><td>4096</td><td>FULLDISK</td><td>64.64844</td></tr>\n",
              "<tr><td>2012-03-05 20:00:00.000</td><td>2012-03-05 20:00:01.000</td><td>SDO</td><td>AIA</td><td>171.0 .. 171.0</td><td>JSOC</td><td>intensity</td><td>NARROW</td><td>4096</td><td>4096</td><td>FULLDISK</td><td>64.64844</td></tr>\n",
              "<tr><td>2012-03-05 22:00:00.000</td><td>2012-03-05 22:00:01.000</td><td>SDO</td><td>AIA</td><td>171.0 .. 171.0</td><td>JSOC</td><td>intensity</td><td>NARROW</td><td>4096</td><td>4096</td><td>FULLDISK</td><td>64.64844</td></tr>\n",
              "<tr><td>2012-03-06 00:00:00.000</td><td>2012-03-06 00:00:01.000</td><td>SDO</td><td>AIA</td><td>171.0 .. 171.0</td><td>JSOC</td><td>intensity</td><td>NARROW</td><td>4096</td><td>4096</td><td>FULLDISK</td><td>64.64844</td></tr>\n",
              "</table></div></br>"
            ]
          },
          "metadata": {},
          "execution_count": 13
        }
      ]
    },
    {
      "cell_type": "markdown",
      "source": [
        "To search for data from multiple instruments, wavelngths, times etc. use the pipe  |  operator which joins queries using a logical \"OR\" operator. Here, we will search for LYRA or RHESSI data in a given time rane."
      ],
      "metadata": {
        "id": "s9NVNCgofb8J"
      }
    },
    {
      "cell_type": "code",
      "source": [
        "Fido.search(a.Time('2012/3/4', '2012/3/4 02:00'), a.Instrument.lyra  |  a.Instrument.rhessi)"
      ],
      "metadata": {
        "colab": {
          "base_uri": "https://localhost:8080/",
          "height": 581
        },
        "id": "fM_laTYVfrI3",
        "outputId": "88f0a674-fc65-49c3-a988-3cc4f23ae12e"
      },
      "execution_count": 20,
      "outputs": [
        {
          "output_type": "execute_result",
          "data": {
            "text/plain": [
              "<sunpy.net.fido_factory.UnifiedResponse object at 0x7e010233add0>\n",
              "Results from 3 Providers:\n",
              "\n",
              "2 Results from the LYRAClient:\n",
              "Source: http://proba2.oma.be/lyra/data/bsd\n",
              "\n",
              "       Start Time               End Time        Instrument ... Provider Level\n",
              "----------------------- ----------------------- ---------- ... -------- -----\n",
              "2012-03-04 00:00:00.000 2012-03-04 23:59:59.999       LYRA ...      ESA     2\n",
              "2012-03-04 00:00:00.000 2012-03-04 23:59:59.999       LYRA ...      ESA     3\n",
              "\n",
              "1 Results from the RHESSIClient:\n",
              "Source: https://hesperia.gsfc.nasa.gov/hessidata\n",
              "\n",
              "       Start Time               End Time        Instrument ... Source Provider\n",
              "----------------------- ----------------------- ---------- ... ------ --------\n",
              "2012-03-04 00:00:00.000 2012-03-04 23:59:59.999     RHESSI ... RHESSI     NASA\n",
              "\n",
              "3 Results from the VSOClient:\n",
              "Source: http://vso.stanford.edu/cgi-bin/search\n",
              "\n",
              "       Start Time               End Time        Source ... Extent Type   Size  \n",
              "                                                       ...              Mibyte \n",
              "----------------------- ----------------------- ------ ... ----------- --------\n",
              "2012-03-03 22:57:40.000 2012-03-04 00:33:20.000 RHESSI ... PARTIAL_SUN -0.00098\n",
              "2012-03-04 00:33:20.000 2012-03-04 01:45:40.000 RHESSI ... PARTIAL_SUN -0.00098\n",
              "2012-03-04 01:45:40.000 2012-03-04 02:09:00.000 RHESSI ... PARTIAL_SUN -0.00098\n"
            ],
            "text/html": [
              "Results from 3 Providers:</br></br>2 Results from the LYRAClient:</br><div><i>QueryResponse length=2</i>\n",
              "<table id=\"table138542795613152\" class=\"table-striped table-bordered table-condensed\">\n",
              "<thead><tr><th>Start Time</th><th>End Time</th><th>Instrument</th><th>Physobs</th><th>Source</th><th>Provider</th><th>Level</th></tr></thead>\n",
              "<thead><tr><th>Time</th><th>Time</th><th>str4</th><th>str10</th><th>str6</th><th>str3</th><th>int64</th></tr></thead>\n",
              "<tr><td>2012-03-04 00:00:00.000</td><td>2012-03-04 23:59:59.999</td><td>LYRA</td><td>irradiance</td><td>PROBA2</td><td>ESA</td><td>2</td></tr>\n",
              "<tr><td>2012-03-04 00:00:00.000</td><td>2012-03-04 23:59:59.999</td><td>LYRA</td><td>irradiance</td><td>PROBA2</td><td>ESA</td><td>3</td></tr>\n",
              "</table></div></br>1 Results from the RHESSIClient:</br><div><i>QueryResponse length=1</i>\n",
              "<table id=\"table138542795730768\" class=\"table-striped table-bordered table-condensed\">\n",
              "<thead><tr><th>Start Time</th><th>End Time</th><th>Instrument</th><th>Physobs</th><th>Source</th><th>Provider</th></tr></thead>\n",
              "<thead><tr><th>Time</th><th>Time</th><th>str6</th><th>str18</th><th>str6</th><th>str4</th></tr></thead>\n",
              "<tr><td>2012-03-04 00:00:00.000</td><td>2012-03-04 23:59:59.999</td><td>RHESSI</td><td>summary_lightcurve</td><td>RHESSI</td><td>NASA</td></tr>\n",
              "</table></div></br>3 Results from the VSOClient:</br><div><i>VSOQueryResponseTable length=3</i>\n",
              "<table id=\"table138542795719824\" class=\"table-striped table-bordered table-condensed\">\n",
              "<thead><tr><th>Start Time</th><th>End Time</th><th>Source</th><th>Instrument</th><th>Wavelength</th><th>Provider</th><th>Physobs</th><th>Extent Type</th><th>Size</th></tr></thead>\n",
              "<thead><tr><th></th><th></th><th></th><th></th><th>keV</th><th></th><th></th><th></th><th>Mibyte</th></tr></thead>\n",
              "<thead><tr><th>Time</th><th>Time</th><th>str6</th><th>str6</th><th>float64[2]</th><th>str4</th><th>str9</th><th>str11</th><th>float64</th></tr></thead>\n",
              "<tr><td>2012-03-03 22:57:40.000</td><td>2012-03-04 00:33:20.000</td><td>RHESSI</td><td>RHESSI</td><td>3.0 .. 17000.0</td><td>LSSP</td><td>intensity</td><td>PARTIAL_SUN</td><td>-0.00098</td></tr>\n",
              "<tr><td>2012-03-04 00:33:20.000</td><td>2012-03-04 01:45:40.000</td><td>RHESSI</td><td>RHESSI</td><td>3.0 .. 17000.0</td><td>LSSP</td><td>intensity</td><td>PARTIAL_SUN</td><td>-0.00098</td></tr>\n",
              "<tr><td>2012-03-04 01:45:40.000</td><td>2012-03-04 02:09:00.000</td><td>RHESSI</td><td>RHESSI</td><td>3.0 .. 17000.0</td><td>LSSP</td><td>intensity</td><td>PARTIAL_SUN</td><td>-0.00098</td></tr>\n",
              "</table></div></br>"
            ]
          },
          "metadata": {},
          "execution_count": 20
        }
      ]
    },
    {
      "cell_type": "markdown",
      "source": [
        "**# WORKING WITH SEARCH RESULTS**\n",
        "\n",
        "Fido.search can make multiple queries to multiple clients in one search. This indicates that the results of a call to search can contain many sets of records, called responses, from many clients."
      ],
      "metadata": {
        "id": "YdJ4U3-LgEbr"
      }
    },
    {
      "cell_type": "code",
      "source": [
        "results = Fido.search(a.Time(\"2012/1/1\", \"2012/1/2\"), a.Level.two, a.Instrument.lyra  |  a.Instrument.eve)\n",
        "results"
      ],
      "metadata": {
        "colab": {
          "base_uri": "https://localhost:8080/",
          "height": 1000
        },
        "id": "iXxkNBDIvrrA",
        "outputId": "1f1b8884-20e2-4baf-abe7-4f46f25eb58f"
      },
      "execution_count": 22,
      "outputs": [
        {
          "output_type": "execute_result",
          "data": {
            "text/plain": [
              "<sunpy.net.fido_factory.UnifiedResponse object at 0x7e010223c820>\n",
              "Results from 2 Providers:\n",
              "\n",
              "2 Results from the LYRAClient:\n",
              "Source: http://proba2.oma.be/lyra/data/bsd\n",
              "\n",
              "       Start Time               End Time        Instrument ... Provider Level\n",
              "----------------------- ----------------------- ---------- ... -------- -----\n",
              "2012-01-01 00:00:00.000 2012-01-01 23:59:59.999       LYRA ...      ESA     2\n",
              "2012-01-02 00:00:00.000 2012-01-02 23:59:59.999       LYRA ...      ESA     2\n",
              "\n",
              "50 Results from the VSOClient:\n",
              "Source: http://vso.stanford.edu/cgi-bin/search\n",
              "\n",
              "       Start Time               End Time        Source ... Extent Type   Size  \n",
              "                                                       ...              Mibyte \n",
              "----------------------- ----------------------- ------ ... ----------- --------\n",
              "2012-01-01 00:00:00.000 2012-01-01 01:00:00.000    SDO ...    FULLDISK -0.00098\n",
              "2012-01-01 00:00:00.000 2012-01-01 01:00:00.000    SDO ...    FULLDISK -0.00098\n",
              "2012-01-01 01:00:00.000 2012-01-01 02:00:00.000    SDO ...    FULLDISK -0.00098\n",
              "2012-01-01 01:00:00.000 2012-01-01 02:00:00.000    SDO ...    FULLDISK -0.00098\n",
              "2012-01-01 02:00:00.000 2012-01-01 03:00:00.000    SDO ...    FULLDISK -0.00098\n",
              "2012-01-01 02:00:00.000 2012-01-01 03:00:00.000    SDO ...    FULLDISK -0.00098\n",
              "2012-01-01 03:00:00.000 2012-01-01 04:00:00.000    SDO ...    FULLDISK -0.00098\n",
              "2012-01-01 03:00:00.000 2012-01-01 04:00:00.000    SDO ...    FULLDISK -0.00098\n",
              "2012-01-01 04:00:00.000 2012-01-01 05:00:00.000    SDO ...    FULLDISK -0.00098\n",
              "2012-01-01 04:00:00.000 2012-01-01 05:00:00.000    SDO ...    FULLDISK -0.00098\n",
              "                    ...                     ...    ... ...         ...      ...\n",
              "2012-01-01 20:00:00.000 2012-01-01 21:00:00.000    SDO ...    FULLDISK -0.00098\n",
              "2012-01-01 20:00:00.000 2012-01-01 21:00:00.000    SDO ...    FULLDISK -0.00098\n",
              "2012-01-01 21:00:00.000 2012-01-01 22:00:00.000    SDO ...    FULLDISK -0.00098\n",
              "2012-01-01 21:00:00.000 2012-01-01 22:00:00.000    SDO ...    FULLDISK -0.00098\n",
              "2012-01-01 22:00:00.000 2012-01-01 23:00:00.000    SDO ...    FULLDISK -0.00098\n",
              "2012-01-01 22:00:00.000 2012-01-01 23:00:00.000    SDO ...    FULLDISK -0.00098\n",
              "2012-01-01 23:00:00.000 2012-01-02 00:00:00.000    SDO ...    FULLDISK -0.00098\n",
              "2012-01-01 23:00:00.000 2012-01-02 00:00:00.000    SDO ...    FULLDISK -0.00098\n",
              "2012-01-02 00:00:00.000 2012-01-02 01:00:00.000    SDO ...    FULLDISK -0.00098\n",
              "2012-01-02 00:00:00.000 2012-01-02 01:00:00.000    SDO ...    FULLDISK -0.00098\n",
              "Length = 50 rows\n"
            ],
            "text/html": [
              "Results from 2 Providers:</br></br>2 Results from the LYRAClient:</br><div><i>QueryResponse length=2</i>\n",
              "<table id=\"table138542795303536\" class=\"table-striped table-bordered table-condensed\">\n",
              "<thead><tr><th>Start Time</th><th>End Time</th><th>Instrument</th><th>Physobs</th><th>Source</th><th>Provider</th><th>Level</th></tr></thead>\n",
              "<thead><tr><th>Time</th><th>Time</th><th>str4</th><th>str10</th><th>str6</th><th>str3</th><th>int64</th></tr></thead>\n",
              "<tr><td>2012-01-01 00:00:00.000</td><td>2012-01-01 23:59:59.999</td><td>LYRA</td><td>irradiance</td><td>PROBA2</td><td>ESA</td><td>2</td></tr>\n",
              "<tr><td>2012-01-02 00:00:00.000</td><td>2012-01-02 23:59:59.999</td><td>LYRA</td><td>irradiance</td><td>PROBA2</td><td>ESA</td><td>2</td></tr>\n",
              "</table></div></br>50 Results from the VSOClient:</br><div><i>VSOQueryResponseTable length=50</i>\n",
              "<table id=\"table138542795297824\" class=\"table-striped table-bordered table-condensed\">\n",
              "<thead><tr><th>Start Time</th><th>End Time</th><th>Source</th><th>Instrument</th><th>Wavelength</th><th>Provider</th><th>Physobs</th><th>Extent Type</th><th>Size</th></tr></thead>\n",
              "<thead><tr><th></th><th></th><th></th><th></th><th>Angstrom</th><th></th><th></th><th></th><th>Mibyte</th></tr></thead>\n",
              "<thead><tr><th>Time</th><th>Time</th><th>str3</th><th>str3</th><th>float64[2]</th><th>str4</th><th>str10</th><th>str8</th><th>float64</th></tr></thead>\n",
              "<tr><td>2012-01-01 00:00:00.000</td><td>2012-01-01 01:00:00.000</td><td>SDO</td><td>EVE</td><td>93.0 .. 1033.0</td><td>LASP</td><td>irradiance</td><td>FULLDISK</td><td>-0.00098</td></tr>\n",
              "<tr><td>2012-01-01 00:00:00.000</td><td>2012-01-01 01:00:00.000</td><td>SDO</td><td>EVE</td><td>60.0 .. 1060.0</td><td>LASP</td><td>irradiance</td><td>FULLDISK</td><td>-0.00098</td></tr>\n",
              "<tr><td>2012-01-01 01:00:00.000</td><td>2012-01-01 02:00:00.000</td><td>SDO</td><td>EVE</td><td>93.0 .. 1033.0</td><td>LASP</td><td>irradiance</td><td>FULLDISK</td><td>-0.00098</td></tr>\n",
              "<tr><td>2012-01-01 01:00:00.000</td><td>2012-01-01 02:00:00.000</td><td>SDO</td><td>EVE</td><td>60.0 .. 1060.0</td><td>LASP</td><td>irradiance</td><td>FULLDISK</td><td>-0.00098</td></tr>\n",
              "<tr><td>2012-01-01 02:00:00.000</td><td>2012-01-01 03:00:00.000</td><td>SDO</td><td>EVE</td><td>93.0 .. 1033.0</td><td>LASP</td><td>irradiance</td><td>FULLDISK</td><td>-0.00098</td></tr>\n",
              "<tr><td>2012-01-01 02:00:00.000</td><td>2012-01-01 03:00:00.000</td><td>SDO</td><td>EVE</td><td>60.0 .. 1060.0</td><td>LASP</td><td>irradiance</td><td>FULLDISK</td><td>-0.00098</td></tr>\n",
              "<tr><td>2012-01-01 03:00:00.000</td><td>2012-01-01 04:00:00.000</td><td>SDO</td><td>EVE</td><td>93.0 .. 1033.0</td><td>LASP</td><td>irradiance</td><td>FULLDISK</td><td>-0.00098</td></tr>\n",
              "<tr><td>2012-01-01 03:00:00.000</td><td>2012-01-01 04:00:00.000</td><td>SDO</td><td>EVE</td><td>60.0 .. 1060.0</td><td>LASP</td><td>irradiance</td><td>FULLDISK</td><td>-0.00098</td></tr>\n",
              "<tr><td>2012-01-01 04:00:00.000</td><td>2012-01-01 05:00:00.000</td><td>SDO</td><td>EVE</td><td>93.0 .. 1033.0</td><td>LASP</td><td>irradiance</td><td>FULLDISK</td><td>-0.00098</td></tr>\n",
              "<tr><td>...</td><td>...</td><td>...</td><td>...</td><td>...</td><td>...</td><td>...</td><td>...</td><td>...</td></tr>\n",
              "<tr><td>2012-01-01 20:00:00.000</td><td>2012-01-01 21:00:00.000</td><td>SDO</td><td>EVE</td><td>93.0 .. 1033.0</td><td>LASP</td><td>irradiance</td><td>FULLDISK</td><td>-0.00098</td></tr>\n",
              "<tr><td>2012-01-01 20:00:00.000</td><td>2012-01-01 21:00:00.000</td><td>SDO</td><td>EVE</td><td>60.0 .. 1060.0</td><td>LASP</td><td>irradiance</td><td>FULLDISK</td><td>-0.00098</td></tr>\n",
              "<tr><td>2012-01-01 21:00:00.000</td><td>2012-01-01 22:00:00.000</td><td>SDO</td><td>EVE</td><td>93.0 .. 1033.0</td><td>LASP</td><td>irradiance</td><td>FULLDISK</td><td>-0.00098</td></tr>\n",
              "<tr><td>2012-01-01 21:00:00.000</td><td>2012-01-01 22:00:00.000</td><td>SDO</td><td>EVE</td><td>60.0 .. 1060.0</td><td>LASP</td><td>irradiance</td><td>FULLDISK</td><td>-0.00098</td></tr>\n",
              "<tr><td>2012-01-01 22:00:00.000</td><td>2012-01-01 23:00:00.000</td><td>SDO</td><td>EVE</td><td>93.0 .. 1033.0</td><td>LASP</td><td>irradiance</td><td>FULLDISK</td><td>-0.00098</td></tr>\n",
              "<tr><td>2012-01-01 22:00:00.000</td><td>2012-01-01 23:00:00.000</td><td>SDO</td><td>EVE</td><td>60.0 .. 1060.0</td><td>LASP</td><td>irradiance</td><td>FULLDISK</td><td>-0.00098</td></tr>\n",
              "<tr><td>2012-01-01 23:00:00.000</td><td>2012-01-02 00:00:00.000</td><td>SDO</td><td>EVE</td><td>93.0 .. 1033.0</td><td>LASP</td><td>irradiance</td><td>FULLDISK</td><td>-0.00098</td></tr>\n",
              "<tr><td>2012-01-01 23:00:00.000</td><td>2012-01-02 00:00:00.000</td><td>SDO</td><td>EVE</td><td>60.0 .. 1060.0</td><td>LASP</td><td>irradiance</td><td>FULLDISK</td><td>-0.00098</td></tr>\n",
              "<tr><td>2012-01-02 00:00:00.000</td><td>2012-01-02 01:00:00.000</td><td>SDO</td><td>EVE</td><td>93.0 .. 1033.0</td><td>LASP</td><td>irradiance</td><td>FULLDISK</td><td>-0.00098</td></tr>\n",
              "<tr><td>2012-01-02 00:00:00.000</td><td>2012-01-02 01:00:00.000</td><td>SDO</td><td>EVE</td><td>60.0 .. 1060.0</td><td>LASP</td><td>irradiance</td><td>FULLDISK</td><td>-0.00098</td></tr>\n",
              "</table></div></br>"
            ]
          },
          "metadata": {},
          "execution_count": 22
        }
      ]
    },
    {
      "cell_type": "code",
      "source": [
        "results[0,:]"
      ],
      "metadata": {
        "colab": {
          "base_uri": "https://localhost:8080/",
          "height": 122
        },
        "id": "usuf_YdtwFBT",
        "outputId": "7149f243-336b-4940-c180-568d86525aad"
      },
      "execution_count": 23,
      "outputs": [
        {
          "output_type": "execute_result",
          "data": {
            "text/plain": [
              "<sunpy.net.dataretriever.client.QueryResponse object at 0x7e00ff9ae440>\n",
              "       Start Time               End Time        Instrument ... Provider Level\n",
              "----------------------- ----------------------- ---------- ... -------- -----\n",
              "2012-01-01 00:00:00.000 2012-01-01 23:59:59.999       LYRA ...      ESA     2\n",
              "2012-01-02 00:00:00.000 2012-01-02 23:59:59.999       LYRA ...      ESA     2"
            ],
            "text/html": [
              "<div><i>QueryResponse length=2</i>\n",
              "<table id=\"table138542753437952\" class=\"table-striped table-bordered table-condensed\">\n",
              "<thead><tr><th>Start Time</th><th>End Time</th><th>Instrument</th><th>Physobs</th><th>Source</th><th>Provider</th><th>Level</th></tr></thead>\n",
              "<thead><tr><th>Time</th><th>Time</th><th>str4</th><th>str10</th><th>str6</th><th>str3</th><th>int64</th></tr></thead>\n",
              "<tr><td>2012-01-01 00:00:00.000</td><td>2012-01-01 23:59:59.999</td><td>LYRA</td><td>irradiance</td><td>PROBA2</td><td>ESA</td><td>2</td></tr>\n",
              "<tr><td>2012-01-02 00:00:00.000</td><td>2012-01-02 23:59:59.999</td><td>LYRA</td><td>irradiance</td><td>PROBA2</td><td>ESA</td><td>2</td></tr>\n",
              "</table></div>"
            ]
          },
          "metadata": {},
          "execution_count": 23
        }
      ]
    },
    {
      "cell_type": "code",
      "source": [
        "results[\"lyra\"]  ## Can also be written as results [0,:]"
      ],
      "metadata": {
        "colab": {
          "base_uri": "https://localhost:8080/",
          "height": 122
        },
        "id": "-Le9ZbA5wN2a",
        "outputId": "dfec2b77-335c-459d-8b3d-ff39fd534364"
      },
      "execution_count": 24,
      "outputs": [
        {
          "output_type": "execute_result",
          "data": {
            "text/plain": [
              "<sunpy.net.dataretriever.client.QueryResponse object at 0x7e010207d150>\n",
              "       Start Time               End Time        Instrument ... Provider Level\n",
              "----------------------- ----------------------- ---------- ... -------- -----\n",
              "2012-01-01 00:00:00.000 2012-01-01 23:59:59.999       LYRA ...      ESA     2\n",
              "2012-01-02 00:00:00.000 2012-01-02 23:59:59.999       LYRA ...      ESA     2"
            ],
            "text/html": [
              "<div><i>QueryResponse length=2</i>\n",
              "<table id=\"table138542753807664\" class=\"table-striped table-bordered table-condensed\">\n",
              "<thead><tr><th>Start Time</th><th>End Time</th><th>Instrument</th><th>Physobs</th><th>Source</th><th>Provider</th><th>Level</th></tr></thead>\n",
              "<thead><tr><th>Time</th><th>Time</th><th>str4</th><th>str10</th><th>str6</th><th>str3</th><th>int64</th></tr></thead>\n",
              "<tr><td>2012-01-01 00:00:00.000</td><td>2012-01-01 23:59:59.999</td><td>LYRA</td><td>irradiance</td><td>PROBA2</td><td>ESA</td><td>2</td></tr>\n",
              "<tr><td>2012-01-02 00:00:00.000</td><td>2012-01-02 23:59:59.999</td><td>LYRA</td><td>irradiance</td><td>PROBA2</td><td>ESA</td><td>2</td></tr>\n",
              "</table></div>"
            ]
          },
          "metadata": {},
          "execution_count": 24
        }
      ]
    },
    {
      "cell_type": "markdown",
      "source": [
        "To do normal slicing operations on any Python sequence, e.g results[1, ::10] to access every tenth file in the result returned by the second client.\n",
        "\n",
        "The UnifiedResponse obejct contains many response tables which make up the search results. Each of the responses ar QueryResponseTable objects, which are astropy.table objects meaning that one can interact with them and filter them like any other tabular data. This can be used to interact with results which are metadata only, i.e searches from the HEK, or it can be used to reduce the number of files downloaded by Fido.fetch."
      ],
      "metadata": {
        "id": "4EN6DFaZwdlX"
      }
    },
    {
      "cell_type": "code",
      "source": [
        "results = Fido.search(a.Time(\"2020/01/01\", \"2020/01/01 00:01\"), a.Instrument.aia  |\n",
        " a.Instrument.hmi)\n",
        "results"
      ],
      "metadata": {
        "colab": {
          "base_uri": "https://localhost:8080/",
          "height": 1000
        },
        "id": "e8EaNIW-xp_V",
        "outputId": "3783e36e-62b0-4c8a-a992-699fb52401d0"
      },
      "execution_count": 25,
      "outputs": [
        {
          "output_type": "execute_result",
          "data": {
            "text/plain": [
              "<sunpy.net.fido_factory.UnifiedResponse object at 0x7e00ff8a0fa0>\n",
              "Results from 2 Providers:\n",
              "\n",
              "41 Results from the VSOClient:\n",
              "Source: http://vso.stanford.edu/cgi-bin/search\n",
              "Total estimated size: 2.779 Gbyte\n",
              "\n",
              "       Start Time               End Time        Source ... Extent Type   Size  \n",
              "                                                       ...              Mibyte \n",
              "----------------------- ----------------------- ------ ... ----------- --------\n",
              "2020-01-01 00:00:00.000 2020-01-01 00:00:01.000    SDO ...    FULLDISK 64.64844\n",
              "2020-01-01 00:00:04.000 2020-01-01 00:00:05.000    SDO ...    FULLDISK 64.64844\n",
              "2020-01-01 00:00:05.000 2020-01-01 00:00:06.000    SDO ...    FULLDISK 64.64844\n",
              "2020-01-01 00:00:05.000 2020-01-01 00:00:06.000    SDO ...    FULLDISK 64.64844\n",
              "2020-01-01 00:00:06.000 2020-01-01 00:00:07.000    SDO ...    FULLDISK 64.64844\n",
              "2020-01-01 00:00:09.000 2020-01-01 00:00:10.000    SDO ...    FULLDISK 64.64844\n",
              "2020-01-01 00:00:09.000 2020-01-01 00:00:10.000    SDO ...    FULLDISK 64.64844\n",
              "2020-01-01 00:00:11.000 2020-01-01 00:00:12.000    SDO ...    FULLDISK 64.64844\n",
              "2020-01-01 00:00:12.000 2020-01-01 00:00:13.000    SDO ...    FULLDISK 64.64844\n",
              "2020-01-01 00:00:14.000 2020-01-01 00:00:15.000    SDO ...    FULLDISK 64.64844\n",
              "                    ...                     ...    ... ...         ...      ...\n",
              "2020-01-01 00:00:47.000 2020-01-01 00:00:48.000    SDO ...    FULLDISK 64.64844\n",
              "2020-01-01 00:00:48.000 2020-01-01 00:00:49.000    SDO ...    FULLDISK 64.64844\n",
              "2020-01-01 00:00:52.000 2020-01-01 00:00:53.000    SDO ...    FULLDISK 64.64844\n",
              "2020-01-01 00:00:52.000 2020-01-01 00:00:53.000    SDO ...    FULLDISK 64.64844\n",
              "2020-01-01 00:00:53.000 2020-01-01 00:00:54.000    SDO ...    FULLDISK 64.64844\n",
              "2020-01-01 00:00:54.000 2020-01-01 00:00:55.000    SDO ...    FULLDISK 64.64844\n",
              "2020-01-01 00:00:57.000 2020-01-01 00:00:58.000    SDO ...    FULLDISK 64.64844\n",
              "2020-01-01 00:00:57.000 2020-01-01 00:00:58.000    SDO ...    FULLDISK 64.64844\n",
              "2020-01-01 00:00:59.000 2020-01-01 00:01:00.000    SDO ...    FULLDISK 64.64844\n",
              "2020-01-01 00:01:00.000 2020-01-01 00:01:01.000    SDO ...    FULLDISK 64.64844\n",
              "Length = 41 rows\n",
              "\n",
              "3 Results from the VSOClient:\n",
              "Source: http://vso.stanford.edu/cgi-bin/search\n",
              "\n",
              "       Start Time               End Time        Source ... Extent Type   Size  \n",
              "                                                       ...              Mibyte \n",
              "----------------------- ----------------------- ------ ... ----------- --------\n",
              "2020-01-01 00:00:22.000 2020-01-01 00:00:23.000    SDO ...    FULLDISK -0.00098\n",
              "2020-01-01 00:00:22.000 2020-01-01 00:00:23.000    SDO ...    FULLDISK -0.00098\n",
              "2020-01-01 00:00:22.000 2020-01-01 00:00:23.000    SDO ...    FULLDISK -0.00098\n"
            ],
            "text/html": [
              "Results from 2 Providers:</br></br>41 Results from the VSOClient:</br><div><i>VSOQueryResponseTable length=41</i>\n",
              "<table id=\"table138542752345984\" class=\"table-striped table-bordered table-condensed\">\n",
              "<thead><tr><th>Start Time</th><th>End Time</th><th>Source</th><th>Instrument</th><th>Wavelength</th><th>Provider</th><th>Physobs</th><th>Wavetype</th><th>Extent Width</th><th>Extent Length</th><th>Extent Type</th><th>Size</th></tr></thead>\n",
              "<thead><tr><th></th><th></th><th></th><th></th><th>Angstrom</th><th></th><th></th><th></th><th></th><th></th><th></th><th>Mibyte</th></tr></thead>\n",
              "<thead><tr><th>Time</th><th>Time</th><th>str3</th><th>str3</th><th>float64[2]</th><th>str4</th><th>str9</th><th>str6</th><th>str4</th><th>str4</th><th>str8</th><th>float64</th></tr></thead>\n",
              "<tr><td>2020-01-01 00:00:00.000</td><td>2020-01-01 00:00:01.000</td><td>SDO</td><td>AIA</td><td>335.0 .. 335.0</td><td>JSOC</td><td>intensity</td><td>NARROW</td><td>4096</td><td>4096</td><td>FULLDISK</td><td>64.64844</td></tr>\n",
              "<tr><td>2020-01-01 00:00:04.000</td><td>2020-01-01 00:00:05.000</td><td>SDO</td><td>AIA</td><td>193.0 .. 193.0</td><td>JSOC</td><td>intensity</td><td>NARROW</td><td>4096</td><td>4096</td><td>FULLDISK</td><td>64.64844</td></tr>\n",
              "<tr><td>2020-01-01 00:00:05.000</td><td>2020-01-01 00:00:06.000</td><td>SDO</td><td>AIA</td><td>304.0 .. 304.0</td><td>JSOC</td><td>intensity</td><td>NARROW</td><td>4096</td><td>4096</td><td>FULLDISK</td><td>64.64844</td></tr>\n",
              "<tr><td>2020-01-01 00:00:05.000</td><td>2020-01-01 00:00:06.000</td><td>SDO</td><td>AIA</td><td>4500.0 .. 4500.0</td><td>JSOC</td><td>intensity</td><td>NARROW</td><td>4096</td><td>4096</td><td>FULLDISK</td><td>64.64844</td></tr>\n",
              "<tr><td>2020-01-01 00:00:06.000</td><td>2020-01-01 00:00:07.000</td><td>SDO</td><td>AIA</td><td>131.0 .. 131.0</td><td>JSOC</td><td>intensity</td><td>NARROW</td><td>4096</td><td>4096</td><td>FULLDISK</td><td>64.64844</td></tr>\n",
              "<tr><td>2020-01-01 00:00:09.000</td><td>2020-01-01 00:00:10.000</td><td>SDO</td><td>AIA</td><td>171.0 .. 171.0</td><td>JSOC</td><td>intensity</td><td>NARROW</td><td>4096</td><td>4096</td><td>FULLDISK</td><td>64.64844</td></tr>\n",
              "<tr><td>2020-01-01 00:00:09.000</td><td>2020-01-01 00:00:10.000</td><td>SDO</td><td>AIA</td><td>211.0 .. 211.0</td><td>JSOC</td><td>intensity</td><td>NARROW</td><td>4096</td><td>4096</td><td>FULLDISK</td><td>64.64844</td></tr>\n",
              "<tr><td>2020-01-01 00:00:11.000</td><td>2020-01-01 00:00:12.000</td><td>SDO</td><td>AIA</td><td>94.0 .. 94.0</td><td>JSOC</td><td>intensity</td><td>NARROW</td><td>4096</td><td>4096</td><td>FULLDISK</td><td>64.64844</td></tr>\n",
              "<tr><td>2020-01-01 00:00:12.000</td><td>2020-01-01 00:00:13.000</td><td>SDO</td><td>AIA</td><td>335.0 .. 335.0</td><td>JSOC</td><td>intensity</td><td>NARROW</td><td>4096</td><td>4096</td><td>FULLDISK</td><td>64.64844</td></tr>\n",
              "<tr><td>...</td><td>...</td><td>...</td><td>...</td><td>...</td><td>...</td><td>...</td><td>...</td><td>...</td><td>...</td><td>...</td><td>...</td></tr>\n",
              "<tr><td>2020-01-01 00:00:47.000</td><td>2020-01-01 00:00:48.000</td><td>SDO</td><td>AIA</td><td>94.0 .. 94.0</td><td>JSOC</td><td>intensity</td><td>NARROW</td><td>4096</td><td>4096</td><td>FULLDISK</td><td>64.64844</td></tr>\n",
              "<tr><td>2020-01-01 00:00:48.000</td><td>2020-01-01 00:00:49.000</td><td>SDO</td><td>AIA</td><td>335.0 .. 335.0</td><td>JSOC</td><td>intensity</td><td>NARROW</td><td>4096</td><td>4096</td><td>FULLDISK</td><td>64.64844</td></tr>\n",
              "<tr><td>2020-01-01 00:00:52.000</td><td>2020-01-01 00:00:53.000</td><td>SDO</td><td>AIA</td><td>1700.0 .. 1700.0</td><td>JSOC</td><td>intensity</td><td>NARROW</td><td>4096</td><td>4096</td><td>FULLDISK</td><td>64.64844</td></tr>\n",
              "<tr><td>2020-01-01 00:00:52.000</td><td>2020-01-01 00:00:53.000</td><td>SDO</td><td>AIA</td><td>193.0 .. 193.0</td><td>JSOC</td><td>intensity</td><td>NARROW</td><td>4096</td><td>4096</td><td>FULLDISK</td><td>64.64844</td></tr>\n",
              "<tr><td>2020-01-01 00:00:53.000</td><td>2020-01-01 00:00:54.000</td><td>SDO</td><td>AIA</td><td>304.0 .. 304.0</td><td>JSOC</td><td>intensity</td><td>NARROW</td><td>4096</td><td>4096</td><td>FULLDISK</td><td>64.64844</td></tr>\n",
              "<tr><td>2020-01-01 00:00:54.000</td><td>2020-01-01 00:00:55.000</td><td>SDO</td><td>AIA</td><td>131.0 .. 131.0</td><td>JSOC</td><td>intensity</td><td>NARROW</td><td>4096</td><td>4096</td><td>FULLDISK</td><td>64.64844</td></tr>\n",
              "<tr><td>2020-01-01 00:00:57.000</td><td>2020-01-01 00:00:58.000</td><td>SDO</td><td>AIA</td><td>171.0 .. 171.0</td><td>JSOC</td><td>intensity</td><td>NARROW</td><td>4096</td><td>4096</td><td>FULLDISK</td><td>64.64844</td></tr>\n",
              "<tr><td>2020-01-01 00:00:57.000</td><td>2020-01-01 00:00:58.000</td><td>SDO</td><td>AIA</td><td>211.0 .. 211.0</td><td>JSOC</td><td>intensity</td><td>NARROW</td><td>4096</td><td>4096</td><td>FULLDISK</td><td>64.64844</td></tr>\n",
              "<tr><td>2020-01-01 00:00:59.000</td><td>2020-01-01 00:01:00.000</td><td>SDO</td><td>AIA</td><td>94.0 .. 94.0</td><td>JSOC</td><td>intensity</td><td>NARROW</td><td>4096</td><td>4096</td><td>FULLDISK</td><td>64.64844</td></tr>\n",
              "<tr><td>2020-01-01 00:01:00.000</td><td>2020-01-01 00:01:01.000</td><td>SDO</td><td>AIA</td><td>335.0 .. 335.0</td><td>JSOC</td><td>intensity</td><td>NARROW</td><td>4096</td><td>4096</td><td>FULLDISK</td><td>64.64844</td></tr>\n",
              "</table></div></br>3 Results from the VSOClient:</br><div><i>VSOQueryResponseTable length=3</i>\n",
              "<table id=\"table138542752345264\" class=\"table-striped table-bordered table-condensed\">\n",
              "<thead><tr><th>Start Time</th><th>End Time</th><th>Source</th><th>Instrument</th><th>Wavelength</th><th>Provider</th><th>Physobs</th><th>Wavetype</th><th>Extent Width</th><th>Extent Length</th><th>Extent Type</th><th>Size</th></tr></thead>\n",
              "<thead><tr><th></th><th></th><th></th><th></th><th>Angstrom</th><th></th><th></th><th></th><th></th><th></th><th></th><th>Mibyte</th></tr></thead>\n",
              "<thead><tr><th>Time</th><th>Time</th><th>str3</th><th>str3</th><th>float64[2]</th><th>str4</th><th>str18</th><th>str6</th><th>str4</th><th>str4</th><th>str8</th><th>float64</th></tr></thead>\n",
              "<tr><td>2020-01-01 00:00:22.000</td><td>2020-01-01 00:00:23.000</td><td>SDO</td><td>HMI</td><td>6173.0 .. 6174.0</td><td>JSOC</td><td>intensity</td><td>NARROW</td><td>4096</td><td>4096</td><td>FULLDISK</td><td>-0.00098</td></tr>\n",
              "<tr><td>2020-01-01 00:00:22.000</td><td>2020-01-01 00:00:23.000</td><td>SDO</td><td>HMI</td><td>6173.0 .. 6174.0</td><td>JSOC</td><td>LOS_magnetic_field</td><td>NARROW</td><td>4096</td><td>4096</td><td>FULLDISK</td><td>-0.00098</td></tr>\n",
              "<tr><td>2020-01-01 00:00:22.000</td><td>2020-01-01 00:00:23.000</td><td>SDO</td><td>HMI</td><td>6173.0 .. 6174.0</td><td>JSOC</td><td>LOS_velocity</td><td>NARROW</td><td>4096</td><td>4096</td><td>FULLDISK</td><td>-0.00098</td></tr>\n",
              "</table></div></br>"
            ]
          },
          "metadata": {},
          "execution_count": 25
        }
      ]
    },
    {
      "cell_type": "markdown",
      "source": [
        "The VSO client returns a lot of information about the records, so the first thng we can do is show inly the columns we are itnerested in. We can inspect all the availabe column names in the above response as following -"
      ],
      "metadata": {
        "id": "A6loNnfWyDS0"
      }
    },
    {
      "cell_type": "code",
      "source": [
        "results.all_colnames"
      ],
      "metadata": {
        "colab": {
          "base_uri": "https://localhost:8080/"
        },
        "id": "7nOT8V3vyOmt",
        "outputId": "2c5303d7-9bf6-40a1-bbc3-ce6e705f442e"
      },
      "execution_count": 26,
      "outputs": [
        {
          "output_type": "execute_result",
          "data": {
            "text/plain": [
              "['End Time',\n",
              " 'Extent Length',\n",
              " 'Extent Type',\n",
              " 'Extent Width',\n",
              " 'Instrument',\n",
              " 'Physobs',\n",
              " 'Provider',\n",
              " 'Size',\n",
              " 'Source',\n",
              " 'Start Time',\n",
              " 'Wavelength',\n",
              " 'Wavetype',\n",
              " 'fileid']"
            ]
          },
          "metadata": {},
          "execution_count": 26
        }
      ]
    },
    {
      "cell_type": "markdown",
      "source": [
        "With the wide range of column names, now we can choose which particular column we want more information from."
      ],
      "metadata": {
        "id": "qI42yUQ6yUyI"
      }
    },
    {
      "cell_type": "code",
      "source": [
        "results.show(\"Start Time\", \"Instrument\", \"Physobs\", \"Wavelength\")\n",
        "\n",
        "#Physobs is for Physical Observable. Refers to the specific physical quantity that is being observed or measured by a particular instrument."
      ],
      "metadata": {
        "colab": {
          "base_uri": "https://localhost:8080/",
          "height": 779
        },
        "id": "sjTeU5_Vy_cu",
        "outputId": "fa939ea4-9a65-49f2-9577-2ad792d90b6c"
      },
      "execution_count": 27,
      "outputs": [
        {
          "output_type": "execute_result",
          "data": {
            "text/plain": [
              "<sunpy.net.fido_factory.UnifiedResponse object at 0x7e00ff8812a0>\n",
              "Results from 2 Providers:\n",
              "\n",
              "41 Results from the VSOClient:\n",
              "Source: http://vso.stanford.edu/cgi-bin/search\n",
              "\n",
              "       Start Time       Instrument  Physobs     Wavelength   \n",
              "                                                 Angstrom    \n",
              "----------------------- ---------- --------- ----------------\n",
              "2020-01-01 00:00:00.000        AIA intensity   335.0 .. 335.0\n",
              "2020-01-01 00:00:04.000        AIA intensity   193.0 .. 193.0\n",
              "2020-01-01 00:00:05.000        AIA intensity   304.0 .. 304.0\n",
              "2020-01-01 00:00:05.000        AIA intensity 4500.0 .. 4500.0\n",
              "2020-01-01 00:00:06.000        AIA intensity   131.0 .. 131.0\n",
              "2020-01-01 00:00:09.000        AIA intensity   171.0 .. 171.0\n",
              "2020-01-01 00:00:09.000        AIA intensity   211.0 .. 211.0\n",
              "2020-01-01 00:00:11.000        AIA intensity     94.0 .. 94.0\n",
              "2020-01-01 00:00:12.000        AIA intensity   335.0 .. 335.0\n",
              "2020-01-01 00:00:14.000        AIA intensity 1600.0 .. 1600.0\n",
              "                    ...        ...       ...              ...\n",
              "2020-01-01 00:00:47.000        AIA intensity     94.0 .. 94.0\n",
              "2020-01-01 00:00:48.000        AIA intensity   335.0 .. 335.0\n",
              "2020-01-01 00:00:52.000        AIA intensity 1700.0 .. 1700.0\n",
              "2020-01-01 00:00:52.000        AIA intensity   193.0 .. 193.0\n",
              "2020-01-01 00:00:53.000        AIA intensity   304.0 .. 304.0\n",
              "2020-01-01 00:00:54.000        AIA intensity   131.0 .. 131.0\n",
              "2020-01-01 00:00:57.000        AIA intensity   171.0 .. 171.0\n",
              "2020-01-01 00:00:57.000        AIA intensity   211.0 .. 211.0\n",
              "2020-01-01 00:00:59.000        AIA intensity     94.0 .. 94.0\n",
              "2020-01-01 00:01:00.000        AIA intensity   335.0 .. 335.0\n",
              "Length = 41 rows\n",
              "\n",
              "3 Results from the VSOClient:\n",
              "Source: http://vso.stanford.edu/cgi-bin/search\n",
              "\n",
              "       Start Time       Instrument      Physobs          Wavelength   \n",
              "                                                          Angstrom    \n",
              "----------------------- ---------- ------------------ ----------------\n",
              "2020-01-01 00:00:22.000        HMI          intensity 6173.0 .. 6174.0\n",
              "2020-01-01 00:00:22.000        HMI LOS_magnetic_field 6173.0 .. 6174.0\n",
              "2020-01-01 00:00:22.000        HMI       LOS_velocity 6173.0 .. 6174.0\n"
            ],
            "text/html": [
              "Results from 2 Providers:</br></br>41 Results from the VSOClient:</br><div><i>VSOQueryResponseTable length=41</i>\n",
              "<table id=\"table138542752208432\" class=\"table-striped table-bordered table-condensed\">\n",
              "<thead><tr><th>Start Time</th><th>Instrument</th><th>Physobs</th><th>Wavelength</th></tr></thead>\n",
              "<thead><tr><th></th><th></th><th></th><th>Angstrom</th></tr></thead>\n",
              "<thead><tr><th>Time</th><th>str3</th><th>str9</th><th>float64[2]</th></tr></thead>\n",
              "<tr><td>2020-01-01 00:00:00.000</td><td>AIA</td><td>intensity</td><td>335.0 .. 335.0</td></tr>\n",
              "<tr><td>2020-01-01 00:00:04.000</td><td>AIA</td><td>intensity</td><td>193.0 .. 193.0</td></tr>\n",
              "<tr><td>2020-01-01 00:00:05.000</td><td>AIA</td><td>intensity</td><td>304.0 .. 304.0</td></tr>\n",
              "<tr><td>2020-01-01 00:00:05.000</td><td>AIA</td><td>intensity</td><td>4500.0 .. 4500.0</td></tr>\n",
              "<tr><td>2020-01-01 00:00:06.000</td><td>AIA</td><td>intensity</td><td>131.0 .. 131.0</td></tr>\n",
              "<tr><td>2020-01-01 00:00:09.000</td><td>AIA</td><td>intensity</td><td>171.0 .. 171.0</td></tr>\n",
              "<tr><td>2020-01-01 00:00:09.000</td><td>AIA</td><td>intensity</td><td>211.0 .. 211.0</td></tr>\n",
              "<tr><td>2020-01-01 00:00:11.000</td><td>AIA</td><td>intensity</td><td>94.0 .. 94.0</td></tr>\n",
              "<tr><td>2020-01-01 00:00:12.000</td><td>AIA</td><td>intensity</td><td>335.0 .. 335.0</td></tr>\n",
              "<tr><td>...</td><td>...</td><td>...</td><td>...</td></tr>\n",
              "<tr><td>2020-01-01 00:00:47.000</td><td>AIA</td><td>intensity</td><td>94.0 .. 94.0</td></tr>\n",
              "<tr><td>2020-01-01 00:00:48.000</td><td>AIA</td><td>intensity</td><td>335.0 .. 335.0</td></tr>\n",
              "<tr><td>2020-01-01 00:00:52.000</td><td>AIA</td><td>intensity</td><td>1700.0 .. 1700.0</td></tr>\n",
              "<tr><td>2020-01-01 00:00:52.000</td><td>AIA</td><td>intensity</td><td>193.0 .. 193.0</td></tr>\n",
              "<tr><td>2020-01-01 00:00:53.000</td><td>AIA</td><td>intensity</td><td>304.0 .. 304.0</td></tr>\n",
              "<tr><td>2020-01-01 00:00:54.000</td><td>AIA</td><td>intensity</td><td>131.0 .. 131.0</td></tr>\n",
              "<tr><td>2020-01-01 00:00:57.000</td><td>AIA</td><td>intensity</td><td>171.0 .. 171.0</td></tr>\n",
              "<tr><td>2020-01-01 00:00:57.000</td><td>AIA</td><td>intensity</td><td>211.0 .. 211.0</td></tr>\n",
              "<tr><td>2020-01-01 00:00:59.000</td><td>AIA</td><td>intensity</td><td>94.0 .. 94.0</td></tr>\n",
              "<tr><td>2020-01-01 00:01:00.000</td><td>AIA</td><td>intensity</td><td>335.0 .. 335.0</td></tr>\n",
              "</table></div></br>3 Results from the VSOClient:</br><div><i>VSOQueryResponseTable length=3</i>\n",
              "<table id=\"table138542751925392\" class=\"table-striped table-bordered table-condensed\">\n",
              "<thead><tr><th>Start Time</th><th>Instrument</th><th>Physobs</th><th>Wavelength</th></tr></thead>\n",
              "<thead><tr><th></th><th></th><th></th><th>Angstrom</th></tr></thead>\n",
              "<thead><tr><th>Time</th><th>str3</th><th>str18</th><th>float64[2]</th></tr></thead>\n",
              "<tr><td>2020-01-01 00:00:22.000</td><td>HMI</td><td>intensity</td><td>6173.0 .. 6174.0</td></tr>\n",
              "<tr><td>2020-01-01 00:00:22.000</td><td>HMI</td><td>LOS_magnetic_field</td><td>6173.0 .. 6174.0</td></tr>\n",
              "<tr><td>2020-01-01 00:00:22.000</td><td>HMI</td><td>LOS_velocity</td><td>6173.0 .. 6174.0</td></tr>\n",
              "</table></div></br>"
            ]
          },
          "metadata": {},
          "execution_count": 27
        }
      ]
    },
    {
      "cell_type": "markdown",
      "source": [
        "# **DOWNLOADING DATA**\n",
        "\n",
        "After files are located via a **Fido.search**, these files can be downloaded by **Fido.fetch**\n",
        "\n"
      ],
      "metadata": {
        "id": "OYguZ4CO0CG-"
      }
    },
    {
      "cell_type": "code",
      "source": [
        "download_files = Fido.fetch(results[0,0])\n",
        "download_files"
      ],
      "metadata": {
        "colab": {
          "base_uri": "https://localhost:8080/",
          "height": 493,
          "referenced_widgets": [
            "2a61570fbedc4b00a09074d794554ed3",
            "3c03eaac58ea403ea79956a7ec4fecdc",
            "33bf3f73484d4852bb4b83c953d035d8",
            "6b06c36a2e0649f3944476487d9df2e3",
            "9643c1a241cb48528fc06263c900f1e7",
            "bc0fa2ba869d457387cf754c5b09146a",
            "dd6accab6a424553b5d71f32b9d9eed4",
            "b27029aa5aa74582825a30d907678262",
            "124ef8b73e424474960ddf3034ac7003",
            "bb4eaab21a30460eaac64139937a67cc",
            "926743150d3e4bd6959da3b529cb102e"
          ]
        },
        "id": "BwC1-B2b1t2f",
        "outputId": "4f84f7d7-d637-46cb-9cc5-856ebcecabf0"
      },
      "execution_count": 29,
      "outputs": [
        {
          "output_type": "display_data",
          "data": {
            "text/plain": [
              "Files Downloaded: 0file [00:00, ?file/s]"
            ],
            "application/vnd.jupyter.widget-view+json": {
              "version_major": 2,
              "version_minor": 0,
              "model_id": "2a61570fbedc4b00a09074d794554ed3"
            }
          },
          "metadata": {}
        },
        {
          "output_type": "execute_result",
          "data": {
            "text/plain": [
              "<parfive.results.Results object at 0x7e00ff8ba830>\n",
              "[]\n",
              "Errors:\n",
              "(<parfive.results.Error object at 0x7e014eb6c630>\n",
              ",\n",
              ",\n",
              "{\n",
              "    'version': None,\n",
              "    'info': None,\n",
              "    'provider': None,\n",
              "    'getdataitem': {\n",
              "        'dataitem': [\n",
              "            {\n",
              "                'provider': 'JSOC',\n",
              "                'url': None,\n",
              "                'fileiditem': None\n",
              "            }\n",
              "        ]\n",
              "    },\n",
              "    'status': 'VSO-D500 Error communicating with Data Provider',\n",
              "    'debug': \"soap:Server.Transport : 500 Can't connect to sdo7.nascom.nasa.gov:80 (Network is unreachable)\",\n",
              "    'details': None,\n",
              "    'method': None\n",
              "})"
            ]
          },
          "metadata": {},
          "execution_count": 29
        }
      ]
    },
    {
      "cell_type": "code",
      "source": [
        "print(download_files.errors)"
      ],
      "metadata": {
        "colab": {
          "base_uri": "https://localhost:8080/"
        },
        "id": "mv8psmGd_Aiy",
        "outputId": "8319ba7a-d409-4336-c477-781faa8f185b"
      },
      "execution_count": 36,
      "outputs": [
        {
          "output_type": "stream",
          "name": "stdout",
          "text": [
            "[<parfive.results.Error object at 0x7e014eb6c630>\n",
            ",\n",
            ",\n",
            "{\n",
            "    'version': None,\n",
            "    'info': None,\n",
            "    'provider': None,\n",
            "    'getdataitem': {\n",
            "        'dataitem': [\n",
            "            {\n",
            "                'provider': 'JSOC',\n",
            "                'url': None,\n",
            "                'fileiditem': None\n",
            "            }\n",
            "        ]\n",
            "    },\n",
            "    'status': 'VSO-D500 Error communicating with Data Provider',\n",
            "    'debug': \"soap:Server.Transport : 500 Can't connect to sdo7.nascom.nasa.gov:80 (Network is unreachable)\",\n",
            "    'details': None,\n",
            "    'method': None\n",
            "}]\n"
          ]
        }
      ]
    }
  ]
}