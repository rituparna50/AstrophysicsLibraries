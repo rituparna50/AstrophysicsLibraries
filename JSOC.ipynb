{
  "nbformat": 4,
  "nbformat_minor": 0,
  "metadata": {
    "colab": {
      "provenance": [],
      "authorship_tag": "ABX9TyPNnbxvLHx4qTFrw/I9/JxZ",
      "include_colab_link": true
    },
    "kernelspec": {
      "name": "python3",
      "display_name": "Python 3"
    },
    "language_info": {
      "name": "python"
    }
  },
  "cells": [
    {
      "cell_type": "markdown",
      "metadata": {
        "id": "view-in-github",
        "colab_type": "text"
      },
      "source": [
        "<a href=\"https://colab.research.google.com/github/rituparna50/AstrophysicsLibraries/blob/JSOC/JSOC.ipynb\" target=\"_parent\"><img src=\"https://colab.research.google.com/assets/colab-badge.svg\" alt=\"Open In Colab\"/></a>"
      ]
    },
    {
      "cell_type": "markdown",
      "source": [
        "# **Finding and Downloading Data from JSOC**\n",
        "\n",
        "Sunpy's JSOC client provides an easier interface to query for JSOC data and make export requests. It uses the drms module in the backend. There are 2 ways of accessing JSOC data - one is to use the sunpy's unified search interface known as Fido. And the other form is to directly use JSOC client"
      ],
      "metadata": {
        "id": "9-OxuNf7gR3-"
      }
    },
    {
      "cell_type": "code",
      "source": [
        "!pip install sunpy\n",
        "!pip install astropy\n",
        "!pip install zeep\n",
        "!pip install drms"
      ],
      "metadata": {
        "id": "JCqVHyRHkiQ2"
      },
      "execution_count": null,
      "outputs": []
    },
    {
      "cell_type": "code",
      "source": [
        "#Sunpy's Fido module is in sunpy.net\n",
        "\n",
        "from sunpy.net import Fido, attrs as a"
      ],
      "metadata": {
        "id": "nI_-E08ah1BO"
      },
      "execution_count": null,
      "outputs": []
    },
    {
      "cell_type": "markdown",
      "source": [
        "# Querying the JSOC\n",
        "\n",
        "To search for data in JSOC, the query needs a \"Series\" name and a \"PrimeKey\""
      ],
      "metadata": {
        "id": "Gs5m-HDrkEwO"
      }
    },
    {
      "cell_type": "markdown",
      "source": [],
      "metadata": {
        "id": "asmSK5xtlexm"
      }
    },
    {
      "cell_type": "markdown",
      "source": [
        "Different PrimeKeys are supported by different Series and you can find out the PrimeKeys supported in any Series"
      ],
      "metadata": {
        "id": "uP1G1K3-lgMG"
      }
    },
    {
      "cell_type": "code",
      "source": [
        "import drms\n",
        "client = drms.Client()\n",
        "print(client.pkeys('hmi.m_720s'))\n",
        "['T_REC', 'CAMERA']"
      ],
      "metadata": {
        "colab": {
          "base_uri": "https://localhost:8080/"
        },
        "id": "MZo1axMilp5d",
        "outputId": "424395b3-6a3b-472c-cf2f-2ea4d87277e0"
      },
      "execution_count": null,
      "outputs": [
        {
          "output_type": "stream",
          "name": "stdout",
          "text": [
            "['T_REC', 'CAMERA']\n"
          ]
        },
        {
          "output_type": "execute_result",
          "data": {
            "text/plain": [
              "['T_REC', 'CAMERA']"
            ]
          },
          "metadata": {},
          "execution_count": 9
        }
      ]
    },
    {
      "cell_type": "markdown",
      "source": [
        "The most common PrimeKey, that is supported by every Series is Time, that is denoted by T_REC or T_OBS. Hence, Time can always be passed as an attribute while building a query. Wavelength is another pre-defined attribute which is a PrimeKey. Other PrimeKeys which need to be passed should be manually passed in ~sunpy.net.jsoc.attrs.PrimeKey. This will be explained later in this tutorial."
      ],
      "metadata": {
        "id": "NMTyO82pmI1Z"
      }
    },
    {
      "cell_type": "markdown",
      "source": [
        "# Constructing a Basic Query\n",
        "\n",
        "Asking for all hmi.v_45s series data between Jan 1st, 2014 from 00:00 to 01:00\n",
        "\n"
      ],
      "metadata": {
        "id": "ZqhlSZ0-mKD-"
      }
    },
    {
      "cell_type": "code",
      "source": [
        "res = Fido.search(a.Time('2014-01-01T00:00:00', '2014-01-01T01:00:00'),a.jsoc.Series('hmi.v_45s'))\n",
        "\n",
        "#Sets the start and end times for the query. The Time attribute takes UTC time as default.\n",
        "#If you need to pass a Time in some other time scale such as TAI, pass an astropy.time.Time object.\n",
        "##This has not downloaded the files yet."
      ],
      "metadata": {
        "id": "97FetMFcmPgK"
      },
      "execution_count": null,
      "outputs": []
    },
    {
      "cell_type": "code",
      "source": [
        "## To get a summary of the results of our query, just type the name of the variable set to the Fido search. In this case - res\n",
        "res"
      ],
      "metadata": {
        "colab": {
          "base_uri": "https://localhost:8080/",
          "height": 597
        },
        "id": "X_83zeanm1yn",
        "outputId": "e07f735b-c00f-433b-bf90-1dadd4fb57cc"
      },
      "execution_count": null,
      "outputs": [
        {
          "output_type": "execute_result",
          "data": {
            "text/plain": [
              "<sunpy.net.fido_factory.UnifiedResponse object at 0x7c736ad0f2b0>\n",
              "Results from 1 Provider:\n",
              "\n",
              "81 Results from the JSOCClient:\n",
              "Source: http://jsoc.stanford.edu\n",
              "\n",
              "         T_REC          TELESCOP  INSTRUME  WAVELNTH CAR_ROT\n",
              "----------------------- -------- ---------- -------- -------\n",
              "2014.01.01_00:00:45_TAI  SDO/HMI HMI_FRONT2   6173.0    2145\n",
              "2014.01.01_00:01:30_TAI  SDO/HMI HMI_FRONT2   6173.0    2145\n",
              "2014.01.01_00:02:15_TAI  SDO/HMI HMI_FRONT2   6173.0    2145\n",
              "2014.01.01_00:03:00_TAI  SDO/HMI HMI_FRONT2   6173.0    2145\n",
              "2014.01.01_00:03:45_TAI  SDO/HMI HMI_FRONT2   6173.0    2145\n",
              "2014.01.01_00:04:30_TAI  SDO/HMI HMI_FRONT2   6173.0    2145\n",
              "2014.01.01_00:05:15_TAI  SDO/HMI HMI_FRONT2   6173.0    2145\n",
              "2014.01.01_00:06:00_TAI  SDO/HMI HMI_FRONT2   6173.0    2145\n",
              "2014.01.01_00:06:45_TAI  SDO/HMI HMI_FRONT2   6173.0    2145\n",
              "2014.01.01_00:07:30_TAI  SDO/HMI HMI_FRONT2   6173.0    2145\n",
              "                    ...      ...        ...      ...     ...\n",
              "2014.01.01_00:53:15_TAI  SDO/HMI HMI_FRONT2   6173.0    2145\n",
              "2014.01.01_00:54:00_TAI  SDO/HMI HMI_FRONT2   6173.0    2145\n",
              "2014.01.01_00:54:45_TAI  SDO/HMI HMI_FRONT2   6173.0    2145\n",
              "2014.01.01_00:55:30_TAI  SDO/HMI HMI_FRONT2   6173.0    2145\n",
              "2014.01.01_00:56:15_TAI  SDO/HMI HMI_FRONT2   6173.0    2145\n",
              "2014.01.01_00:57:00_TAI  SDO/HMI HMI_FRONT2   6173.0    2145\n",
              "2014.01.01_00:57:45_TAI  SDO/HMI HMI_FRONT2   6173.0    2145\n",
              "2014.01.01_00:58:30_TAI  SDO/HMI HMI_FRONT2   6173.0    2145\n",
              "2014.01.01_00:59:15_TAI  SDO/HMI HMI_FRONT2   6173.0    2145\n",
              "2014.01.01_01:00:00_TAI  SDO/HMI HMI_FRONT2   6173.0    2145\n",
              "2014.01.01_01:00:45_TAI  SDO/HMI HMI_FRONT2   6173.0    2145\n",
              "Length = 81 rows\n"
            ],
            "text/html": [
              "Results from 1 Provider:</br></br>81 Results from the JSOCClient:</br><div><i>JSOCResponse length=81</i>\n",
              "<table id=\"table136835155160336\" class=\"table-striped table-bordered table-condensed\">\n",
              "<thead><tr><th>T_REC</th><th>TELESCOP</th><th>INSTRUME</th><th>WAVELNTH</th><th>CAR_ROT</th></tr></thead>\n",
              "<thead><tr><th>str23</th><th>str7</th><th>str10</th><th>float64</th><th>int64</th></tr></thead>\n",
              "<tr><td>2014.01.01_00:00:45_TAI</td><td>SDO/HMI</td><td>HMI_FRONT2</td><td>6173.0</td><td>2145</td></tr>\n",
              "<tr><td>2014.01.01_00:01:30_TAI</td><td>SDO/HMI</td><td>HMI_FRONT2</td><td>6173.0</td><td>2145</td></tr>\n",
              "<tr><td>2014.01.01_00:02:15_TAI</td><td>SDO/HMI</td><td>HMI_FRONT2</td><td>6173.0</td><td>2145</td></tr>\n",
              "<tr><td>2014.01.01_00:03:00_TAI</td><td>SDO/HMI</td><td>HMI_FRONT2</td><td>6173.0</td><td>2145</td></tr>\n",
              "<tr><td>2014.01.01_00:03:45_TAI</td><td>SDO/HMI</td><td>HMI_FRONT2</td><td>6173.0</td><td>2145</td></tr>\n",
              "<tr><td>2014.01.01_00:04:30_TAI</td><td>SDO/HMI</td><td>HMI_FRONT2</td><td>6173.0</td><td>2145</td></tr>\n",
              "<tr><td>2014.01.01_00:05:15_TAI</td><td>SDO/HMI</td><td>HMI_FRONT2</td><td>6173.0</td><td>2145</td></tr>\n",
              "<tr><td>2014.01.01_00:06:00_TAI</td><td>SDO/HMI</td><td>HMI_FRONT2</td><td>6173.0</td><td>2145</td></tr>\n",
              "<tr><td>2014.01.01_00:06:45_TAI</td><td>SDO/HMI</td><td>HMI_FRONT2</td><td>6173.0</td><td>2145</td></tr>\n",
              "<tr><td>2014.01.01_00:07:30_TAI</td><td>SDO/HMI</td><td>HMI_FRONT2</td><td>6173.0</td><td>2145</td></tr>\n",
              "<tr><td>...</td><td>...</td><td>...</td><td>...</td><td>...</td></tr>\n",
              "<tr><td>2014.01.01_00:54:00_TAI</td><td>SDO/HMI</td><td>HMI_FRONT2</td><td>6173.0</td><td>2145</td></tr>\n",
              "<tr><td>2014.01.01_00:54:45_TAI</td><td>SDO/HMI</td><td>HMI_FRONT2</td><td>6173.0</td><td>2145</td></tr>\n",
              "<tr><td>2014.01.01_00:55:30_TAI</td><td>SDO/HMI</td><td>HMI_FRONT2</td><td>6173.0</td><td>2145</td></tr>\n",
              "<tr><td>2014.01.01_00:56:15_TAI</td><td>SDO/HMI</td><td>HMI_FRONT2</td><td>6173.0</td><td>2145</td></tr>\n",
              "<tr><td>2014.01.01_00:57:00_TAI</td><td>SDO/HMI</td><td>HMI_FRONT2</td><td>6173.0</td><td>2145</td></tr>\n",
              "<tr><td>2014.01.01_00:57:45_TAI</td><td>SDO/HMI</td><td>HMI_FRONT2</td><td>6173.0</td><td>2145</td></tr>\n",
              "<tr><td>2014.01.01_00:58:30_TAI</td><td>SDO/HMI</td><td>HMI_FRONT2</td><td>6173.0</td><td>2145</td></tr>\n",
              "<tr><td>2014.01.01_00:59:15_TAI</td><td>SDO/HMI</td><td>HMI_FRONT2</td><td>6173.0</td><td>2145</td></tr>\n",
              "<tr><td>2014.01.01_01:00:00_TAI</td><td>SDO/HMI</td><td>HMI_FRONT2</td><td>6173.0</td><td>2145</td></tr>\n",
              "<tr><td>2014.01.01_01:00:45_TAI</td><td>SDO/HMI</td><td>HMI_FRONT2</td><td>6173.0</td><td>2145</td></tr>\n",
              "</table></div></br>"
            ]
          },
          "metadata": {},
          "execution_count": 13
        }
      ]
    },
    {
      "cell_type": "code",
      "source": [
        "import astropy.time\n",
        "a.Time(astropy.time.Time('2014-01-01T00:00:00', scale='tai'), astropy.time.Time('2014-01-01T01:00:00', scale='tai'))"
      ],
      "metadata": {
        "colab": {
          "base_uri": "https://localhost:8080/"
        },
        "id": "EtyHIkJqneJY",
        "outputId": "d3fd876d-3faf-45f2-9d60-048d2faa523e"
      },
      "execution_count": null,
      "outputs": [
        {
          "output_type": "execute_result",
          "data": {
            "text/plain": [
              "<sunpy.net.attrs.Time(2014-01-01 00:00:00.000, 2014-01-01 01:00:00.000)>"
            ]
          },
          "metadata": {},
          "execution_count": 16
        }
      ]
    },
    {
      "cell_type": "code",
      "source": [
        "#Also\n",
        "a.jsoc.Series('hmi.v_45s')"
      ],
      "metadata": {
        "colab": {
          "base_uri": "https://localhost:8080/"
        },
        "id": "VJtpAlHwoO1Z",
        "outputId": "6b4fb59d-d62f-490e-e1ba-779a72416260"
      },
      "execution_count": null,
      "outputs": [
        {
          "output_type": "execute_result",
          "data": {
            "text/plain": [
              "<sunpy.net.jsoc.attrs.Series(hmi.v_45s: Dopplergrams with a cadence of 45 seconds) object at\n",
              "0x7c7331a0aaa0>"
            ]
          },
          "metadata": {},
          "execution_count": 17
        }
      ]
    },
    {
      "cell_type": "markdown",
      "source": [
        "## Querying with other PrimeKeys\n",
        "\n"
      ],
      "metadata": {
        "id": "Uy3jfkbioYhA"
      }
    },
    {
      "cell_type": "code",
      "source": [
        "import astropy.units as u\n",
        "res = Fido.search(a.Time('2014-01-01T00:00:00', '2014-01-01T01:00:00'), a.jsoc.Series('aia.lev1_euv_12s'), a.Wavelength(304*u.AA))\n",
        "#Only Time and Wavelength are in-built attributes here"
      ],
      "metadata": {
        "id": "NrlUPD2Qobe4"
      },
      "execution_count": null,
      "outputs": []
    },
    {
      "cell_type": "code",
      "source": [
        "#If other PrimeKeys are to be passed\n",
        "a.jsoc.PrimeKey('HARPNUM', '4864')\n"
      ],
      "metadata": {
        "colab": {
          "base_uri": "https://localhost:8080/"
        },
        "id": "-iBGIrZGqbZi",
        "outputId": "54ba85b0-7832-4109-83dd-b1f550d7f28b"
      },
      "execution_count": null,
      "outputs": [
        {
          "output_type": "execute_result",
          "data": {
            "text/plain": [
              "<sunpy.net.jsoc.attrs.PrimeKey object at 0x7c733190d180>\n",
              "('HARPNUM', '4864')"
            ]
          },
          "metadata": {},
          "execution_count": 19
        }
      ]
    },
    {
      "cell_type": "code",
      "source": [
        "#If two or more PrimeKeys need to be passed together\n",
        "a.jsoc.PrimeKey('HARPNUM','4864') & a.jsoc.PrimeKey('CAMERA','2')"
      ],
      "metadata": {
        "colab": {
          "base_uri": "https://localhost:8080/"
        },
        "id": "xRHl3VDgqo0T",
        "outputId": "5b68942a-3d9d-4795-cc43-5b5c344a294d"
      },
      "execution_count": null,
      "outputs": [
        {
          "output_type": "execute_result",
          "data": {
            "text/plain": [
              "<AttrAnd([<sunpy.net.jsoc.attrs.PrimeKey object at 0x7c7331bbf220>\n",
              "('HARPNUM', '4864'), <sunpy.net.jsoc.attrs.PrimeKey object at 0x7c7331bbf760>\n",
              "('CAMERA', '2')])>"
            ]
          },
          "metadata": {},
          "execution_count": 20
        }
      ]
    }
  ]
}